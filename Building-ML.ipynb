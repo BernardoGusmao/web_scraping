{
 "cells": [
  {
   "cell_type": "markdown",
   "id": "32336da4-4bb2-451e-9aa0-f7589bc50322",
   "metadata": {},
   "source": [
    "# 1. Limpeza e Preparação de Dados"
   ]
  },
  {
   "cell_type": "code",
   "execution_count": 1,
   "id": "8ca8e1e0-c457-4178-9bc1-4be49facd6be",
   "metadata": {
    "scrolled": true
   },
   "outputs": [
    {
     "data": {
      "text/html": [
       "<div>\n",
       "<style scoped>\n",
       "    .dataframe tbody tr th:only-of-type {\n",
       "        vertical-align: middle;\n",
       "    }\n",
       "\n",
       "    .dataframe tbody tr th {\n",
       "        vertical-align: top;\n",
       "    }\n",
       "\n",
       "    .dataframe thead th {\n",
       "        text-align: right;\n",
       "    }\n",
       "</style>\n",
       "<table border=\"1\" class=\"dataframe\">\n",
       "  <thead>\n",
       "    <tr style=\"text-align: right;\">\n",
       "      <th></th>\n",
       "      <th>Rent_price</th>\n",
       "      <th>Bedrooms</th>\n",
       "      <th>Square_meters</th>\n",
       "      <th>Garage</th>\n",
       "      <th>Bathrooms</th>\n",
       "      <th>City</th>\n",
       "      <th>Neighborhood</th>\n",
       "    </tr>\n",
       "  </thead>\n",
       "  <tbody>\n",
       "    <tr>\n",
       "      <th>0</th>\n",
       "      <td>1.700</td>\n",
       "      <td>3</td>\n",
       "      <td>250.0</td>\n",
       "      <td>3</td>\n",
       "      <td>2.0</td>\n",
       "      <td>Uberlândia</td>\n",
       "      <td>Santa Rosa</td>\n",
       "    </tr>\n",
       "    <tr>\n",
       "      <th>1</th>\n",
       "      <td>1.600</td>\n",
       "      <td>3</td>\n",
       "      <td>150.0</td>\n",
       "      <td>0</td>\n",
       "      <td>2.0</td>\n",
       "      <td>Uberlândia</td>\n",
       "      <td>Mansour</td>\n",
       "    </tr>\n",
       "    <tr>\n",
       "      <th>2</th>\n",
       "      <td>2.000</td>\n",
       "      <td>2</td>\n",
       "      <td>120.0</td>\n",
       "      <td>1</td>\n",
       "      <td>3.0</td>\n",
       "      <td>Uberlândia</td>\n",
       "      <td>Jardim Inconfidência</td>\n",
       "    </tr>\n",
       "    <tr>\n",
       "      <th>3</th>\n",
       "      <td>4.200</td>\n",
       "      <td>4</td>\n",
       "      <td>240.0</td>\n",
       "      <td>2</td>\n",
       "      <td>4.0</td>\n",
       "      <td>Uberlândia</td>\n",
       "      <td>Segismundo Pereira</td>\n",
       "    </tr>\n",
       "    <tr>\n",
       "      <th>4</th>\n",
       "      <td>4.000</td>\n",
       "      <td>3</td>\n",
       "      <td>200.0</td>\n",
       "      <td>5</td>\n",
       "      <td>4.0</td>\n",
       "      <td>Uberlândia</td>\n",
       "      <td>Santa Mônica</td>\n",
       "    </tr>\n",
       "  </tbody>\n",
       "</table>\n",
       "</div>"
      ],
      "text/plain": [
       "  Rent_price  Bedrooms  Square_meters  Garage  Bathrooms        City  \\\n",
       "0      1.700         3          250.0       3        2.0  Uberlândia   \n",
       "1      1.600         3          150.0       0        2.0  Uberlândia   \n",
       "2      2.000         2          120.0       1        3.0  Uberlândia   \n",
       "3      4.200         4          240.0       2        4.0  Uberlândia   \n",
       "4      4.000         3          200.0       5        4.0  Uberlândia   \n",
       "\n",
       "           Neighborhood  \n",
       "0            Santa Rosa  \n",
       "1               Mansour  \n",
       "2  Jardim Inconfidência  \n",
       "3    Segismundo Pereira  \n",
       "4          Santa Mônica  "
      ]
     },
     "execution_count": 1,
     "metadata": {},
     "output_type": "execute_result"
    }
   ],
   "source": [
    "import pandas as pd\n",
    "import matplotlib.pyplot as plt\n",
    "from sklearn.model_selection import train_test_split\n",
    "from sklearn.linear_model import LinearRegression\n",
    "\n",
    "df = pd.read_csv('rent_house_price_data.csv')\n",
    "df.head()"
   ]
  },
  {
   "cell_type": "code",
   "execution_count": 2,
   "id": "230ff6de-d9c3-40ec-87fc-557150a1a12b",
   "metadata": {},
   "outputs": [
    {
     "name": "stdout",
     "output_type": "stream",
     "text": [
      "<class 'pandas.core.frame.DataFrame'>\n",
      "RangeIndex: 2545 entries, 0 to 2544\n",
      "Data columns (total 7 columns):\n",
      " #   Column         Non-Null Count  Dtype  \n",
      "---  ------         --------------  -----  \n",
      " 0   Rent_price     2537 non-null   object \n",
      " 1   Bedrooms       2545 non-null   int64  \n",
      " 2   Square_meters  2522 non-null   float64\n",
      " 3   Garage         2545 non-null   int64  \n",
      " 4   Bathrooms      2543 non-null   float64\n",
      " 5   City           2545 non-null   object \n",
      " 6   Neighborhood   2545 non-null   object \n",
      "dtypes: float64(2), int64(2), object(3)\n",
      "memory usage: 139.3+ KB\n"
     ]
    }
   ],
   "source": [
    "df.info()"
   ]
  },
  {
   "cell_type": "code",
   "execution_count": 3,
   "id": "f9b0710c-c59b-42b5-961f-fed0e4e2f538",
   "metadata": {},
   "outputs": [
    {
     "data": {
      "text/html": [
       "<div>\n",
       "<style scoped>\n",
       "    .dataframe tbody tr th:only-of-type {\n",
       "        vertical-align: middle;\n",
       "    }\n",
       "\n",
       "    .dataframe tbody tr th {\n",
       "        vertical-align: top;\n",
       "    }\n",
       "\n",
       "    .dataframe thead th {\n",
       "        text-align: right;\n",
       "    }\n",
       "</style>\n",
       "<table border=\"1\" class=\"dataframe\">\n",
       "  <thead>\n",
       "    <tr style=\"text-align: right;\">\n",
       "      <th></th>\n",
       "      <th>Bedrooms</th>\n",
       "      <th>Square_meters</th>\n",
       "      <th>Garage</th>\n",
       "      <th>Bathrooms</th>\n",
       "    </tr>\n",
       "  </thead>\n",
       "  <tbody>\n",
       "    <tr>\n",
       "      <th>count</th>\n",
       "      <td>2545.000000</td>\n",
       "      <td>2522.000000</td>\n",
       "      <td>2545.000000</td>\n",
       "      <td>2543.000000</td>\n",
       "    </tr>\n",
       "    <tr>\n",
       "      <th>mean</th>\n",
       "      <td>3.181139</td>\n",
       "      <td>261.556701</td>\n",
       "      <td>2.424361</td>\n",
       "      <td>2.804562</td>\n",
       "    </tr>\n",
       "    <tr>\n",
       "      <th>std</th>\n",
       "      <td>0.978442</td>\n",
       "      <td>824.189601</td>\n",
       "      <td>1.474054</td>\n",
       "      <td>1.431887</td>\n",
       "    </tr>\n",
       "    <tr>\n",
       "      <th>min</th>\n",
       "      <td>1.000000</td>\n",
       "      <td>3.000000</td>\n",
       "      <td>0.000000</td>\n",
       "      <td>1.000000</td>\n",
       "    </tr>\n",
       "    <tr>\n",
       "      <th>25%</th>\n",
       "      <td>3.000000</td>\n",
       "      <td>125.000000</td>\n",
       "      <td>1.000000</td>\n",
       "      <td>2.000000</td>\n",
       "    </tr>\n",
       "    <tr>\n",
       "      <th>50%</th>\n",
       "      <td>3.000000</td>\n",
       "      <td>210.000000</td>\n",
       "      <td>2.000000</td>\n",
       "      <td>3.000000</td>\n",
       "    </tr>\n",
       "    <tr>\n",
       "      <th>75%</th>\n",
       "      <td>4.000000</td>\n",
       "      <td>300.000000</td>\n",
       "      <td>4.000000</td>\n",
       "      <td>4.000000</td>\n",
       "    </tr>\n",
       "    <tr>\n",
       "      <th>max</th>\n",
       "      <td>5.000000</td>\n",
       "      <td>40000.000000</td>\n",
       "      <td>5.000000</td>\n",
       "      <td>5.000000</td>\n",
       "    </tr>\n",
       "  </tbody>\n",
       "</table>\n",
       "</div>"
      ],
      "text/plain": [
       "          Bedrooms  Square_meters       Garage    Bathrooms\n",
       "count  2545.000000    2522.000000  2545.000000  2543.000000\n",
       "mean      3.181139     261.556701     2.424361     2.804562\n",
       "std       0.978442     824.189601     1.474054     1.431887\n",
       "min       1.000000       3.000000     0.000000     1.000000\n",
       "25%       3.000000     125.000000     1.000000     2.000000\n",
       "50%       3.000000     210.000000     2.000000     3.000000\n",
       "75%       4.000000     300.000000     4.000000     4.000000\n",
       "max       5.000000   40000.000000     5.000000     5.000000"
      ]
     },
     "execution_count": 3,
     "metadata": {},
     "output_type": "execute_result"
    }
   ],
   "source": [
    "df.describe()"
   ]
  },
  {
   "cell_type": "markdown",
   "id": "e7838175-400a-4683-976e-2e62d71881f2",
   "metadata": {},
   "source": [
    "### 1.1 Tratando valores nulos"
   ]
  },
  {
   "cell_type": "code",
   "execution_count": 4,
   "id": "058d2496-d0a1-41ce-a914-aba2bd4858a1",
   "metadata": {},
   "outputs": [
    {
     "data": {
      "text/plain": [
       "Rent_price        True\n",
       "Bedrooms         False\n",
       "Square_meters     True\n",
       "Garage           False\n",
       "Bathrooms         True\n",
       "City             False\n",
       "Neighborhood     False\n",
       "dtype: bool"
      ]
     },
     "execution_count": 4,
     "metadata": {},
     "output_type": "execute_result"
    }
   ],
   "source": [
    "df.isnull().any()"
   ]
  },
  {
   "cell_type": "code",
   "execution_count": 5,
   "id": "49297296-1a6a-4da6-a3f7-774875f731bf",
   "metadata": {},
   "outputs": [
    {
     "data": {
      "text/plain": [
       "Rent_price        8\n",
       "Bedrooms          0\n",
       "Square_meters    23\n",
       "Garage            0\n",
       "Bathrooms         2\n",
       "City              0\n",
       "Neighborhood      0\n",
       "dtype: int64"
      ]
     },
     "execution_count": 5,
     "metadata": {},
     "output_type": "execute_result"
    }
   ],
   "source": [
    "df.isnull().sum()"
   ]
  },
  {
   "cell_type": "code",
   "execution_count": 6,
   "id": "15370c0a-f205-4f3a-870b-674592c1c7c8",
   "metadata": {},
   "outputs": [
    {
     "data": {
      "text/plain": [
       "(2519, 7)"
      ]
     },
     "execution_count": 6,
     "metadata": {},
     "output_type": "execute_result"
    }
   ],
   "source": [
    "df = df.dropna(axis=0)\n",
    "df.shape"
   ]
  },
  {
   "cell_type": "code",
   "execution_count": 7,
   "id": "f7b64793-da0d-49d6-8cc7-28ae1c14e46b",
   "metadata": {},
   "outputs": [
    {
     "data": {
      "text/plain": [
       "Rent_price       False\n",
       "Bedrooms         False\n",
       "Square_meters    False\n",
       "Garage           False\n",
       "Bathrooms        False\n",
       "City             False\n",
       "Neighborhood     False\n",
       "dtype: bool"
      ]
     },
     "execution_count": 7,
     "metadata": {},
     "output_type": "execute_result"
    }
   ],
   "source": [
    "df.isnull().any()"
   ]
  },
  {
   "cell_type": "code",
   "execution_count": 8,
   "id": "cb6cc028-6921-43eb-b7e4-3d6d13206704",
   "metadata": {},
   "outputs": [],
   "source": [
    "df.reset_index(drop=True, inplace=True)"
   ]
  },
  {
   "cell_type": "markdown",
   "id": "5cfb8b2f-237a-4073-b793-58889d7f7280",
   "metadata": {},
   "source": [
    "### 1.2 Correção de Tipos de Dados"
   ]
  },
  {
   "cell_type": "code",
   "execution_count": 9,
   "id": "6f0690dd-2d0e-400c-b414-a7b053e4f202",
   "metadata": {},
   "outputs": [],
   "source": [
    "df['Rent_price'] = df['Rent_price'].str.replace('.', '').str.strip()\n",
    "df['Rent_price'] = df['Rent_price'].astype(float)\n",
    "df['Bathrooms'] = df['Bathrooms'].astype(int)"
   ]
  },
  {
   "cell_type": "code",
   "execution_count": 10,
   "id": "23a1e857-e70c-4ce5-add7-a9bfb4cfef59",
   "metadata": {},
   "outputs": [
    {
     "name": "stdout",
     "output_type": "stream",
     "text": [
      "<class 'pandas.core.frame.DataFrame'>\n",
      "RangeIndex: 2519 entries, 0 to 2518\n",
      "Data columns (total 7 columns):\n",
      " #   Column         Non-Null Count  Dtype  \n",
      "---  ------         --------------  -----  \n",
      " 0   Rent_price     2519 non-null   float64\n",
      " 1   Bedrooms       2519 non-null   int64  \n",
      " 2   Square_meters  2519 non-null   float64\n",
      " 3   Garage         2519 non-null   int64  \n",
      " 4   Bathrooms      2519 non-null   int32  \n",
      " 5   City           2519 non-null   object \n",
      " 6   Neighborhood   2519 non-null   object \n",
      "dtypes: float64(2), int32(1), int64(2), object(2)\n",
      "memory usage: 128.0+ KB\n"
     ]
    }
   ],
   "source": [
    "df.info()"
   ]
  },
  {
   "cell_type": "markdown",
   "id": "6e81e9a6-3710-41af-a79f-6e2010ce0035",
   "metadata": {},
   "source": [
    "### 1.3 Tratando casas duplicadas"
   ]
  },
  {
   "cell_type": "code",
   "execution_count": 11,
   "id": "bb776e0b-caac-428d-b558-75eb030e7a4b",
   "metadata": {
    "scrolled": true
   },
   "outputs": [
    {
     "name": "stdout",
     "output_type": "stream",
     "text": [
      "DataFrame original:\n",
      "      Rent_price  Bedrooms  Square_meters  Garage  Bathrooms        City  \\\n",
      "0         1700.0         3          250.0       3          2  Uberlândia   \n",
      "1         1600.0         3          150.0       0          2  Uberlândia   \n",
      "2         2000.0         2          120.0       1          3  Uberlândia   \n",
      "3         4200.0         4          240.0       2          4  Uberlândia   \n",
      "4         4000.0         3          200.0       5          4  Uberlândia   \n",
      "...          ...       ...            ...     ...        ...         ...   \n",
      "2514      8000.0         3          300.0       5          4  Uberlândia   \n",
      "2515     10000.0         4          310.0       4          3  Uberlândia   \n",
      "2516      8000.0         4          300.0       5          4  Uberlândia   \n",
      "2517      5010.0         3          370.0       4          3  Uberlândia   \n",
      "2518      6000.0         5          205.0       2          3  Uberlândia   \n",
      "\n",
      "              Neighborhood  \n",
      "0               Santa Rosa  \n",
      "1                  Mansour  \n",
      "2     Jardim Inconfidência  \n",
      "3       Segismundo Pereira  \n",
      "4             Santa Mônica  \n",
      "...                    ...  \n",
      "2514      Morada da Colina  \n",
      "2515                 Gávea  \n",
      "2516             Tabajaras  \n",
      "2517           Santa Luzia  \n",
      "2518             Bom Jesus  \n",
      "\n",
      "[2519 rows x 7 columns]\n",
      "\n",
      "DataFrame com duplicatas:\n",
      "      Rent_price  Bedrooms  Square_meters  Garage  Bathrooms        City  \\\n",
      "7         4500.0         5          300.0       2          5  Uberlândia   \n",
      "11       28000.0         4          800.0       5          5  Uberlândia   \n",
      "36        3200.0         3           90.0       2          2  Uberlândia   \n",
      "37        2700.0         2          143.0       2          2  Uberlândia   \n",
      "38       28000.0         4          800.0       5          5  Uberlândia   \n",
      "...          ...       ...            ...     ...        ...         ...   \n",
      "2501     15000.0         4          337.0       2          5  Uberlândia   \n",
      "2505      9500.0         5          480.0       2          5  Uberlândia   \n",
      "2507      5000.0         4          283.0       1          2  Uberlândia   \n",
      "2511      3500.0         3          175.0       2          2  Uberlândia   \n",
      "2513      9800.0         5          500.0       5          5  Uberlândia   \n",
      "\n",
      "            Neighborhood  \n",
      "7       Vigilato Pereira  \n",
      "11      Morada da Colina  \n",
      "36    Bosque dos Buritis  \n",
      "37               Granada  \n",
      "38      Morada da Colina  \n",
      "...                  ...  \n",
      "2501     Nova Uberlândia  \n",
      "2505       Cidade Jardim  \n",
      "2507              Centro  \n",
      "2511     Jardim Patrícia  \n",
      "2513       Cidade Jardim  \n",
      "\n",
      "[325 rows x 7 columns]\n"
     ]
    }
   ],
   "source": [
    "duplicates_houses = df.duplicated(subset=[\"Rent_price\", \"Bedrooms\", \"Square_meters\", \"Garage\", \"Bathrooms\",\"City\", \"Neighborhood\"], keep=False)\n",
    "\n",
    "duplicates_houses_df = df[duplicates_houses]\n",
    "\n",
    "print(\"DataFrame original:\")\n",
    "print(df)\n",
    "print(\"\\nDataFrame com duplicatas:\")\n",
    "print(duplicates_houses_df)"
   ]
  },
  {
   "cell_type": "code",
   "execution_count": 12,
   "id": "c342815b-6df9-4cd8-afab-0dc0e1ade280",
   "metadata": {},
   "outputs": [
    {
     "data": {
      "text/plain": [
       "(2341, 7)"
      ]
     },
     "execution_count": 12,
     "metadata": {},
     "output_type": "execute_result"
    }
   ],
   "source": [
    "df = df.drop_duplicates(subset=['Rent_price', 'Bedrooms', 'Square_meters', 'Garage', 'Bathrooms', 'City', 'Neighborhood'])\n",
    "df.reset_index(drop=True, inplace=True)\n",
    "df.shape"
   ]
  },
  {
   "cell_type": "markdown",
   "id": "368eeb1f-ce79-480e-ac25-4aef48be0eaa",
   "metadata": {},
   "source": [
    "### 1.4 Transformação de Atributos\n",
    "    Aqui vou padronizar algumas colunas, utilizar o one hot encoding e remover colunas que não serão utilizadas."
   ]
  },
  {
   "cell_type": "markdown",
   "id": "8b68637b-bc36-4c24-886c-ef83fb128720",
   "metadata": {},
   "source": [
    "Padronizando a coluna 'Square_meters'"
   ]
  },
  {
   "cell_type": "code",
   "execution_count": 13,
   "id": "1ac64504-9072-48f4-823b-193c37f3420c",
   "metadata": {},
   "outputs": [],
   "source": [
    "df = df[df['Square_meters'] <= 2550]\n",
    "df = df[(df['Rent_price'] < 15000) & (df['Rent_price'] >= 500)]"
   ]
  },
  {
   "cell_type": "code",
   "execution_count": 14,
   "id": "3875f4c0-33da-4588-b22c-36faa4e13a2b",
   "metadata": {},
   "outputs": [],
   "source": [
    "\n",
    "Square_meters_mean = df['Square_meters'].mean()\n",
    "Square_meters_std = df['Square_meters'].std()\n",
    "\n",
    "df.loc[:,'Square_meters_std'] = df['Square_meters'].apply(lambda num: (num - Square_meters_mean) / Square_meters_std)\n"
   ]
  },
  {
   "cell_type": "code",
   "execution_count": 15,
   "id": "e6e9b0fb-25ea-40c2-99ee-a29ad3665486",
   "metadata": {},
   "outputs": [
    {
     "data": {
      "text/html": [
       "<div>\n",
       "<style scoped>\n",
       "    .dataframe tbody tr th:only-of-type {\n",
       "        vertical-align: middle;\n",
       "    }\n",
       "\n",
       "    .dataframe tbody tr th {\n",
       "        vertical-align: top;\n",
       "    }\n",
       "\n",
       "    .dataframe thead th {\n",
       "        text-align: right;\n",
       "    }\n",
       "</style>\n",
       "<table border=\"1\" class=\"dataframe\">\n",
       "  <thead>\n",
       "    <tr style=\"text-align: right;\">\n",
       "      <th></th>\n",
       "      <th>Rent_price</th>\n",
       "      <th>Bedrooms</th>\n",
       "      <th>Square_meters</th>\n",
       "      <th>Garage</th>\n",
       "      <th>Bathrooms</th>\n",
       "      <th>City</th>\n",
       "      <th>Neighborhood</th>\n",
       "      <th>Square_meters_std</th>\n",
       "    </tr>\n",
       "  </thead>\n",
       "  <tbody>\n",
       "    <tr>\n",
       "      <th>0</th>\n",
       "      <td>1700.0</td>\n",
       "      <td>3</td>\n",
       "      <td>250.0</td>\n",
       "      <td>3</td>\n",
       "      <td>2</td>\n",
       "      <td>Uberlândia</td>\n",
       "      <td>Santa Rosa</td>\n",
       "      <td>0.283786</td>\n",
       "    </tr>\n",
       "    <tr>\n",
       "      <th>1</th>\n",
       "      <td>1600.0</td>\n",
       "      <td>3</td>\n",
       "      <td>150.0</td>\n",
       "      <td>0</td>\n",
       "      <td>2</td>\n",
       "      <td>Uberlândia</td>\n",
       "      <td>Mansour</td>\n",
       "      <td>-0.488136</td>\n",
       "    </tr>\n",
       "    <tr>\n",
       "      <th>2</th>\n",
       "      <td>2000.0</td>\n",
       "      <td>2</td>\n",
       "      <td>120.0</td>\n",
       "      <td>1</td>\n",
       "      <td>3</td>\n",
       "      <td>Uberlândia</td>\n",
       "      <td>Jardim Inconfidência</td>\n",
       "      <td>-0.719713</td>\n",
       "    </tr>\n",
       "    <tr>\n",
       "      <th>3</th>\n",
       "      <td>4200.0</td>\n",
       "      <td>4</td>\n",
       "      <td>240.0</td>\n",
       "      <td>2</td>\n",
       "      <td>4</td>\n",
       "      <td>Uberlândia</td>\n",
       "      <td>Segismundo Pereira</td>\n",
       "      <td>0.206593</td>\n",
       "    </tr>\n",
       "    <tr>\n",
       "      <th>4</th>\n",
       "      <td>4000.0</td>\n",
       "      <td>3</td>\n",
       "      <td>200.0</td>\n",
       "      <td>5</td>\n",
       "      <td>4</td>\n",
       "      <td>Uberlândia</td>\n",
       "      <td>Santa Mônica</td>\n",
       "      <td>-0.102175</td>\n",
       "    </tr>\n",
       "  </tbody>\n",
       "</table>\n",
       "</div>"
      ],
      "text/plain": [
       "   Rent_price  Bedrooms  Square_meters  Garage  Bathrooms        City  \\\n",
       "0      1700.0         3          250.0       3          2  Uberlândia   \n",
       "1      1600.0         3          150.0       0          2  Uberlândia   \n",
       "2      2000.0         2          120.0       1          3  Uberlândia   \n",
       "3      4200.0         4          240.0       2          4  Uberlândia   \n",
       "4      4000.0         3          200.0       5          4  Uberlândia   \n",
       "\n",
       "           Neighborhood  Square_meters_std  \n",
       "0            Santa Rosa           0.283786  \n",
       "1               Mansour          -0.488136  \n",
       "2  Jardim Inconfidência          -0.719713  \n",
       "3    Segismundo Pereira           0.206593  \n",
       "4          Santa Mônica          -0.102175  "
      ]
     },
     "execution_count": 15,
     "metadata": {},
     "output_type": "execute_result"
    }
   ],
   "source": [
    "df.head()"
   ]
  },
  {
   "cell_type": "code",
   "execution_count": 16,
   "id": "b9ad2198-3a4d-4d7c-90f7-2f725d2be8eb",
   "metadata": {},
   "outputs": [
    {
     "name": "stdout",
     "output_type": "stream",
     "text": [
      "      Rent_price  Bedrooms  Square_meters  Garage  Bathrooms        City  \\\n",
      "2335     10000.0         5         1500.0       5          5  Uberlândia   \n",
      "2052      3000.0         3         1100.0       2          1  Uberlândia   \n",
      "832       9000.0         5          900.0       5          5  Uberlândia   \n",
      "1706     12000.0         4          800.0       5          5  Uberlândia   \n",
      "1516      5000.0         5          711.0       5          2  Uberlândia   \n",
      "\n",
      "            Neighborhood  Square_meters_std  \n",
      "2335           Tocantins           9.932811  \n",
      "2052  Bosque dos Buritis           6.845123  \n",
      "832    Mansões Aeroporto           5.301279  \n",
      "1706      Jardim Karaíba           4.529357  \n",
      "1516             Martins           3.842346  \n"
     ]
    }
   ],
   "source": [
    "df_sorted_by_square_meters_std = df.sort_values(by='Square_meters_std', ascending=False)\n",
    "print(df_sorted_by_square_meters_std.head())\n"
   ]
  },
  {
   "cell_type": "code",
   "execution_count": 17,
   "id": "4be1e42f-7e15-469e-b93c-3c1adbb20515",
   "metadata": {},
   "outputs": [
    {
     "name": "stdout",
     "output_type": "stream",
     "text": [
      "      Rent_price  Bedrooms  Square_meters  Garage  Bathrooms        City  \\\n",
      "2335     10000.0         5         1500.0       5          5  Uberlândia   \n",
      "2052      3000.0         3         1100.0       2          1  Uberlândia   \n",
      "832       9000.0         5          900.0       5          5  Uberlândia   \n",
      "1706     12000.0         4          800.0       5          5  Uberlândia   \n",
      "1516      5000.0         5          711.0       5          2  Uberlândia   \n",
      "\n",
      "            Neighborhood  Square_meters_std  \n",
      "2335           Tocantins           9.932811  \n",
      "2052  Bosque dos Buritis           6.845123  \n",
      "832    Mansões Aeroporto           5.301279  \n",
      "1706      Jardim Karaíba           4.529357  \n",
      "1516             Martins           3.842346  \n"
     ]
    }
   ],
   "source": [
    "df_sorted_by_square_meters = df.sort_values(by='Square_meters', ascending=False)\n",
    "print(df_sorted_by_square_meters.head())\n"
   ]
  },
  {
   "cell_type": "code",
   "execution_count": 18,
   "id": "54fea890-055f-4a71-a5f3-09a08115072d",
   "metadata": {},
   "outputs": [
    {
     "data": {
      "text/html": [
       "<div>\n",
       "<style scoped>\n",
       "    .dataframe tbody tr th:only-of-type {\n",
       "        vertical-align: middle;\n",
       "    }\n",
       "\n",
       "    .dataframe tbody tr th {\n",
       "        vertical-align: top;\n",
       "    }\n",
       "\n",
       "    .dataframe thead th {\n",
       "        text-align: right;\n",
       "    }\n",
       "</style>\n",
       "<table border=\"1\" class=\"dataframe\">\n",
       "  <thead>\n",
       "    <tr style=\"text-align: right;\">\n",
       "      <th></th>\n",
       "      <th>Rent_price</th>\n",
       "      <th>Bedrooms</th>\n",
       "      <th>Square_meters</th>\n",
       "      <th>Garage</th>\n",
       "      <th>Bathrooms</th>\n",
       "      <th>City</th>\n",
       "      <th>Neighborhood</th>\n",
       "      <th>Square_meters_std</th>\n",
       "    </tr>\n",
       "  </thead>\n",
       "  <tbody>\n",
       "    <tr>\n",
       "      <th>1533</th>\n",
       "      <td>14500.0</td>\n",
       "      <td>3</td>\n",
       "      <td>347.0</td>\n",
       "      <td>3</td>\n",
       "      <td>4</td>\n",
       "      <td>Uberlândia</td>\n",
       "      <td>Gávea</td>\n",
       "      <td>1.032550</td>\n",
       "    </tr>\n",
       "    <tr>\n",
       "      <th>388</th>\n",
       "      <td>14500.0</td>\n",
       "      <td>5</td>\n",
       "      <td>570.0</td>\n",
       "      <td>5</td>\n",
       "      <td>2</td>\n",
       "      <td>Uberlândia</td>\n",
       "      <td>Morada do Sol</td>\n",
       "      <td>2.753936</td>\n",
       "    </tr>\n",
       "    <tr>\n",
       "      <th>1664</th>\n",
       "      <td>14500.0</td>\n",
       "      <td>4</td>\n",
       "      <td>350.0</td>\n",
       "      <td>3</td>\n",
       "      <td>3</td>\n",
       "      <td>Uberlândia</td>\n",
       "      <td>Gávea</td>\n",
       "      <td>1.055708</td>\n",
       "    </tr>\n",
       "    <tr>\n",
       "      <th>681</th>\n",
       "      <td>14500.0</td>\n",
       "      <td>4</td>\n",
       "      <td>347.0</td>\n",
       "      <td>3</td>\n",
       "      <td>5</td>\n",
       "      <td>Uberlândia</td>\n",
       "      <td>Gávea</td>\n",
       "      <td>1.032550</td>\n",
       "    </tr>\n",
       "    <tr>\n",
       "      <th>417</th>\n",
       "      <td>14500.0</td>\n",
       "      <td>4</td>\n",
       "      <td>10.0</td>\n",
       "      <td>3</td>\n",
       "      <td>2</td>\n",
       "      <td>Uberlândia</td>\n",
       "      <td>Gávea</td>\n",
       "      <td>-1.568827</td>\n",
       "    </tr>\n",
       "    <tr>\n",
       "      <th>...</th>\n",
       "      <td>...</td>\n",
       "      <td>...</td>\n",
       "      <td>...</td>\n",
       "      <td>...</td>\n",
       "      <td>...</td>\n",
       "      <td>...</td>\n",
       "      <td>...</td>\n",
       "      <td>...</td>\n",
       "    </tr>\n",
       "    <tr>\n",
       "      <th>343</th>\n",
       "      <td>550.0</td>\n",
       "      <td>1</td>\n",
       "      <td>54.0</td>\n",
       "      <td>0</td>\n",
       "      <td>1</td>\n",
       "      <td>Uberlândia</td>\n",
       "      <td>Nossa Senhora Aparecida</td>\n",
       "      <td>-1.229182</td>\n",
       "    </tr>\n",
       "    <tr>\n",
       "      <th>2165</th>\n",
       "      <td>550.0</td>\n",
       "      <td>2</td>\n",
       "      <td>36.0</td>\n",
       "      <td>0</td>\n",
       "      <td>1</td>\n",
       "      <td>Uberlândia</td>\n",
       "      <td>Custódio Pereira</td>\n",
       "      <td>-1.368128</td>\n",
       "    </tr>\n",
       "    <tr>\n",
       "      <th>899</th>\n",
       "      <td>550.0</td>\n",
       "      <td>1</td>\n",
       "      <td>30.0</td>\n",
       "      <td>0</td>\n",
       "      <td>1</td>\n",
       "      <td>Uberlândia</td>\n",
       "      <td>Santa Mônica</td>\n",
       "      <td>-1.414443</td>\n",
       "    </tr>\n",
       "    <tr>\n",
       "      <th>2197</th>\n",
       "      <td>550.0</td>\n",
       "      <td>2</td>\n",
       "      <td>54.0</td>\n",
       "      <td>0</td>\n",
       "      <td>1</td>\n",
       "      <td>Uberlândia</td>\n",
       "      <td>Chácaras Tubalina e Quartel</td>\n",
       "      <td>-1.229182</td>\n",
       "    </tr>\n",
       "    <tr>\n",
       "      <th>148</th>\n",
       "      <td>550.0</td>\n",
       "      <td>1</td>\n",
       "      <td>38.0</td>\n",
       "      <td>0</td>\n",
       "      <td>1</td>\n",
       "      <td>Uberlândia</td>\n",
       "      <td>Planalto</td>\n",
       "      <td>-1.352689</td>\n",
       "    </tr>\n",
       "  </tbody>\n",
       "</table>\n",
       "<p>2148 rows × 8 columns</p>\n",
       "</div>"
      ],
      "text/plain": [
       "      Rent_price  Bedrooms  Square_meters  Garage  Bathrooms        City  \\\n",
       "1533     14500.0         3          347.0       3          4  Uberlândia   \n",
       "388      14500.0         5          570.0       5          2  Uberlândia   \n",
       "1664     14500.0         4          350.0       3          3  Uberlândia   \n",
       "681      14500.0         4          347.0       3          5  Uberlândia   \n",
       "417      14500.0         4           10.0       3          2  Uberlândia   \n",
       "...          ...       ...            ...     ...        ...         ...   \n",
       "343        550.0         1           54.0       0          1  Uberlândia   \n",
       "2165       550.0         2           36.0       0          1  Uberlândia   \n",
       "899        550.0         1           30.0       0          1  Uberlândia   \n",
       "2197       550.0         2           54.0       0          1  Uberlândia   \n",
       "148        550.0         1           38.0       0          1  Uberlândia   \n",
       "\n",
       "                     Neighborhood  Square_meters_std  \n",
       "1533                        Gávea           1.032550  \n",
       "388                 Morada do Sol           2.753936  \n",
       "1664                        Gávea           1.055708  \n",
       "681                         Gávea           1.032550  \n",
       "417                         Gávea          -1.568827  \n",
       "...                           ...                ...  \n",
       "343       Nossa Senhora Aparecida          -1.229182  \n",
       "2165             Custódio Pereira          -1.368128  \n",
       "899                  Santa Mônica          -1.414443  \n",
       "2197  Chácaras Tubalina e Quartel          -1.229182  \n",
       "148                      Planalto          -1.352689  \n",
       "\n",
       "[2148 rows x 8 columns]"
      ]
     },
     "execution_count": 18,
     "metadata": {},
     "output_type": "execute_result"
    }
   ],
   "source": [
    "df_sorted_by_rent_price = df.sort_values(by='Rent_price', ascending=False)\n",
    "df_sorted_by_rent_price\n"
   ]
  },
  {
   "cell_type": "markdown",
   "id": "4404e56a-a0a5-4b59-8f4c-7bff1fdae9ca",
   "metadata": {},
   "source": [
    "Agora vou preparar a coluna 'Neighborhood' para o processo de one hot encoding"
   ]
  },
  {
   "cell_type": "code",
   "execution_count": 19,
   "id": "b4a67a0e-ce73-401b-a3f1-54f3b5fa564e",
   "metadata": {},
   "outputs": [
    {
     "name": "stdout",
     "output_type": "stream",
     "text": [
      "Neighborhood\n",
      "Cidade Jardim              130\n",
      "Santa Mônica               128\n",
      "Martins                    108\n",
      "Jardim Karaíba             100\n",
      "Nossa Senhora Aparecida     97\n",
      "                          ... \n",
      "Mansour III                  1\n",
      "Copacabana                   1\n",
      "São José                     1\n",
      "Chácaras Eldorado            1\n",
      "Residencial Nosso Lar        1\n",
      "Name: count, Length: 75, dtype: int64\n"
     ]
    }
   ],
   "source": [
    "# Conta o número de ocorrências de cada bairro\n",
    "neighborhood_count = df['Neighborhood'].value_counts()\n",
    "\n",
    "print(neighborhood_count)"
   ]
  },
  {
   "cell_type": "code",
   "execution_count": 20,
   "id": "ed3570c9-061c-4f36-b423-cc0eb5028d95",
   "metadata": {},
   "outputs": [
    {
     "data": {
      "image/png": "[encoded data removed]",
      "text/plain": [
       "<Figure size 1500x600 with 1 Axes>"
      ]
     },
     "metadata": {},
     "output_type": "display_data"
    }
   ],
   "source": [
    "plt.figure(figsize=(15, 6))\n",
    "neighborhood_count.plot(kind='bar')\n",
    "plt.title('Distribuição dos Bairros')\n",
    "plt.xlabel('Bairros')\n",
    "plt.ylabel('Contagem')\n",
    "plt.show()"
   ]
  },
  {
   "cell_type": "code",
   "execution_count": 21,
   "id": "22ee164d-090b-45ed-8850-bfcd631b9fa2",
   "metadata": {},
   "outputs": [
    {
     "name": "stdout",
     "output_type": "stream",
     "text": [
      "Número de bairros abaixo do limiar de 21.48 observações: 45\n",
      "Bairros abaixo do limiar: ['Daniel Fonseca', 'Bom Jesus', 'Alto Umuarama', 'Cazeca', 'Granada', 'Jardim das Palmeiras', 'Santa Rosa', 'Grand Ville', 'Planalto', 'Novo Mundo', 'Marta Helena', 'Santa Luzia', 'Jardim Brasília', 'Gávea', 'Patrimônio', 'Luizote de Freitas', 'Jaraguá', 'Lagoinha', 'Minas Gerais', 'Nossa Senhora das Graças', 'Pacaembu', 'Taiaman', 'Pampulha', 'Tocantins', 'Jardim Canaã', 'São Jorge', 'Jardim Sul', 'Chácaras Tubalina e Quartel', 'Mansões Aeroporto', 'Morada do Sol', 'Jardim Holanda', 'Residencial Viviane', 'Mansour', 'Morada dos Pássaros', 'Morumbi', 'Maravilha', 'Guarani', 'Jardim Ipanema', 'Dona Zulmira', 'Panorama', 'Mansour III', 'Copacabana', 'São José', 'Chácaras Eldorado', 'Residencial Nosso Lar']\n"
     ]
    }
   ],
   "source": [
    "total_observations = len(df)\n",
    "limit_percentage = 0.01  # 1% do total\n",
    "\n",
    "threshold = total_observations * limit_percentage\n",
    "\n",
    "# Verifica quantos bairros estão abaixo do limiar\n",
    "neighborhoods_below_threshold = neighborhood_count[neighborhood_count < threshold]\n",
    "\n",
    "print(f'Número de bairros abaixo do limiar de {threshold} observações: {len(neighborhoods_below_threshold)}')\n",
    "print(f'Bairros abaixo do limiar: {neighborhoods_below_threshold.index.tolist()}')\n"
   ]
  },
  {
   "cell_type": "markdown",
   "id": "7aafbc24-c415-4957-86a3-d3f913213fb8",
   "metadata": {},
   "source": [
    "Se percebe que alguns bairros têm uma ocorrência muito baixa na base de dados, o que pode afetar a generalização do modelo de ML.\n",
    "Então, uma das formas de lidar com isso é selecionar os bairros de baixa ocorrência e criar uma categoria 'outros' para que assim eles não afetem significativamente o desempenho do modelo. "
   ]
  },
  {
   "cell_type": "code",
   "execution_count": 22,
   "id": "36ef85e1-7e4a-4341-9f06-c265ba7525ab",
   "metadata": {},
   "outputs": [
    {
     "data": {
      "text/html": [
       "<div>\n",
       "<style scoped>\n",
       "    .dataframe tbody tr th:only-of-type {\n",
       "        vertical-align: middle;\n",
       "    }\n",
       "\n",
       "    .dataframe tbody tr th {\n",
       "        vertical-align: top;\n",
       "    }\n",
       "\n",
       "    .dataframe thead th {\n",
       "        text-align: right;\n",
       "    }\n",
       "</style>\n",
       "<table border=\"1\" class=\"dataframe\">\n",
       "  <thead>\n",
       "    <tr style=\"text-align: right;\">\n",
       "      <th></th>\n",
       "      <th>Rent_price</th>\n",
       "      <th>Bedrooms</th>\n",
       "      <th>Square_meters</th>\n",
       "      <th>Garage</th>\n",
       "      <th>Bathrooms</th>\n",
       "      <th>City</th>\n",
       "      <th>Neighborhood</th>\n",
       "      <th>Square_meters_std</th>\n",
       "    </tr>\n",
       "  </thead>\n",
       "  <tbody>\n",
       "    <tr>\n",
       "      <th>0</th>\n",
       "      <td>1700.0</td>\n",
       "      <td>3</td>\n",
       "      <td>250.0</td>\n",
       "      <td>3</td>\n",
       "      <td>2</td>\n",
       "      <td>Uberlândia</td>\n",
       "      <td>Outros</td>\n",
       "      <td>0.283786</td>\n",
       "    </tr>\n",
       "    <tr>\n",
       "      <th>1</th>\n",
       "      <td>1600.0</td>\n",
       "      <td>3</td>\n",
       "      <td>150.0</td>\n",
       "      <td>0</td>\n",
       "      <td>2</td>\n",
       "      <td>Uberlândia</td>\n",
       "      <td>Outros</td>\n",
       "      <td>-0.488136</td>\n",
       "    </tr>\n",
       "    <tr>\n",
       "      <th>2</th>\n",
       "      <td>2000.0</td>\n",
       "      <td>2</td>\n",
       "      <td>120.0</td>\n",
       "      <td>1</td>\n",
       "      <td>3</td>\n",
       "      <td>Uberlândia</td>\n",
       "      <td>Jardim Inconfidência</td>\n",
       "      <td>-0.719713</td>\n",
       "    </tr>\n",
       "    <tr>\n",
       "      <th>3</th>\n",
       "      <td>4200.0</td>\n",
       "      <td>4</td>\n",
       "      <td>240.0</td>\n",
       "      <td>2</td>\n",
       "      <td>4</td>\n",
       "      <td>Uberlândia</td>\n",
       "      <td>Segismundo Pereira</td>\n",
       "      <td>0.206593</td>\n",
       "    </tr>\n",
       "    <tr>\n",
       "      <th>4</th>\n",
       "      <td>4000.0</td>\n",
       "      <td>3</td>\n",
       "      <td>200.0</td>\n",
       "      <td>5</td>\n",
       "      <td>4</td>\n",
       "      <td>Uberlândia</td>\n",
       "      <td>Santa Mônica</td>\n",
       "      <td>-0.102175</td>\n",
       "    </tr>\n",
       "  </tbody>\n",
       "</table>\n",
       "</div>"
      ],
      "text/plain": [
       "   Rent_price  Bedrooms  Square_meters  Garage  Bathrooms        City  \\\n",
       "0      1700.0         3          250.0       3          2  Uberlândia   \n",
       "1      1600.0         3          150.0       0          2  Uberlândia   \n",
       "2      2000.0         2          120.0       1          3  Uberlândia   \n",
       "3      4200.0         4          240.0       2          4  Uberlândia   \n",
       "4      4000.0         3          200.0       5          4  Uberlândia   \n",
       "\n",
       "           Neighborhood  Square_meters_std  \n",
       "0                Outros           0.283786  \n",
       "1                Outros          -0.488136  \n",
       "2  Jardim Inconfidência          -0.719713  \n",
       "3    Segismundo Pereira           0.206593  \n",
       "4          Santa Mônica          -0.102175  "
      ]
     },
     "execution_count": 22,
     "metadata": {},
     "output_type": "execute_result"
    }
   ],
   "source": [
    "rare_neighborhoods = neighborhood_count[neighborhood_count < threshold].index\n",
    "\n",
    "# Substituindo os bairros raros pela categoria 'Outros'\n",
    "df['Neighborhood'] = df['Neighborhood'].apply(lambda x: 'Outros' if x in rare_neighborhoods else x)\n",
    "df.head()"
   ]
  },
  {
   "cell_type": "code",
   "execution_count": 23,
   "id": "1a02aa1b-1492-48a4-a19b-385a274f01a2",
   "metadata": {},
   "outputs": [],
   "source": [
    "# One-hot encoding na coluna 'Neighborhood'\n",
    "dummies = pd.get_dummies(df.Neighborhood, dtype=int)\n",
    "df = pd.concat([df,dummies], axis='columns')"
   ]
  },
  {
   "cell_type": "code",
   "execution_count": 24,
   "id": "7b366fae-d2bf-46fc-b7eb-5055f3e8cc23",
   "metadata": {},
   "outputs": [
    {
     "data": {
      "text/plain": [
       "(2148, 36)"
      ]
     },
     "execution_count": 24,
     "metadata": {},
     "output_type": "execute_result"
    }
   ],
   "source": [
    "# Removendo colunas que não vão mais ser utilizadas\n",
    "df.drop(['Square_meters','Neighborhood','City'], axis=1, inplace=True)\n",
    "df.reset_index(drop=True, inplace=True)\n",
    "df.shape\n"
   ]
  },
  {
   "cell_type": "markdown",
   "id": "4855b293-b441-433f-bbdb-ef727ee5bcd3",
   "metadata": {},
   "source": [
    "# 2. Separando Dados"
   ]
  },
  {
   "cell_type": "code",
   "execution_count": 25,
   "id": "ee279def-ab2f-4b30-8c8f-0440ba186a67",
   "metadata": {},
   "outputs": [],
   "source": [
    "predictors_train, predictors_test, target_train, target_test = train_test_split(\n",
    "    df.drop(['Rent_price'], axis=1),\n",
    "    df['Rent_price'],\n",
    "    test_size = 0.25,\n",
    "    random_state = 123  \n",
    ")"
   ]
  },
  {
   "cell_type": "code",
   "execution_count": 26,
   "id": "266eb244-9964-4618-9674-9a192ec9aedc",
   "metadata": {},
   "outputs": [
    {
     "data": {
      "text/html": [
       "<div>\n",
       "<style scoped>\n",
       "    .dataframe tbody tr th:only-of-type {\n",
       "        vertical-align: middle;\n",
       "    }\n",
       "\n",
       "    .dataframe tbody tr th {\n",
       "        vertical-align: top;\n",
       "    }\n",
       "\n",
       "    .dataframe thead th {\n",
       "        text-align: right;\n",
       "    }\n",
       "</style>\n",
       "<table border=\"1\" class=\"dataframe\">\n",
       "  <thead>\n",
       "    <tr style=\"text-align: right;\">\n",
       "      <th></th>\n",
       "      <th>Bedrooms</th>\n",
       "      <th>Garage</th>\n",
       "      <th>Bathrooms</th>\n",
       "      <th>Square_meters_std</th>\n",
       "      <th>Aclimação</th>\n",
       "      <th>Bosque dos Buritis</th>\n",
       "      <th>Brasil</th>\n",
       "      <th>Centro</th>\n",
       "      <th>Cidade Jardim</th>\n",
       "      <th>Custódio Pereira</th>\n",
       "      <th>...</th>\n",
       "      <th>Outros</th>\n",
       "      <th>Presidente Roosevelt</th>\n",
       "      <th>Santa Mônica</th>\n",
       "      <th>Saraiva</th>\n",
       "      <th>Segismundo Pereira</th>\n",
       "      <th>Tabajaras</th>\n",
       "      <th>Tibery</th>\n",
       "      <th>Tubalina</th>\n",
       "      <th>Umuarama</th>\n",
       "      <th>Vigilato Pereira</th>\n",
       "    </tr>\n",
       "  </thead>\n",
       "  <tbody>\n",
       "    <tr>\n",
       "      <th>1788</th>\n",
       "      <td>3</td>\n",
       "      <td>4</td>\n",
       "      <td>5</td>\n",
       "      <td>1.827630</td>\n",
       "      <td>0</td>\n",
       "      <td>0</td>\n",
       "      <td>0</td>\n",
       "      <td>0</td>\n",
       "      <td>0</td>\n",
       "      <td>0</td>\n",
       "      <td>...</td>\n",
       "      <td>0</td>\n",
       "      <td>0</td>\n",
       "      <td>0</td>\n",
       "      <td>0</td>\n",
       "      <td>0</td>\n",
       "      <td>0</td>\n",
       "      <td>0</td>\n",
       "      <td>0</td>\n",
       "      <td>0</td>\n",
       "      <td>0</td>\n",
       "    </tr>\n",
       "    <tr>\n",
       "      <th>1672</th>\n",
       "      <td>3</td>\n",
       "      <td>2</td>\n",
       "      <td>3</td>\n",
       "      <td>-0.681117</td>\n",
       "      <td>0</td>\n",
       "      <td>1</td>\n",
       "      <td>0</td>\n",
       "      <td>0</td>\n",
       "      <td>0</td>\n",
       "      <td>0</td>\n",
       "      <td>...</td>\n",
       "      <td>0</td>\n",
       "      <td>0</td>\n",
       "      <td>0</td>\n",
       "      <td>0</td>\n",
       "      <td>0</td>\n",
       "      <td>0</td>\n",
       "      <td>0</td>\n",
       "      <td>0</td>\n",
       "      <td>0</td>\n",
       "      <td>0</td>\n",
       "    </tr>\n",
       "    <tr>\n",
       "      <th>1866</th>\n",
       "      <td>2</td>\n",
       "      <td>1</td>\n",
       "      <td>2</td>\n",
       "      <td>-1.105674</td>\n",
       "      <td>0</td>\n",
       "      <td>0</td>\n",
       "      <td>1</td>\n",
       "      <td>0</td>\n",
       "      <td>0</td>\n",
       "      <td>0</td>\n",
       "      <td>...</td>\n",
       "      <td>0</td>\n",
       "      <td>0</td>\n",
       "      <td>0</td>\n",
       "      <td>0</td>\n",
       "      <td>0</td>\n",
       "      <td>0</td>\n",
       "      <td>0</td>\n",
       "      <td>0</td>\n",
       "      <td>0</td>\n",
       "      <td>0</td>\n",
       "    </tr>\n",
       "    <tr>\n",
       "      <th>522</th>\n",
       "      <td>2</td>\n",
       "      <td>0</td>\n",
       "      <td>1</td>\n",
       "      <td>-1.105674</td>\n",
       "      <td>0</td>\n",
       "      <td>0</td>\n",
       "      <td>0</td>\n",
       "      <td>0</td>\n",
       "      <td>0</td>\n",
       "      <td>0</td>\n",
       "      <td>...</td>\n",
       "      <td>1</td>\n",
       "      <td>0</td>\n",
       "      <td>0</td>\n",
       "      <td>0</td>\n",
       "      <td>0</td>\n",
       "      <td>0</td>\n",
       "      <td>0</td>\n",
       "      <td>0</td>\n",
       "      <td>0</td>\n",
       "      <td>0</td>\n",
       "    </tr>\n",
       "    <tr>\n",
       "      <th>1341</th>\n",
       "      <td>3</td>\n",
       "      <td>0</td>\n",
       "      <td>3</td>\n",
       "      <td>-1.020763</td>\n",
       "      <td>0</td>\n",
       "      <td>1</td>\n",
       "      <td>0</td>\n",
       "      <td>0</td>\n",
       "      <td>0</td>\n",
       "      <td>0</td>\n",
       "      <td>...</td>\n",
       "      <td>0</td>\n",
       "      <td>0</td>\n",
       "      <td>0</td>\n",
       "      <td>0</td>\n",
       "      <td>0</td>\n",
       "      <td>0</td>\n",
       "      <td>0</td>\n",
       "      <td>0</td>\n",
       "      <td>0</td>\n",
       "      <td>0</td>\n",
       "    </tr>\n",
       "  </tbody>\n",
       "</table>\n",
       "<p>5 rows × 35 columns</p>\n",
       "</div>"
      ],
      "text/plain": [
       "      Bedrooms  Garage  Bathrooms  Square_meters_std  Aclimação  \\\n",
       "1788         3       4          5           1.827630          0   \n",
       "1672         3       2          3          -0.681117          0   \n",
       "1866         2       1          2          -1.105674          0   \n",
       "522          2       0          1          -1.105674          0   \n",
       "1341         3       0          3          -1.020763          0   \n",
       "\n",
       "      Bosque dos Buritis  Brasil  Centro  Cidade Jardim  Custódio Pereira  \\\n",
       "1788                   0       0       0              0                 0   \n",
       "1672                   1       0       0              0                 0   \n",
       "1866                   0       1       0              0                 0   \n",
       "522                    0       0       0              0                 0   \n",
       "1341                   1       0       0              0                 0   \n",
       "\n",
       "      ...  Outros  Presidente Roosevelt  Santa Mônica  Saraiva  \\\n",
       "1788  ...       0                     0             0        0   \n",
       "1672  ...       0                     0             0        0   \n",
       "1866  ...       0                     0             0        0   \n",
       "522   ...       1                     0             0        0   \n",
       "1341  ...       0                     0             0        0   \n",
       "\n",
       "      Segismundo Pereira  Tabajaras  Tibery  Tubalina  Umuarama  \\\n",
       "1788                   0          0       0         0         0   \n",
       "1672                   0          0       0         0         0   \n",
       "1866                   0          0       0         0         0   \n",
       "522                    0          0       0         0         0   \n",
       "1341                   0          0       0         0         0   \n",
       "\n",
       "      Vigilato Pereira  \n",
       "1788                 0  \n",
       "1672                 0  \n",
       "1866                 0  \n",
       "522                  0  \n",
       "1341                 0  \n",
       "\n",
       "[5 rows x 35 columns]"
      ]
     },
     "execution_count": 26,
     "metadata": {},
     "output_type": "execute_result"
    }
   ],
   "source": [
    "predictors_train.head()"
   ]
  },
  {
   "cell_type": "code",
   "execution_count": 27,
   "id": "1a89b2c7-b2fb-4a40-ada8-09468a0c0dfe",
   "metadata": {},
   "outputs": [
    {
     "data": {
      "text/plain": [
       "(1611, 35)"
      ]
     },
     "execution_count": 27,
     "metadata": {},
     "output_type": "execute_result"
    }
   ],
   "source": [
    "predictors_train.shape"
   ]
  },
  {
   "cell_type": "code",
   "execution_count": 28,
   "id": "868dc839-0564-4da3-8b7e-815a0956981b",
   "metadata": {},
   "outputs": [
    {
     "data": {
      "text/html": [
       "<div>\n",
       "<style scoped>\n",
       "    .dataframe tbody tr th:only-of-type {\n",
       "        vertical-align: middle;\n",
       "    }\n",
       "\n",
       "    .dataframe tbody tr th {\n",
       "        vertical-align: top;\n",
       "    }\n",
       "\n",
       "    .dataframe thead th {\n",
       "        text-align: right;\n",
       "    }\n",
       "</style>\n",
       "<table border=\"1\" class=\"dataframe\">\n",
       "  <thead>\n",
       "    <tr style=\"text-align: right;\">\n",
       "      <th></th>\n",
       "      <th>Bedrooms</th>\n",
       "      <th>Garage</th>\n",
       "      <th>Bathrooms</th>\n",
       "      <th>Square_meters_std</th>\n",
       "      <th>Aclimação</th>\n",
       "      <th>Bosque dos Buritis</th>\n",
       "      <th>Brasil</th>\n",
       "      <th>Centro</th>\n",
       "      <th>Cidade Jardim</th>\n",
       "      <th>Custódio Pereira</th>\n",
       "      <th>...</th>\n",
       "      <th>Outros</th>\n",
       "      <th>Presidente Roosevelt</th>\n",
       "      <th>Santa Mônica</th>\n",
       "      <th>Saraiva</th>\n",
       "      <th>Segismundo Pereira</th>\n",
       "      <th>Tabajaras</th>\n",
       "      <th>Tibery</th>\n",
       "      <th>Tubalina</th>\n",
       "      <th>Umuarama</th>\n",
       "      <th>Vigilato Pereira</th>\n",
       "    </tr>\n",
       "  </thead>\n",
       "  <tbody>\n",
       "    <tr>\n",
       "      <th>1232</th>\n",
       "      <td>3</td>\n",
       "      <td>3</td>\n",
       "      <td>4</td>\n",
       "      <td>-0.565329</td>\n",
       "      <td>0</td>\n",
       "      <td>0</td>\n",
       "      <td>0</td>\n",
       "      <td>0</td>\n",
       "      <td>0</td>\n",
       "      <td>0</td>\n",
       "      <td>...</td>\n",
       "      <td>0</td>\n",
       "      <td>0</td>\n",
       "      <td>0</td>\n",
       "      <td>0</td>\n",
       "      <td>0</td>\n",
       "      <td>0</td>\n",
       "      <td>0</td>\n",
       "      <td>0</td>\n",
       "      <td>0</td>\n",
       "      <td>0</td>\n",
       "    </tr>\n",
       "    <tr>\n",
       "      <th>777</th>\n",
       "      <td>3</td>\n",
       "      <td>3</td>\n",
       "      <td>4</td>\n",
       "      <td>0.206593</td>\n",
       "      <td>0</td>\n",
       "      <td>0</td>\n",
       "      <td>0</td>\n",
       "      <td>0</td>\n",
       "      <td>0</td>\n",
       "      <td>0</td>\n",
       "      <td>...</td>\n",
       "      <td>0</td>\n",
       "      <td>0</td>\n",
       "      <td>0</td>\n",
       "      <td>0</td>\n",
       "      <td>0</td>\n",
       "      <td>0</td>\n",
       "      <td>0</td>\n",
       "      <td>0</td>\n",
       "      <td>0</td>\n",
       "      <td>0</td>\n",
       "    </tr>\n",
       "    <tr>\n",
       "      <th>1739</th>\n",
       "      <td>4</td>\n",
       "      <td>3</td>\n",
       "      <td>2</td>\n",
       "      <td>-0.017264</td>\n",
       "      <td>0</td>\n",
       "      <td>0</td>\n",
       "      <td>0</td>\n",
       "      <td>0</td>\n",
       "      <td>0</td>\n",
       "      <td>0</td>\n",
       "      <td>...</td>\n",
       "      <td>1</td>\n",
       "      <td>0</td>\n",
       "      <td>0</td>\n",
       "      <td>0</td>\n",
       "      <td>0</td>\n",
       "      <td>0</td>\n",
       "      <td>0</td>\n",
       "      <td>0</td>\n",
       "      <td>0</td>\n",
       "      <td>0</td>\n",
       "    </tr>\n",
       "    <tr>\n",
       "      <th>1039</th>\n",
       "      <td>3</td>\n",
       "      <td>2</td>\n",
       "      <td>3</td>\n",
       "      <td>0.283786</td>\n",
       "      <td>0</td>\n",
       "      <td>0</td>\n",
       "      <td>0</td>\n",
       "      <td>0</td>\n",
       "      <td>0</td>\n",
       "      <td>0</td>\n",
       "      <td>...</td>\n",
       "      <td>0</td>\n",
       "      <td>0</td>\n",
       "      <td>1</td>\n",
       "      <td>0</td>\n",
       "      <td>0</td>\n",
       "      <td>0</td>\n",
       "      <td>0</td>\n",
       "      <td>0</td>\n",
       "      <td>0</td>\n",
       "      <td>0</td>\n",
       "    </tr>\n",
       "    <tr>\n",
       "      <th>1426</th>\n",
       "      <td>1</td>\n",
       "      <td>1</td>\n",
       "      <td>3</td>\n",
       "      <td>0.283786</td>\n",
       "      <td>0</td>\n",
       "      <td>0</td>\n",
       "      <td>1</td>\n",
       "      <td>0</td>\n",
       "      <td>0</td>\n",
       "      <td>0</td>\n",
       "      <td>...</td>\n",
       "      <td>0</td>\n",
       "      <td>0</td>\n",
       "      <td>0</td>\n",
       "      <td>0</td>\n",
       "      <td>0</td>\n",
       "      <td>0</td>\n",
       "      <td>0</td>\n",
       "      <td>0</td>\n",
       "      <td>0</td>\n",
       "      <td>0</td>\n",
       "    </tr>\n",
       "  </tbody>\n",
       "</table>\n",
       "<p>5 rows × 35 columns</p>\n",
       "</div>"
      ],
      "text/plain": [
       "      Bedrooms  Garage  Bathrooms  Square_meters_std  Aclimação  \\\n",
       "1232         3       3          4          -0.565329          0   \n",
       "777          3       3          4           0.206593          0   \n",
       "1739         4       3          2          -0.017264          0   \n",
       "1039         3       2          3           0.283786          0   \n",
       "1426         1       1          3           0.283786          0   \n",
       "\n",
       "      Bosque dos Buritis  Brasil  Centro  Cidade Jardim  Custódio Pereira  \\\n",
       "1232                   0       0       0              0                 0   \n",
       "777                    0       0       0              0                 0   \n",
       "1739                   0       0       0              0                 0   \n",
       "1039                   0       0       0              0                 0   \n",
       "1426                   0       1       0              0                 0   \n",
       "\n",
       "      ...  Outros  Presidente Roosevelt  Santa Mônica  Saraiva  \\\n",
       "1232  ...       0                     0             0        0   \n",
       "777   ...       0                     0             0        0   \n",
       "1739  ...       1                     0             0        0   \n",
       "1039  ...       0                     0             1        0   \n",
       "1426  ...       0                     0             0        0   \n",
       "\n",
       "      Segismundo Pereira  Tabajaras  Tibery  Tubalina  Umuarama  \\\n",
       "1232                   0          0       0         0         0   \n",
       "777                    0          0       0         0         0   \n",
       "1739                   0          0       0         0         0   \n",
       "1039                   0          0       0         0         0   \n",
       "1426                   0          0       0         0         0   \n",
       "\n",
       "      Vigilato Pereira  \n",
       "1232                 0  \n",
       "777                  0  \n",
       "1739                 0  \n",
       "1039                 0  \n",
       "1426                 0  \n",
       "\n",
       "[5 rows x 35 columns]"
      ]
     },
     "execution_count": 28,
     "metadata": {},
     "output_type": "execute_result"
    }
   ],
   "source": [
    "predictors_test.head()"
   ]
  },
  {
   "cell_type": "code",
   "execution_count": 29,
   "id": "a63e9961-b668-4337-b260-f7e0067be0cb",
   "metadata": {},
   "outputs": [
    {
     "data": {
      "text/plain": [
       "(537, 35)"
      ]
     },
     "execution_count": 29,
     "metadata": {},
     "output_type": "execute_result"
    }
   ],
   "source": [
    "predictors_test.shape"
   ]
  },
  {
   "cell_type": "code",
   "execution_count": 30,
   "id": "4ebff60d-f8a6-4411-aff5-4354e2de34ac",
   "metadata": {},
   "outputs": [
    {
     "data": {
      "text/plain": [
       "1788    10000.0\n",
       "1672     3800.0\n",
       "1866     1400.0\n",
       "522      1000.0\n",
       "1341     3500.0\n",
       "Name: Rent_price, dtype: float64"
      ]
     },
     "execution_count": 30,
     "metadata": {},
     "output_type": "execute_result"
    }
   ],
   "source": [
    "target_train.head()"
   ]
  },
  {
   "cell_type": "code",
   "execution_count": 31,
   "id": "bae92d84-76e7-473c-bcad-3189b378999f",
   "metadata": {},
   "outputs": [
    {
     "data": {
      "text/plain": [
       "(1611,)"
      ]
     },
     "execution_count": 31,
     "metadata": {},
     "output_type": "execute_result"
    }
   ],
   "source": [
    "target_train.shape"
   ]
  },
  {
   "cell_type": "code",
   "execution_count": 32,
   "id": "73f80877-14bd-4a1a-bcc9-1594f1ea8a93",
   "metadata": {},
   "outputs": [
    {
     "data": {
      "text/plain": [
       "1232     5400.0\n",
       "777     13000.0\n",
       "1739     3000.0\n",
       "1039     3000.0\n",
       "1426     4500.0\n",
       "Name: Rent_price, dtype: float64"
      ]
     },
     "execution_count": 32,
     "metadata": {},
     "output_type": "execute_result"
    }
   ],
   "source": [
    "target_test.head()"
   ]
  },
  {
   "cell_type": "code",
   "execution_count": 33,
   "id": "bc5b287f-7677-4307-9b9c-93ee17e01afe",
   "metadata": {},
   "outputs": [
    {
     "data": {
      "text/plain": [
       "(537,)"
      ]
     },
     "execution_count": 33,
     "metadata": {},
     "output_type": "execute_result"
    }
   ],
   "source": [
    "target_test.shape"
   ]
  },
  {
   "cell_type": "markdown",
   "id": "8c5ddb08-4fb3-4239-ae8e-0f2b165754c5",
   "metadata": {},
   "source": [
    "# 3. Treinamento de Modelo"
   ]
  },
  {
   "cell_type": "code",
   "execution_count": 34,
   "id": "e247ee8d-665a-4743-bfcd-df8a42fe77f0",
   "metadata": {},
   "outputs": [],
   "source": [
    "model = LinearRegression()"
   ]
  },
  {
   "cell_type": "code",
   "execution_count": 35,
   "id": "c3029e75-ebba-4edd-8b69-1e9a016d5bff",
   "metadata": {},
   "outputs": [],
   "source": [
    "model = model.fit(predictors_train, target_train)"
   ]
  },
  {
   "cell_type": "code",
   "execution_count": 36,
   "id": "c497327b-15de-40e8-af5f-3ffc6f991dfc",
   "metadata": {},
   "outputs": [
    {
     "data": {
      "text/plain": [
       "{'fit_intercept': True,\n",
       " 'copy_X': True,\n",
       " 'n_jobs': None,\n",
       " 'positive': False,\n",
       " 'feature_names_in_': array(['Bedrooms', 'Garage', 'Bathrooms', 'Square_meters_std',\n",
       "        'Aclimação', 'Bosque dos Buritis', 'Brasil', 'Centro',\n",
       "        'Cidade Jardim', 'Custódio Pereira', 'Fundinho',\n",
       "        'Granja Marileusa', 'Jardim Botânico', 'Jardim Colina',\n",
       "        'Jardim Europa', 'Jardim Inconfidência', 'Jardim Karaíba',\n",
       "        'Jardim Patrícia', 'Laranjeiras', 'Lídice', 'Martins',\n",
       "        'Morada da Colina', 'Nossa Senhora Aparecida', 'Nova Uberlândia',\n",
       "        'Osvaldo Rezende', 'Outros', 'Presidente Roosevelt',\n",
       "        'Santa Mônica', 'Saraiva', 'Segismundo Pereira', 'Tabajaras',\n",
       "        'Tibery', 'Tubalina', 'Umuarama', 'Vigilato Pereira'], dtype=object),\n",
       " 'n_features_in_': 35,\n",
       " 'coef_': array([ 1.21698578e+02,  1.04085250e+02,  5.54236969e+02,  1.40971315e+03,\n",
       "        -4.84806511e+14, -4.84806511e+14, -4.84806511e+14, -4.84806511e+14,\n",
       "        -4.84806511e+14, -4.84806511e+14, -4.84806511e+14, -4.84806511e+14,\n",
       "        -4.84806511e+14, -4.84806511e+14, -4.84806511e+14, -4.84806511e+14,\n",
       "        -4.84806511e+14, -4.84806511e+14, -4.84806511e+14, -4.84806511e+14,\n",
       "        -4.84806511e+14, -4.84806511e+14, -4.84806511e+14, -4.84806511e+14,\n",
       "        -4.84806511e+14, -4.84806511e+14, -4.84806511e+14, -4.84806511e+14,\n",
       "        -4.84806511e+14, -4.84806511e+14, -4.84806511e+14, -4.84806511e+14,\n",
       "        -4.84806511e+14, -4.84806511e+14, -4.84806511e+14]),\n",
       " 'rank_': 35,\n",
       " 'singular_': array([7.59906738e+01, 4.25587609e+01, 3.20938393e+01, 2.69689742e+01,\n",
       "        1.50629529e+01, 9.87455711e+00, 9.55739577e+00, 8.93645602e+00,\n",
       "        8.62631493e+00, 8.48642079e+00, 8.24710367e+00, 8.12163260e+00,\n",
       "        7.83666751e+00, 7.73665950e+00, 7.34099339e+00, 7.03084092e+00,\n",
       "        6.69771608e+00, 6.43080317e+00, 6.28029286e+00, 6.16122636e+00,\n",
       "        6.08793911e+00, 5.93222047e+00, 5.52113998e+00, 5.31874035e+00,\n",
       "        5.03438392e+00, 4.88241799e+00, 4.73091525e+00, 4.62047301e+00,\n",
       "        4.46403870e+00, 4.26981300e+00, 4.15803300e+00, 4.11762880e+00,\n",
       "        4.00873907e+00, 3.88345208e+00, 2.69973106e-13]),\n",
       " 'intercept_': 484806511278527.6}"
      ]
     },
     "execution_count": 36,
     "metadata": {},
     "output_type": "execute_result"
    }
   ],
   "source": [
    "model.__dict__"
   ]
  },
  {
   "cell_type": "markdown",
   "id": "e45214a6-b7b7-4bab-9960-30a3c2eaa70e",
   "metadata": {},
   "source": [
    "# 4. Avaliação"
   ]
  },
  {
   "cell_type": "code",
   "execution_count": 37,
   "id": "1b471800-0139-47b6-9dba-964b39da9884",
   "metadata": {},
   "outputs": [],
   "source": [
    "from sklearn.metrics import mean_squared_error\n",
    "import numpy as np"
   ]
  },
  {
   "cell_type": "code",
   "execution_count": 38,
   "id": "39c4b409-f5f1-4cc6-845c-22cbf8c4b422",
   "metadata": {},
   "outputs": [],
   "source": [
    "target_predicted = model.predict(predictors_test)"
   ]
  },
  {
   "cell_type": "code",
   "execution_count": 39,
   "id": "f6e7b15c-57f0-44cf-9b43-4512f594979f",
   "metadata": {},
   "outputs": [
    {
     "data": {
      "text/plain": [
       "array([ 6433.5625, 10316.375 ,  4267.6875,  4620.5625,  3938.5   ])"
      ]
     },
     "execution_count": 39,
     "metadata": {},
     "output_type": "execute_result"
    }
   ],
   "source": [
    "target_predicted[0:5]"
   ]
  },
  {
   "cell_type": "code",
   "execution_count": 40,
   "id": "07172125-898a-45eb-bb59-21c1087e1730",
   "metadata": {},
   "outputs": [
    {
     "data": {
      "text/plain": [
       "(537,)"
      ]
     },
     "execution_count": 40,
     "metadata": {},
     "output_type": "execute_result"
    }
   ],
   "source": [
    "target_predicted.shape"
   ]
  },
  {
   "cell_type": "code",
   "execution_count": 41,
   "id": "ed8f51fa-5aa1-4c51-8db3-9f498bf691a5",
   "metadata": {},
   "outputs": [
    {
     "name": "stdout",
     "output_type": "stream",
     "text": [
      "2265.6948336553405\n"
     ]
    }
   ],
   "source": [
    "rmse = np.sqrt(mean_squared_error(target_test, target_predicted))\n",
    "print(rmse)"
   ]
  },
  {
   "cell_type": "code",
   "execution_count": 42,
   "id": "632fe3f8-7513-4d9e-8c1b-798dd10ef9cf",
   "metadata": {},
   "outputs": [],
   "source": [
    "test_data = pd.concat([predictors_test, pd.DataFrame(target_test, columns=['Rent_price'])], axis=1).reset_index(drop=True)\n",
    "test_data['predicted'] = False"
   ]
  },
  {
   "cell_type": "code",
   "execution_count": 43,
   "id": "d739c180-c483-4c43-ae6e-31002e0549da",
   "metadata": {},
   "outputs": [
    {
     "data": {
      "text/html": [
       "<div>\n",
       "<style scoped>\n",
       "    .dataframe tbody tr th:only-of-type {\n",
       "        vertical-align: middle;\n",
       "    }\n",
       "\n",
       "    .dataframe tbody tr th {\n",
       "        vertical-align: top;\n",
       "    }\n",
       "\n",
       "    .dataframe thead th {\n",
       "        text-align: right;\n",
       "    }\n",
       "</style>\n",
       "<table border=\"1\" class=\"dataframe\">\n",
       "  <thead>\n",
       "    <tr style=\"text-align: right;\">\n",
       "      <th></th>\n",
       "      <th>Bedrooms</th>\n",
       "      <th>Garage</th>\n",
       "      <th>Bathrooms</th>\n",
       "      <th>Square_meters_std</th>\n",
       "      <th>Aclimação</th>\n",
       "      <th>Bosque dos Buritis</th>\n",
       "      <th>Brasil</th>\n",
       "      <th>Centro</th>\n",
       "      <th>Cidade Jardim</th>\n",
       "      <th>Custódio Pereira</th>\n",
       "      <th>...</th>\n",
       "      <th>Santa Mônica</th>\n",
       "      <th>Saraiva</th>\n",
       "      <th>Segismundo Pereira</th>\n",
       "      <th>Tabajaras</th>\n",
       "      <th>Tibery</th>\n",
       "      <th>Tubalina</th>\n",
       "      <th>Umuarama</th>\n",
       "      <th>Vigilato Pereira</th>\n",
       "      <th>Rent_price</th>\n",
       "      <th>predicted</th>\n",
       "    </tr>\n",
       "  </thead>\n",
       "  <tbody>\n",
       "    <tr>\n",
       "      <th>0</th>\n",
       "      <td>3</td>\n",
       "      <td>3</td>\n",
       "      <td>4</td>\n",
       "      <td>-0.565329</td>\n",
       "      <td>0</td>\n",
       "      <td>0</td>\n",
       "      <td>0</td>\n",
       "      <td>0</td>\n",
       "      <td>0</td>\n",
       "      <td>0</td>\n",
       "      <td>...</td>\n",
       "      <td>0</td>\n",
       "      <td>0</td>\n",
       "      <td>0</td>\n",
       "      <td>0</td>\n",
       "      <td>0</td>\n",
       "      <td>0</td>\n",
       "      <td>0</td>\n",
       "      <td>0</td>\n",
       "      <td>5400.0</td>\n",
       "      <td>False</td>\n",
       "    </tr>\n",
       "    <tr>\n",
       "      <th>1</th>\n",
       "      <td>3</td>\n",
       "      <td>3</td>\n",
       "      <td>4</td>\n",
       "      <td>0.206593</td>\n",
       "      <td>0</td>\n",
       "      <td>0</td>\n",
       "      <td>0</td>\n",
       "      <td>0</td>\n",
       "      <td>0</td>\n",
       "      <td>0</td>\n",
       "      <td>...</td>\n",
       "      <td>0</td>\n",
       "      <td>0</td>\n",
       "      <td>0</td>\n",
       "      <td>0</td>\n",
       "      <td>0</td>\n",
       "      <td>0</td>\n",
       "      <td>0</td>\n",
       "      <td>0</td>\n",
       "      <td>13000.0</td>\n",
       "      <td>False</td>\n",
       "    </tr>\n",
       "    <tr>\n",
       "      <th>2</th>\n",
       "      <td>4</td>\n",
       "      <td>3</td>\n",
       "      <td>2</td>\n",
       "      <td>-0.017264</td>\n",
       "      <td>0</td>\n",
       "      <td>0</td>\n",
       "      <td>0</td>\n",
       "      <td>0</td>\n",
       "      <td>0</td>\n",
       "      <td>0</td>\n",
       "      <td>...</td>\n",
       "      <td>0</td>\n",
       "      <td>0</td>\n",
       "      <td>0</td>\n",
       "      <td>0</td>\n",
       "      <td>0</td>\n",
       "      <td>0</td>\n",
       "      <td>0</td>\n",
       "      <td>0</td>\n",
       "      <td>3000.0</td>\n",
       "      <td>False</td>\n",
       "    </tr>\n",
       "    <tr>\n",
       "      <th>3</th>\n",
       "      <td>3</td>\n",
       "      <td>2</td>\n",
       "      <td>3</td>\n",
       "      <td>0.283786</td>\n",
       "      <td>0</td>\n",
       "      <td>0</td>\n",
       "      <td>0</td>\n",
       "      <td>0</td>\n",
       "      <td>0</td>\n",
       "      <td>0</td>\n",
       "      <td>...</td>\n",
       "      <td>1</td>\n",
       "      <td>0</td>\n",
       "      <td>0</td>\n",
       "      <td>0</td>\n",
       "      <td>0</td>\n",
       "      <td>0</td>\n",
       "      <td>0</td>\n",
       "      <td>0</td>\n",
       "      <td>3000.0</td>\n",
       "      <td>False</td>\n",
       "    </tr>\n",
       "    <tr>\n",
       "      <th>4</th>\n",
       "      <td>1</td>\n",
       "      <td>1</td>\n",
       "      <td>3</td>\n",
       "      <td>0.283786</td>\n",
       "      <td>0</td>\n",
       "      <td>0</td>\n",
       "      <td>1</td>\n",
       "      <td>0</td>\n",
       "      <td>0</td>\n",
       "      <td>0</td>\n",
       "      <td>...</td>\n",
       "      <td>0</td>\n",
       "      <td>0</td>\n",
       "      <td>0</td>\n",
       "      <td>0</td>\n",
       "      <td>0</td>\n",
       "      <td>0</td>\n",
       "      <td>0</td>\n",
       "      <td>0</td>\n",
       "      <td>4500.0</td>\n",
       "      <td>False</td>\n",
       "    </tr>\n",
       "  </tbody>\n",
       "</table>\n",
       "<p>5 rows × 37 columns</p>\n",
       "</div>"
      ],
      "text/plain": [
       "   Bedrooms  Garage  Bathrooms  Square_meters_std  Aclimação  \\\n",
       "0         3       3          4          -0.565329          0   \n",
       "1         3       3          4           0.206593          0   \n",
       "2         4       3          2          -0.017264          0   \n",
       "3         3       2          3           0.283786          0   \n",
       "4         1       1          3           0.283786          0   \n",
       "\n",
       "   Bosque dos Buritis  Brasil  Centro  Cidade Jardim  Custódio Pereira  ...  \\\n",
       "0                   0       0       0              0                 0  ...   \n",
       "1                   0       0       0              0                 0  ...   \n",
       "2                   0       0       0              0                 0  ...   \n",
       "3                   0       0       0              0                 0  ...   \n",
       "4                   0       1       0              0                 0  ...   \n",
       "\n",
       "   Santa Mônica  Saraiva  Segismundo Pereira  Tabajaras  Tibery  Tubalina  \\\n",
       "0             0        0                   0          0       0         0   \n",
       "1             0        0                   0          0       0         0   \n",
       "2             0        0                   0          0       0         0   \n",
       "3             1        0                   0          0       0         0   \n",
       "4             0        0                   0          0       0         0   \n",
       "\n",
       "   Umuarama  Vigilato Pereira  Rent_price  predicted  \n",
       "0         0                 0      5400.0      False  \n",
       "1         0                 0     13000.0      False  \n",
       "2         0                 0      3000.0      False  \n",
       "3         0                 0      3000.0      False  \n",
       "4         0                 0      4500.0      False  \n",
       "\n",
       "[5 rows x 37 columns]"
      ]
     },
     "execution_count": 43,
     "metadata": {},
     "output_type": "execute_result"
    }
   ],
   "source": [
    "test_data.head()"
   ]
  },
  {
   "cell_type": "code",
   "execution_count": 44,
   "id": "0b7d0e4c-6988-451d-8eb1-5e1a41c97aeb",
   "metadata": {},
   "outputs": [],
   "source": [
    "prediction_data = pd.concat([predictors_test.reset_index(drop=True), pd.DataFrame(target_predicted, columns=['Rent_price'])], axis=1).reset_index(drop=True)\n",
    "prediction_data['predicted'] = True"
   ]
  },
  {
   "cell_type": "code",
   "execution_count": 45,
   "id": "198e0073-396a-42d5-9d99-b48dc26850c0",
   "metadata": {},
   "outputs": [
    {
     "data": {
      "text/html": [
       "<div>\n",
       "<style scoped>\n",
       "    .dataframe tbody tr th:only-of-type {\n",
       "        vertical-align: middle;\n",
       "    }\n",
       "\n",
       "    .dataframe tbody tr th {\n",
       "        vertical-align: top;\n",
       "    }\n",
       "\n",
       "    .dataframe thead th {\n",
       "        text-align: right;\n",
       "    }\n",
       "</style>\n",
       "<table border=\"1\" class=\"dataframe\">\n",
       "  <thead>\n",
       "    <tr style=\"text-align: right;\">\n",
       "      <th></th>\n",
       "      <th>Bedrooms</th>\n",
       "      <th>Garage</th>\n",
       "      <th>Bathrooms</th>\n",
       "      <th>Square_meters_std</th>\n",
       "      <th>Aclimação</th>\n",
       "      <th>Bosque dos Buritis</th>\n",
       "      <th>Brasil</th>\n",
       "      <th>Centro</th>\n",
       "      <th>Cidade Jardim</th>\n",
       "      <th>Custódio Pereira</th>\n",
       "      <th>...</th>\n",
       "      <th>Santa Mônica</th>\n",
       "      <th>Saraiva</th>\n",
       "      <th>Segismundo Pereira</th>\n",
       "      <th>Tabajaras</th>\n",
       "      <th>Tibery</th>\n",
       "      <th>Tubalina</th>\n",
       "      <th>Umuarama</th>\n",
       "      <th>Vigilato Pereira</th>\n",
       "      <th>Rent_price</th>\n",
       "      <th>predicted</th>\n",
       "    </tr>\n",
       "  </thead>\n",
       "  <tbody>\n",
       "    <tr>\n",
       "      <th>0</th>\n",
       "      <td>3</td>\n",
       "      <td>3</td>\n",
       "      <td>4</td>\n",
       "      <td>-0.565329</td>\n",
       "      <td>0</td>\n",
       "      <td>0</td>\n",
       "      <td>0</td>\n",
       "      <td>0</td>\n",
       "      <td>0</td>\n",
       "      <td>0</td>\n",
       "      <td>...</td>\n",
       "      <td>0</td>\n",
       "      <td>0</td>\n",
       "      <td>0</td>\n",
       "      <td>0</td>\n",
       "      <td>0</td>\n",
       "      <td>0</td>\n",
       "      <td>0</td>\n",
       "      <td>0</td>\n",
       "      <td>6433.5625</td>\n",
       "      <td>True</td>\n",
       "    </tr>\n",
       "    <tr>\n",
       "      <th>1</th>\n",
       "      <td>3</td>\n",
       "      <td>3</td>\n",
       "      <td>4</td>\n",
       "      <td>0.206593</td>\n",
       "      <td>0</td>\n",
       "      <td>0</td>\n",
       "      <td>0</td>\n",
       "      <td>0</td>\n",
       "      <td>0</td>\n",
       "      <td>0</td>\n",
       "      <td>...</td>\n",
       "      <td>0</td>\n",
       "      <td>0</td>\n",
       "      <td>0</td>\n",
       "      <td>0</td>\n",
       "      <td>0</td>\n",
       "      <td>0</td>\n",
       "      <td>0</td>\n",
       "      <td>0</td>\n",
       "      <td>10316.3750</td>\n",
       "      <td>True</td>\n",
       "    </tr>\n",
       "    <tr>\n",
       "      <th>2</th>\n",
       "      <td>4</td>\n",
       "      <td>3</td>\n",
       "      <td>2</td>\n",
       "      <td>-0.017264</td>\n",
       "      <td>0</td>\n",
       "      <td>0</td>\n",
       "      <td>0</td>\n",
       "      <td>0</td>\n",
       "      <td>0</td>\n",
       "      <td>0</td>\n",
       "      <td>...</td>\n",
       "      <td>0</td>\n",
       "      <td>0</td>\n",
       "      <td>0</td>\n",
       "      <td>0</td>\n",
       "      <td>0</td>\n",
       "      <td>0</td>\n",
       "      <td>0</td>\n",
       "      <td>0</td>\n",
       "      <td>4267.6875</td>\n",
       "      <td>True</td>\n",
       "    </tr>\n",
       "    <tr>\n",
       "      <th>3</th>\n",
       "      <td>3</td>\n",
       "      <td>2</td>\n",
       "      <td>3</td>\n",
       "      <td>0.283786</td>\n",
       "      <td>0</td>\n",
       "      <td>0</td>\n",
       "      <td>0</td>\n",
       "      <td>0</td>\n",
       "      <td>0</td>\n",
       "      <td>0</td>\n",
       "      <td>...</td>\n",
       "      <td>1</td>\n",
       "      <td>0</td>\n",
       "      <td>0</td>\n",
       "      <td>0</td>\n",
       "      <td>0</td>\n",
       "      <td>0</td>\n",
       "      <td>0</td>\n",
       "      <td>0</td>\n",
       "      <td>4620.5625</td>\n",
       "      <td>True</td>\n",
       "    </tr>\n",
       "    <tr>\n",
       "      <th>4</th>\n",
       "      <td>1</td>\n",
       "      <td>1</td>\n",
       "      <td>3</td>\n",
       "      <td>0.283786</td>\n",
       "      <td>0</td>\n",
       "      <td>0</td>\n",
       "      <td>1</td>\n",
       "      <td>0</td>\n",
       "      <td>0</td>\n",
       "      <td>0</td>\n",
       "      <td>...</td>\n",
       "      <td>0</td>\n",
       "      <td>0</td>\n",
       "      <td>0</td>\n",
       "      <td>0</td>\n",
       "      <td>0</td>\n",
       "      <td>0</td>\n",
       "      <td>0</td>\n",
       "      <td>0</td>\n",
       "      <td>3938.5000</td>\n",
       "      <td>True</td>\n",
       "    </tr>\n",
       "  </tbody>\n",
       "</table>\n",
       "<p>5 rows × 37 columns</p>\n",
       "</div>"
      ],
      "text/plain": [
       "   Bedrooms  Garage  Bathrooms  Square_meters_std  Aclimação  \\\n",
       "0         3       3          4          -0.565329          0   \n",
       "1         3       3          4           0.206593          0   \n",
       "2         4       3          2          -0.017264          0   \n",
       "3         3       2          3           0.283786          0   \n",
       "4         1       1          3           0.283786          0   \n",
       "\n",
       "   Bosque dos Buritis  Brasil  Centro  Cidade Jardim  Custódio Pereira  ...  \\\n",
       "0                   0       0       0              0                 0  ...   \n",
       "1                   0       0       0              0                 0  ...   \n",
       "2                   0       0       0              0                 0  ...   \n",
       "3                   0       0       0              0                 0  ...   \n",
       "4                   0       1       0              0                 0  ...   \n",
       "\n",
       "   Santa Mônica  Saraiva  Segismundo Pereira  Tabajaras  Tibery  Tubalina  \\\n",
       "0             0        0                   0          0       0         0   \n",
       "1             0        0                   0          0       0         0   \n",
       "2             0        0                   0          0       0         0   \n",
       "3             1        0                   0          0       0         0   \n",
       "4             0        0                   0          0       0         0   \n",
       "\n",
       "   Umuarama  Vigilato Pereira  Rent_price  predicted  \n",
       "0         0                 0   6433.5625       True  \n",
       "1         0                 0  10316.3750       True  \n",
       "2         0                 0   4267.6875       True  \n",
       "3         0                 0   4620.5625       True  \n",
       "4         0                 0   3938.5000       True  \n",
       "\n",
       "[5 rows x 37 columns]"
      ]
     },
     "execution_count": 45,
     "metadata": {},
     "output_type": "execute_result"
    }
   ],
   "source": [
    "prediction_data.head()"
   ]
  },
  {
   "cell_type": "code",
   "execution_count": 46,
   "id": "72b7addd-138e-4dcc-9665-484cc1857fc1",
   "metadata": {},
   "outputs": [],
   "source": [
    "prediction = pd.concat([test_data, prediction_data]).reset_index(drop=True)"
   ]
  },
  {
   "cell_type": "code",
   "execution_count": 47,
   "id": "60afc3d5-0f33-4311-89f0-06980c3acf94",
   "metadata": {},
   "outputs": [
    {
     "name": "stdout",
     "output_type": "stream",
     "text": [
      "     Square_meters_std\n",
      "324           9.932811\n",
      "861           9.932811\n",
      "921           3.749715\n",
      "384           3.749715\n",
      "546           3.734277\n",
      "9             3.734277\n",
      "829           3.603050\n",
      "292           3.603050\n",
      "823           3.139897\n",
      "286           3.139897\n",
      "     Square_meters_std\n",
      "974          -1.568827\n",
      "425          -1.568827\n",
      "150          -1.568827\n",
      "622          -1.568827\n",
      "985          -1.568827\n",
      "962          -1.568827\n",
      "913          -1.568827\n",
      "915          -1.568827\n",
      "85           -1.568827\n",
      "361          -1.568827\n"
     ]
    }
   ],
   "source": [
    "# Ordenar o DataFrame pela coluna Square_meters_std do maior para o menor\n",
    "df_sorted = prediction.sort_values(by='Square_meters_std', ascending=False)\n",
    "\n",
    "# Mostrar os primeiros 10 valores para inspecionar os maiores valores padronizados\n",
    "print(df_sorted[['Square_meters_std']].head(10))\n",
    "\n",
    "# Mostrar os últimos 10 valores para inspecionar os menores valores padronizados\n",
    "print(df_sorted[['Square_meters_std']].tail(10))\n"
   ]
  },
  {
   "cell_type": "code",
   "execution_count": 48,
   "id": "4491f708-3410-4a8b-a420-4b208041b04f",
   "metadata": {},
   "outputs": [],
   "source": [
    "import seaborn as sns"
   ]
  },
  {
   "cell_type": "code",
   "execution_count": 49,
   "id": "c2edbd5a-b311-4423-991f-8a8ebf3f905a",
   "metadata": {},
   "outputs": [
    {
     "data": {
      "image/png": "[encoded data removed]",
      "text/plain": [
       "<Figure size 640x480 with 1 Axes>"
      ]
     },
     "metadata": {},
     "output_type": "display_data"
    }
   ],
   "source": [
    "with sns.axes_style('whitegrid'):\n",
    "\n",
    "  \n",
    "  sns.scatterplot(data=prediction,x='Square_meters_std', y='Rent_price', hue='predicted')"
   ]
  },
  {
   "cell_type": "markdown",
   "id": "c8a348fc-2a66-4623-987c-184ffcf1aa6e",
   "metadata": {},
   "source": [
    "Bedrooms\tGarage\tBathrooms\tSquare_meters_std\tAclimação\tBosque dos Buritis\tBrasil\tCentro\tCidade Jardim\tFundinho\t...\tOutros\tPresidente Roosevelt\tSanta Mônica\tSaraiva\tSegismundo Pereira\tTabajaras\tTibery\tTubalina\tUmuarama\tVigilato Pereira"
   ]
  },
  {
   "cell_type": "code",
   "execution_count": 50,
   "id": "04a30f3d-52ef-40f3-b903-7a2f388ab54f",
   "metadata": {},
   "outputs": [
    {
     "name": "stdin",
     "output_type": "stream",
     "text": [
      "Quantidade de quartos da casa:  5\n",
      "Vagas de garagem:  3\n",
      "Quantidade de banheiros da casa:  5\n",
      "M² da casa:  300\n"
     ]
    }
   ],
   "source": [
    "Bedrooms = int(input('Quantidade de quartos da casa: '))\n",
    "Garage = int(input('Vagas de garagem: '))\n",
    "Bathrooms = int(input('Quantidade de banheiros da casa: '))\n",
    "Square_meters = float(input('M² da casa: '))\n",
    "Square_meters_std = (Square_meters - Square_meters_mean) / Square_meters_std"
   ]
  },
  {
   "cell_type": "code",
   "execution_count": 51,
   "id": "d6ed2f9e-8f38-4931-b982-9529181775fa",
   "metadata": {},
   "outputs": [
    {
     "name": "stdout",
     "output_type": "stream",
     "text": [
      "213.2364990689013 -- 0.6697465500850345\n"
     ]
    }
   ],
   "source": [
    "print(f'{Square_meters_mean} -- {Square_meters_std}')"
   ]
  },
  {
   "cell_type": "code",
   "execution_count": 54,
   "id": "0bcabef6-c402-410c-ab7b-a661eebabd36",
   "metadata": {},
   "outputs": [
    {
     "name": "stdout",
     "output_type": "stream",
     "text": [
      "[5.         3.         5.         0.66974655 1.         0.\n",
      " 0.         0.         0.         0.         0.         0.\n",
      " 0.         0.         0.         0.         0.         0.\n",
      " 0.         0.         0.         0.         0.         0.\n",
      " 0.         0.         0.         0.         0.         0.\n",
      " 0.         0.         0.         0.         0.        ]\n"
     ]
    }
   ],
   "source": [
    "house_array = np.array([Bedrooms, Garage, Bathrooms, Square_meters_std,1,0,0,0,0,0,0,0,0,0,0,0,0,0,0,0,0,0,0,0,0,0,0,0,0,0,0,0,0,0,0])\n",
    "print(house_array)"
   ]
  },
  {
   "cell_type": "code",
   "execution_count": 55,
   "id": "ace37503-04a7-48af-a9c9-3530a7de5501",
   "metadata": {},
   "outputs": [
    {
     "name": "stdout",
     "output_type": "stream",
     "text": [
      "[9169.125]\n"
     ]
    },
    {
     "name": "stderr",
     "output_type": "stream",
     "text": [
      "C:\\ProgramData\\miniconda3\\envs\\pydata-book\\lib\\site-packages\\sklearn\\base.py:493: UserWarning: X does not have valid feature names, but LinearRegression was fitted with feature names\n",
      "  warnings.warn(\n"
     ]
    }
   ],
   "source": [
    "rent_price = model.predict(house_array.reshape(1, -1))\n",
    "print(rent_price)"
   ]
  },
  {
   "cell_type": "code",
   "execution_count": null,
   "id": "3deccfde-601b-4b80-b95f-2b7896777a90",
   "metadata": {},
   "outputs": [],
   "source": []
  }
 ],
 "metadata": {
  "kernelspec": {
   "display_name": "Python 3 (ipykernel)",
   "language": "python",
   "name": "python3"
  },
  "language_info": {
   "codemirror_mode": {
    "name": "ipython",
    "version": 3
   },
   "file_extension": ".py",
   "mimetype": "text/x-python",
   "name": "python",
   "nbconvert_exporter": "python",
   "pygments_lexer": "ipython3",
   "version": "3.10.14"
  }
 },
 "nbformat": 4,
 "nbformat_minor": 5
}
