{
 "cells": [
  {
   "cell_type": "markdown",
   "id": "32336da4-4bb2-451e-9aa0-f7589bc50322",
   "metadata": {},
   "source": [
    "# 1. Limpeza e Preparação de Dados"
   ]
  },
  {
   "cell_type": "code",
   "execution_count": 1,
   "id": "8ca8e1e0-c457-4178-9bc1-4be49facd6be",
   "metadata": {
    "scrolled": true
   },
   "outputs": [
    {
     "data": {
      "text/html": [
       "<div>\n",
       "<style scoped>\n",
       "    .dataframe tbody tr th:only-of-type {\n",
       "        vertical-align: middle;\n",
       "    }\n",
       "\n",
       "    .dataframe tbody tr th {\n",
       "        vertical-align: top;\n",
       "    }\n",
       "\n",
       "    .dataframe thead th {\n",
       "        text-align: right;\n",
       "    }\n",
       "</style>\n",
       "<table border=\"1\" class=\"dataframe\">\n",
       "  <thead>\n",
       "    <tr style=\"text-align: right;\">\n",
       "      <th></th>\n",
       "      <th>Rent_price</th>\n",
       "      <th>Bedrooms</th>\n",
       "      <th>Square_meters</th>\n",
       "      <th>Garage</th>\n",
       "      <th>Bathrooms</th>\n",
       "      <th>City</th>\n",
       "      <th>Neighborhood</th>\n",
       "    </tr>\n",
       "  </thead>\n",
       "  <tbody>\n",
       "    <tr>\n",
       "      <th>0</th>\n",
       "      <td>1.700</td>\n",
       "      <td>3</td>\n",
       "      <td>250.0</td>\n",
       "      <td>3</td>\n",
       "      <td>2.0</td>\n",
       "      <td>Uberlândia</td>\n",
       "      <td>Santa Rosa</td>\n",
       "    </tr>\n",
       "    <tr>\n",
       "      <th>1</th>\n",
       "      <td>1.600</td>\n",
       "      <td>3</td>\n",
       "      <td>150.0</td>\n",
       "      <td>0</td>\n",
       "      <td>2.0</td>\n",
       "      <td>Uberlândia</td>\n",
       "      <td>Mansour</td>\n",
       "    </tr>\n",
       "    <tr>\n",
       "      <th>2</th>\n",
       "      <td>2.000</td>\n",
       "      <td>2</td>\n",
       "      <td>120.0</td>\n",
       "      <td>1</td>\n",
       "      <td>3.0</td>\n",
       "      <td>Uberlândia</td>\n",
       "      <td>Jardim Inconfidência</td>\n",
       "    </tr>\n",
       "    <tr>\n",
       "      <th>3</th>\n",
       "      <td>4.200</td>\n",
       "      <td>4</td>\n",
       "      <td>240.0</td>\n",
       "      <td>2</td>\n",
       "      <td>4.0</td>\n",
       "      <td>Uberlândia</td>\n",
       "      <td>Segismundo Pereira</td>\n",
       "    </tr>\n",
       "    <tr>\n",
       "      <th>4</th>\n",
       "      <td>4.000</td>\n",
       "      <td>3</td>\n",
       "      <td>200.0</td>\n",
       "      <td>5</td>\n",
       "      <td>4.0</td>\n",
       "      <td>Uberlândia</td>\n",
       "      <td>Santa Mônica</td>\n",
       "    </tr>\n",
       "  </tbody>\n",
       "</table>\n",
       "</div>"
      ],
      "text/plain": [
       "  Rent_price  Bedrooms  Square_meters  Garage  Bathrooms        City  \\\n",
       "0      1.700         3          250.0       3        2.0  Uberlândia   \n",
       "1      1.600         3          150.0       0        2.0  Uberlândia   \n",
       "2      2.000         2          120.0       1        3.0  Uberlândia   \n",
       "3      4.200         4          240.0       2        4.0  Uberlândia   \n",
       "4      4.000         3          200.0       5        4.0  Uberlândia   \n",
       "\n",
       "           Neighborhood  \n",
       "0            Santa Rosa  \n",
       "1               Mansour  \n",
       "2  Jardim Inconfidência  \n",
       "3    Segismundo Pereira  \n",
       "4          Santa Mônica  "
      ]
     },
     "execution_count": 1,
     "metadata": {},
     "output_type": "execute_result"
    }
   ],
   "source": [
    "import pandas as pd\n",
    "import matplotlib.pyplot as plt\n",
    "from sklearn.model_selection import train_test_split\n",
    "from sklearn.linear_model import LinearRegression\n",
    "\n",
    "df = pd.read_csv('rent_house_price_data.csv')\n",
    "df.head()"
   ]
  },
  {
   "cell_type": "code",
   "execution_count": 2,
   "id": "230ff6de-d9c3-40ec-87fc-557150a1a12b",
   "metadata": {},
   "outputs": [
    {
     "name": "stdout",
     "output_type": "stream",
     "text": [
      "<class 'pandas.core.frame.DataFrame'>\n",
      "RangeIndex: 2545 entries, 0 to 2544\n",
      "Data columns (total 7 columns):\n",
      " #   Column         Non-Null Count  Dtype  \n",
      "---  ------         --------------  -----  \n",
      " 0   Rent_price     2537 non-null   object \n",
      " 1   Bedrooms       2545 non-null   int64  \n",
      " 2   Square_meters  2522 non-null   float64\n",
      " 3   Garage         2545 non-null   int64  \n",
      " 4   Bathrooms      2543 non-null   float64\n",
      " 5   City           2545 non-null   object \n",
      " 6   Neighborhood   2545 non-null   object \n",
      "dtypes: float64(2), int64(2), object(3)\n",
      "memory usage: 139.3+ KB\n"
     ]
    }
   ],
   "source": [
    "df.info()"
   ]
  },
  {
   "cell_type": "code",
   "execution_count": 3,
   "id": "f9b0710c-c59b-42b5-961f-fed0e4e2f538",
   "metadata": {},
   "outputs": [
    {
     "data": {
      "text/html": [
       "<div>\n",
       "<style scoped>\n",
       "    .dataframe tbody tr th:only-of-type {\n",
       "        vertical-align: middle;\n",
       "    }\n",
       "\n",
       "    .dataframe tbody tr th {\n",
       "        vertical-align: top;\n",
       "    }\n",
       "\n",
       "    .dataframe thead th {\n",
       "        text-align: right;\n",
       "    }\n",
       "</style>\n",
       "<table border=\"1\" class=\"dataframe\">\n",
       "  <thead>\n",
       "    <tr style=\"text-align: right;\">\n",
       "      <th></th>\n",
       "      <th>Bedrooms</th>\n",
       "      <th>Square_meters</th>\n",
       "      <th>Garage</th>\n",
       "      <th>Bathrooms</th>\n",
       "    </tr>\n",
       "  </thead>\n",
       "  <tbody>\n",
       "    <tr>\n",
       "      <th>count</th>\n",
       "      <td>2545.000000</td>\n",
       "      <td>2522.000000</td>\n",
       "      <td>2545.000000</td>\n",
       "      <td>2543.000000</td>\n",
       "    </tr>\n",
       "    <tr>\n",
       "      <th>mean</th>\n",
       "      <td>3.181139</td>\n",
       "      <td>261.556701</td>\n",
       "      <td>2.424361</td>\n",
       "      <td>2.804562</td>\n",
       "    </tr>\n",
       "    <tr>\n",
       "      <th>std</th>\n",
       "      <td>0.978442</td>\n",
       "      <td>824.189601</td>\n",
       "      <td>1.474054</td>\n",
       "      <td>1.431887</td>\n",
       "    </tr>\n",
       "    <tr>\n",
       "      <th>min</th>\n",
       "      <td>1.000000</td>\n",
       "      <td>3.000000</td>\n",
       "      <td>0.000000</td>\n",
       "      <td>1.000000</td>\n",
       "    </tr>\n",
       "    <tr>\n",
       "      <th>25%</th>\n",
       "      <td>3.000000</td>\n",
       "      <td>125.000000</td>\n",
       "      <td>1.000000</td>\n",
       "      <td>2.000000</td>\n",
       "    </tr>\n",
       "    <tr>\n",
       "      <th>50%</th>\n",
       "      <td>3.000000</td>\n",
       "      <td>210.000000</td>\n",
       "      <td>2.000000</td>\n",
       "      <td>3.000000</td>\n",
       "    </tr>\n",
       "    <tr>\n",
       "      <th>75%</th>\n",
       "      <td>4.000000</td>\n",
       "      <td>300.000000</td>\n",
       "      <td>4.000000</td>\n",
       "      <td>4.000000</td>\n",
       "    </tr>\n",
       "    <tr>\n",
       "      <th>max</th>\n",
       "      <td>5.000000</td>\n",
       "      <td>40000.000000</td>\n",
       "      <td>5.000000</td>\n",
       "      <td>5.000000</td>\n",
       "    </tr>\n",
       "  </tbody>\n",
       "</table>\n",
       "</div>"
      ],
      "text/plain": [
       "          Bedrooms  Square_meters       Garage    Bathrooms\n",
       "count  2545.000000    2522.000000  2545.000000  2543.000000\n",
       "mean      3.181139     261.556701     2.424361     2.804562\n",
       "std       0.978442     824.189601     1.474054     1.431887\n",
       "min       1.000000       3.000000     0.000000     1.000000\n",
       "25%       3.000000     125.000000     1.000000     2.000000\n",
       "50%       3.000000     210.000000     2.000000     3.000000\n",
       "75%       4.000000     300.000000     4.000000     4.000000\n",
       "max       5.000000   40000.000000     5.000000     5.000000"
      ]
     },
     "execution_count": 3,
     "metadata": {},
     "output_type": "execute_result"
    }
   ],
   "source": [
    "df.describe()"
   ]
  },
  {
   "cell_type": "markdown",
   "id": "e7838175-400a-4683-976e-2e62d71881f2",
   "metadata": {},
   "source": [
    "### 1.1 Tratando valores nulos"
   ]
  },
  {
   "cell_type": "code",
   "execution_count": 4,
   "id": "058d2496-d0a1-41ce-a914-aba2bd4858a1",
   "metadata": {},
   "outputs": [
    {
     "data": {
      "text/plain": [
       "Rent_price        True\n",
       "Bedrooms         False\n",
       "Square_meters     True\n",
       "Garage           False\n",
       "Bathrooms         True\n",
       "City             False\n",
       "Neighborhood     False\n",
       "dtype: bool"
      ]
     },
     "execution_count": 4,
     "metadata": {},
     "output_type": "execute_result"
    }
   ],
   "source": [
    "df.isnull().any()"
   ]
  },
  {
   "cell_type": "code",
   "execution_count": 5,
   "id": "49297296-1a6a-4da6-a3f7-774875f731bf",
   "metadata": {},
   "outputs": [
    {
     "data": {
      "text/plain": [
       "Rent_price        8\n",
       "Bedrooms          0\n",
       "Square_meters    23\n",
       "Garage            0\n",
       "Bathrooms         2\n",
       "City              0\n",
       "Neighborhood      0\n",
       "dtype: int64"
      ]
     },
     "execution_count": 5,
     "metadata": {},
     "output_type": "execute_result"
    }
   ],
   "source": [
    "df.isnull().sum()"
   ]
  },
  {
   "cell_type": "code",
   "execution_count": 6,
   "id": "15370c0a-f205-4f3a-870b-674592c1c7c8",
   "metadata": {},
   "outputs": [
    {
     "data": {
      "text/plain": [
       "(2519, 7)"
      ]
     },
     "execution_count": 6,
     "metadata": {},
     "output_type": "execute_result"
    }
   ],
   "source": [
    "df = df.dropna(axis=0)\n",
    "df.shape"
   ]
  },
  {
   "cell_type": "code",
   "execution_count": 7,
   "id": "f7b64793-da0d-49d6-8cc7-28ae1c14e46b",
   "metadata": {},
   "outputs": [
    {
     "data": {
      "text/plain": [
       "Rent_price       False\n",
       "Bedrooms         False\n",
       "Square_meters    False\n",
       "Garage           False\n",
       "Bathrooms        False\n",
       "City             False\n",
       "Neighborhood     False\n",
       "dtype: bool"
      ]
     },
     "execution_count": 7,
     "metadata": {},
     "output_type": "execute_result"
    }
   ],
   "source": [
    "df.isnull().any()"
   ]
  },
  {
   "cell_type": "code",
   "execution_count": 8,
   "id": "cb6cc028-6921-43eb-b7e4-3d6d13206704",
   "metadata": {},
   "outputs": [],
   "source": [
    "df.reset_index(drop=True, inplace=True)"
   ]
  },
  {
   "cell_type": "markdown",
   "id": "5cfb8b2f-237a-4073-b793-58889d7f7280",
   "metadata": {},
   "source": [
    "### 1.2 Correção de Tipos de Dados"
   ]
  },
  {
   "cell_type": "code",
   "execution_count": 9,
   "id": "6f0690dd-2d0e-400c-b414-a7b053e4f202",
   "metadata": {},
   "outputs": [],
   "source": [
    "df['Rent_price'] = df['Rent_price'].str.replace('.', '').str.strip()\n",
    "df['Rent_price'] = df['Rent_price'].astype(float)\n",
    "df['Bathrooms'] = df['Bathrooms'].astype(int)"
   ]
  },
  {
   "cell_type": "code",
   "execution_count": 10,
   "id": "23a1e857-e70c-4ce5-add7-a9bfb4cfef59",
   "metadata": {},
   "outputs": [
    {
     "name": "stdout",
     "output_type": "stream",
     "text": [
      "<class 'pandas.core.frame.DataFrame'>\n",
      "RangeIndex: 2519 entries, 0 to 2518\n",
      "Data columns (total 7 columns):\n",
      " #   Column         Non-Null Count  Dtype  \n",
      "---  ------         --------------  -----  \n",
      " 0   Rent_price     2519 non-null   float64\n",
      " 1   Bedrooms       2519 non-null   int64  \n",
      " 2   Square_meters  2519 non-null   float64\n",
      " 3   Garage         2519 non-null   int64  \n",
      " 4   Bathrooms      2519 non-null   int32  \n",
      " 5   City           2519 non-null   object \n",
      " 6   Neighborhood   2519 non-null   object \n",
      "dtypes: float64(2), int32(1), int64(2), object(2)\n",
      "memory usage: 128.0+ KB\n"
     ]
    }
   ],
   "source": [
    "df.info()"
   ]
  },
  {
   "cell_type": "markdown",
   "id": "6e81e9a6-3710-41af-a79f-6e2010ce0035",
   "metadata": {},
   "source": [
    "### 1.3 Tratando casas duplicadas"
   ]
  },
  {
   "cell_type": "code",
   "execution_count": 11,
   "id": "bb776e0b-caac-428d-b558-75eb030e7a4b",
   "metadata": {
    "scrolled": true
   },
   "outputs": [
    {
     "name": "stdout",
     "output_type": "stream",
     "text": [
      "DataFrame original:\n",
      "      Rent_price  Bedrooms  Square_meters  Garage  Bathrooms        City  \\\n",
      "0         1700.0         3          250.0       3          2  Uberlândia   \n",
      "1         1600.0         3          150.0       0          2  Uberlândia   \n",
      "2         2000.0         2          120.0       1          3  Uberlândia   \n",
      "3         4200.0         4          240.0       2          4  Uberlândia   \n",
      "4         4000.0         3          200.0       5          4  Uberlândia   \n",
      "...          ...       ...            ...     ...        ...         ...   \n",
      "2514      8000.0         3          300.0       5          4  Uberlândia   \n",
      "2515     10000.0         4          310.0       4          3  Uberlândia   \n",
      "2516      8000.0         4          300.0       5          4  Uberlândia   \n",
      "2517      5010.0         3          370.0       4          3  Uberlândia   \n",
      "2518      6000.0         5          205.0       2          3  Uberlândia   \n",
      "\n",
      "              Neighborhood  \n",
      "0               Santa Rosa  \n",
      "1                  Mansour  \n",
      "2     Jardim Inconfidência  \n",
      "3       Segismundo Pereira  \n",
      "4             Santa Mônica  \n",
      "...                    ...  \n",
      "2514      Morada da Colina  \n",
      "2515                 Gávea  \n",
      "2516             Tabajaras  \n",
      "2517           Santa Luzia  \n",
      "2518             Bom Jesus  \n",
      "\n",
      "[2519 rows x 7 columns]\n",
      "\n",
      "DataFrame com duplicatas:\n",
      "      Rent_price  Bedrooms  Square_meters  Garage  Bathrooms        City  \\\n",
      "7         4500.0         5          300.0       2          5  Uberlândia   \n",
      "11       28000.0         4          800.0       5          5  Uberlândia   \n",
      "36        3200.0         3           90.0       2          2  Uberlândia   \n",
      "37        2700.0         2          143.0       2          2  Uberlândia   \n",
      "38       28000.0         4          800.0       5          5  Uberlândia   \n",
      "...          ...       ...            ...     ...        ...         ...   \n",
      "2501     15000.0         4          337.0       2          5  Uberlândia   \n",
      "2505      9500.0         5          480.0       2          5  Uberlândia   \n",
      "2507      5000.0         4          283.0       1          2  Uberlândia   \n",
      "2511      3500.0         3          175.0       2          2  Uberlândia   \n",
      "2513      9800.0         5          500.0       5          5  Uberlândia   \n",
      "\n",
      "            Neighborhood  \n",
      "7       Vigilato Pereira  \n",
      "11      Morada da Colina  \n",
      "36    Bosque dos Buritis  \n",
      "37               Granada  \n",
      "38      Morada da Colina  \n",
      "...                  ...  \n",
      "2501     Nova Uberlândia  \n",
      "2505       Cidade Jardim  \n",
      "2507              Centro  \n",
      "2511     Jardim Patrícia  \n",
      "2513       Cidade Jardim  \n",
      "\n",
      "[325 rows x 7 columns]\n"
     ]
    }
   ],
   "source": [
    "duplicates_houses = df.duplicated(subset=[\"Rent_price\", \"Bedrooms\", \"Square_meters\", \"Garage\", \"Bathrooms\",\"City\", \"Neighborhood\"], keep=False)\n",
    "\n",
    "duplicates_houses_df = df[duplicates_houses]\n",
    "\n",
    "print(\"DataFrame original:\")\n",
    "print(df)\n",
    "print(\"\\nDataFrame com duplicatas:\")\n",
    "print(duplicates_houses_df)"
   ]
  },
  {
   "cell_type": "code",
   "execution_count": 12,
   "id": "c342815b-6df9-4cd8-afab-0dc0e1ade280",
   "metadata": {},
   "outputs": [
    {
     "data": {
      "text/plain": [
       "(2341, 7)"
      ]
     },
     "execution_count": 12,
     "metadata": {},
     "output_type": "execute_result"
    }
   ],
   "source": [
    "df = df.drop_duplicates(subset=['Rent_price', 'Bedrooms', 'Square_meters', 'Garage', 'Bathrooms', 'City', 'Neighborhood'])\n",
    "df.reset_index(drop=True, inplace=True)\n",
    "df.shape"
   ]
  },
  {
   "cell_type": "markdown",
   "id": "368eeb1f-ce79-480e-ac25-4aef48be0eaa",
   "metadata": {},
   "source": [
    "### 1.4 Transformação de Atributos\n",
    "    Aqui vou padronizar algumas colunas, utilizar o one-hot encoding e remover colunas que não serão utilizadas."
   ]
  },
  {
   "cell_type": "markdown",
   "id": "8b68637b-bc36-4c24-886c-ef83fb128720",
   "metadata": {},
   "source": [
    "Padronizando a coluna 'Square_meters'"
   ]
  },
  {
   "cell_type": "code",
   "execution_count": 13,
   "id": "2885c995-55fe-421e-b9d5-2bbfbc7ceb9d",
   "metadata": {},
   "outputs": [
    {
     "data": {
      "text/html": [
       "<div>\n",
       "<style scoped>\n",
       "    .dataframe tbody tr th:only-of-type {\n",
       "        vertical-align: middle;\n",
       "    }\n",
       "\n",
       "    .dataframe tbody tr th {\n",
       "        vertical-align: top;\n",
       "    }\n",
       "\n",
       "    .dataframe thead th {\n",
       "        text-align: right;\n",
       "    }\n",
       "</style>\n",
       "<table border=\"1\" class=\"dataframe\">\n",
       "  <thead>\n",
       "    <tr style=\"text-align: right;\">\n",
       "      <th></th>\n",
       "      <th>Rent_price</th>\n",
       "      <th>Bedrooms</th>\n",
       "      <th>Square_meters</th>\n",
       "      <th>Garage</th>\n",
       "      <th>Bathrooms</th>\n",
       "      <th>City</th>\n",
       "      <th>Neighborhood</th>\n",
       "    </tr>\n",
       "  </thead>\n",
       "  <tbody>\n",
       "    <tr>\n",
       "      <th>0</th>\n",
       "      <td>1700.0</td>\n",
       "      <td>3</td>\n",
       "      <td>250.0</td>\n",
       "      <td>3</td>\n",
       "      <td>2</td>\n",
       "      <td>Uberlândia</td>\n",
       "      <td>Santa Rosa</td>\n",
       "    </tr>\n",
       "    <tr>\n",
       "      <th>1</th>\n",
       "      <td>1600.0</td>\n",
       "      <td>3</td>\n",
       "      <td>150.0</td>\n",
       "      <td>0</td>\n",
       "      <td>2</td>\n",
       "      <td>Uberlândia</td>\n",
       "      <td>Mansour</td>\n",
       "    </tr>\n",
       "    <tr>\n",
       "      <th>2</th>\n",
       "      <td>2000.0</td>\n",
       "      <td>2</td>\n",
       "      <td>120.0</td>\n",
       "      <td>1</td>\n",
       "      <td>3</td>\n",
       "      <td>Uberlândia</td>\n",
       "      <td>Jardim Inconfidência</td>\n",
       "    </tr>\n",
       "    <tr>\n",
       "      <th>3</th>\n",
       "      <td>4200.0</td>\n",
       "      <td>4</td>\n",
       "      <td>240.0</td>\n",
       "      <td>2</td>\n",
       "      <td>4</td>\n",
       "      <td>Uberlândia</td>\n",
       "      <td>Segismundo Pereira</td>\n",
       "    </tr>\n",
       "    <tr>\n",
       "      <th>4</th>\n",
       "      <td>4000.0</td>\n",
       "      <td>3</td>\n",
       "      <td>200.0</td>\n",
       "      <td>5</td>\n",
       "      <td>4</td>\n",
       "      <td>Uberlândia</td>\n",
       "      <td>Santa Mônica</td>\n",
       "    </tr>\n",
       "  </tbody>\n",
       "</table>\n",
       "</div>"
      ],
      "text/plain": [
       "   Rent_price  Bedrooms  Square_meters  Garage  Bathrooms        City  \\\n",
       "0      1700.0         3          250.0       3          2  Uberlândia   \n",
       "1      1600.0         3          150.0       0          2  Uberlândia   \n",
       "2      2000.0         2          120.0       1          3  Uberlândia   \n",
       "3      4200.0         4          240.0       2          4  Uberlândia   \n",
       "4      4000.0         3          200.0       5          4  Uberlândia   \n",
       "\n",
       "           Neighborhood  \n",
       "0            Santa Rosa  \n",
       "1               Mansour  \n",
       "2  Jardim Inconfidência  \n",
       "3    Segismundo Pereira  \n",
       "4          Santa Mônica  "
      ]
     },
     "execution_count": 13,
     "metadata": {},
     "output_type": "execute_result"
    }
   ],
   "source": [
    "df.head()"
   ]
  },
  {
   "cell_type": "code",
   "execution_count": 14,
   "id": "1f87be24-54f4-41ea-8515-4c2957b5f577",
   "metadata": {},
   "outputs": [
    {
     "data": {
      "text/plain": [
       "(2341, 7)"
      ]
     },
     "execution_count": 14,
     "metadata": {},
     "output_type": "execute_result"
    }
   ],
   "source": [
    "df.shape"
   ]
  },
  {
   "cell_type": "code",
   "execution_count": 15,
   "id": "1ac64504-9072-48f4-823b-193c37f3420c",
   "metadata": {},
   "outputs": [],
   "source": [
    "df = df[df['Square_meters'] <= 2550]\n",
    "df = df[(df['Rent_price'] < 7000)]"
   ]
  },
  {
   "cell_type": "code",
   "execution_count": 16,
   "id": "3875f4c0-33da-4588-b22c-36faa4e13a2b",
   "metadata": {},
   "outputs": [],
   "source": [
    "\n",
    "Square_meters_mean = df['Square_meters'].mean()\n",
    "Square_meters_std = df['Square_meters'].std()\n",
    "\n",
    "df.loc[:,'Square_meters_std'] = df['Square_meters'].apply(lambda num: (num - Square_meters_mean) / Square_meters_std)\n"
   ]
  },
  {
   "cell_type": "code",
   "execution_count": 17,
   "id": "e6e9b0fb-25ea-40c2-99ee-a29ad3665486",
   "metadata": {},
   "outputs": [
    {
     "data": {
      "text/html": [
       "<div>\n",
       "<style scoped>\n",
       "    .dataframe tbody tr th:only-of-type {\n",
       "        vertical-align: middle;\n",
       "    }\n",
       "\n",
       "    .dataframe tbody tr th {\n",
       "        vertical-align: top;\n",
       "    }\n",
       "\n",
       "    .dataframe thead th {\n",
       "        text-align: right;\n",
       "    }\n",
       "</style>\n",
       "<table border=\"1\" class=\"dataframe\">\n",
       "  <thead>\n",
       "    <tr style=\"text-align: right;\">\n",
       "      <th></th>\n",
       "      <th>Rent_price</th>\n",
       "      <th>Bedrooms</th>\n",
       "      <th>Square_meters</th>\n",
       "      <th>Garage</th>\n",
       "      <th>Bathrooms</th>\n",
       "      <th>City</th>\n",
       "      <th>Neighborhood</th>\n",
       "      <th>Square_meters_std</th>\n",
       "    </tr>\n",
       "  </thead>\n",
       "  <tbody>\n",
       "    <tr>\n",
       "      <th>0</th>\n",
       "      <td>1700.0</td>\n",
       "      <td>3</td>\n",
       "      <td>250.0</td>\n",
       "      <td>3</td>\n",
       "      <td>2</td>\n",
       "      <td>Uberlândia</td>\n",
       "      <td>Santa Rosa</td>\n",
       "      <td>0.745248</td>\n",
       "    </tr>\n",
       "    <tr>\n",
       "      <th>1</th>\n",
       "      <td>1600.0</td>\n",
       "      <td>3</td>\n",
       "      <td>150.0</td>\n",
       "      <td>0</td>\n",
       "      <td>2</td>\n",
       "      <td>Uberlândia</td>\n",
       "      <td>Mansour</td>\n",
       "      <td>-0.250172</td>\n",
       "    </tr>\n",
       "    <tr>\n",
       "      <th>2</th>\n",
       "      <td>2000.0</td>\n",
       "      <td>2</td>\n",
       "      <td>120.0</td>\n",
       "      <td>1</td>\n",
       "      <td>3</td>\n",
       "      <td>Uberlândia</td>\n",
       "      <td>Jardim Inconfidência</td>\n",
       "      <td>-0.548798</td>\n",
       "    </tr>\n",
       "    <tr>\n",
       "      <th>3</th>\n",
       "      <td>4200.0</td>\n",
       "      <td>4</td>\n",
       "      <td>240.0</td>\n",
       "      <td>2</td>\n",
       "      <td>4</td>\n",
       "      <td>Uberlândia</td>\n",
       "      <td>Segismundo Pereira</td>\n",
       "      <td>0.645706</td>\n",
       "    </tr>\n",
       "    <tr>\n",
       "      <th>4</th>\n",
       "      <td>4000.0</td>\n",
       "      <td>3</td>\n",
       "      <td>200.0</td>\n",
       "      <td>5</td>\n",
       "      <td>4</td>\n",
       "      <td>Uberlândia</td>\n",
       "      <td>Santa Mônica</td>\n",
       "      <td>0.247538</td>\n",
       "    </tr>\n",
       "  </tbody>\n",
       "</table>\n",
       "</div>"
      ],
      "text/plain": [
       "   Rent_price  Bedrooms  Square_meters  Garage  Bathrooms        City  \\\n",
       "0      1700.0         3          250.0       3          2  Uberlândia   \n",
       "1      1600.0         3          150.0       0          2  Uberlândia   \n",
       "2      2000.0         2          120.0       1          3  Uberlândia   \n",
       "3      4200.0         4          240.0       2          4  Uberlândia   \n",
       "4      4000.0         3          200.0       5          4  Uberlândia   \n",
       "\n",
       "           Neighborhood  Square_meters_std  \n",
       "0            Santa Rosa           0.745248  \n",
       "1               Mansour          -0.250172  \n",
       "2  Jardim Inconfidência          -0.548798  \n",
       "3    Segismundo Pereira           0.645706  \n",
       "4          Santa Mônica           0.247538  "
      ]
     },
     "execution_count": 17,
     "metadata": {},
     "output_type": "execute_result"
    }
   ],
   "source": [
    "df.head()"
   ]
  },
  {
   "cell_type": "code",
   "execution_count": 18,
   "id": "b9ad2198-3a4d-4d7c-90f7-2f725d2be8eb",
   "metadata": {},
   "outputs": [
    {
     "data": {
      "text/html": [
       "<div>\n",
       "<style scoped>\n",
       "    .dataframe tbody tr th:only-of-type {\n",
       "        vertical-align: middle;\n",
       "    }\n",
       "\n",
       "    .dataframe tbody tr th {\n",
       "        vertical-align: top;\n",
       "    }\n",
       "\n",
       "    .dataframe thead th {\n",
       "        text-align: right;\n",
       "    }\n",
       "</style>\n",
       "<table border=\"1\" class=\"dataframe\">\n",
       "  <thead>\n",
       "    <tr style=\"text-align: right;\">\n",
       "      <th></th>\n",
       "      <th>Rent_price</th>\n",
       "      <th>Bedrooms</th>\n",
       "      <th>Square_meters</th>\n",
       "      <th>Garage</th>\n",
       "      <th>Bathrooms</th>\n",
       "      <th>City</th>\n",
       "      <th>Neighborhood</th>\n",
       "      <th>Square_meters_std</th>\n",
       "    </tr>\n",
       "  </thead>\n",
       "  <tbody>\n",
       "    <tr>\n",
       "      <th>2052</th>\n",
       "      <td>3000.0</td>\n",
       "      <td>3</td>\n",
       "      <td>1100.0</td>\n",
       "      <td>2</td>\n",
       "      <td>1</td>\n",
       "      <td>Uberlândia</td>\n",
       "      <td>Bosque dos Buritis</td>\n",
       "      <td>9.206318</td>\n",
       "    </tr>\n",
       "    <tr>\n",
       "      <th>260</th>\n",
       "      <td>350.0</td>\n",
       "      <td>2</td>\n",
       "      <td>1000.0</td>\n",
       "      <td>5</td>\n",
       "      <td>1</td>\n",
       "      <td>Uberlândia</td>\n",
       "      <td>Tocantins</td>\n",
       "      <td>8.210898</td>\n",
       "    </tr>\n",
       "    <tr>\n",
       "      <th>1516</th>\n",
       "      <td>5000.0</td>\n",
       "      <td>5</td>\n",
       "      <td>711.0</td>\n",
       "      <td>5</td>\n",
       "      <td>2</td>\n",
       "      <td>Uberlândia</td>\n",
       "      <td>Martins</td>\n",
       "      <td>5.334134</td>\n",
       "    </tr>\n",
       "    <tr>\n",
       "      <th>1356</th>\n",
       "      <td>6500.0</td>\n",
       "      <td>3</td>\n",
       "      <td>700.0</td>\n",
       "      <td>4</td>\n",
       "      <td>5</td>\n",
       "      <td>Uberlândia</td>\n",
       "      <td>Tabajaras</td>\n",
       "      <td>5.224638</td>\n",
       "    </tr>\n",
       "    <tr>\n",
       "      <th>773</th>\n",
       "      <td>2500.0</td>\n",
       "      <td>2</td>\n",
       "      <td>600.0</td>\n",
       "      <td>5</td>\n",
       "      <td>2</td>\n",
       "      <td>Uberlândia</td>\n",
       "      <td>Martins</td>\n",
       "      <td>4.229218</td>\n",
       "    </tr>\n",
       "  </tbody>\n",
       "</table>\n",
       "</div>"
      ],
      "text/plain": [
       "      Rent_price  Bedrooms  Square_meters  Garage  Bathrooms        City  \\\n",
       "2052      3000.0         3         1100.0       2          1  Uberlândia   \n",
       "260        350.0         2         1000.0       5          1  Uberlândia   \n",
       "1516      5000.0         5          711.0       5          2  Uberlândia   \n",
       "1356      6500.0         3          700.0       4          5  Uberlândia   \n",
       "773       2500.0         2          600.0       5          2  Uberlândia   \n",
       "\n",
       "            Neighborhood  Square_meters_std  \n",
       "2052  Bosque dos Buritis           9.206318  \n",
       "260            Tocantins           8.210898  \n",
       "1516             Martins           5.334134  \n",
       "1356           Tabajaras           5.224638  \n",
       "773              Martins           4.229218  "
      ]
     },
     "execution_count": 18,
     "metadata": {},
     "output_type": "execute_result"
    }
   ],
   "source": [
    "df_sorted_by_square_meters_std = df.sort_values(by='Square_meters_std', ascending=False)\n",
    "df_sorted_by_square_meters_std.head()\n"
   ]
  },
  {
   "cell_type": "code",
   "execution_count": 19,
   "id": "4be1e42f-7e15-469e-b93c-3c1adbb20515",
   "metadata": {},
   "outputs": [
    {
     "data": {
      "text/html": [
       "<div>\n",
       "<style scoped>\n",
       "    .dataframe tbody tr th:only-of-type {\n",
       "        vertical-align: middle;\n",
       "    }\n",
       "\n",
       "    .dataframe tbody tr th {\n",
       "        vertical-align: top;\n",
       "    }\n",
       "\n",
       "    .dataframe thead th {\n",
       "        text-align: right;\n",
       "    }\n",
       "</style>\n",
       "<table border=\"1\" class=\"dataframe\">\n",
       "  <thead>\n",
       "    <tr style=\"text-align: right;\">\n",
       "      <th></th>\n",
       "      <th>Rent_price</th>\n",
       "      <th>Bedrooms</th>\n",
       "      <th>Square_meters</th>\n",
       "      <th>Garage</th>\n",
       "      <th>Bathrooms</th>\n",
       "      <th>City</th>\n",
       "      <th>Neighborhood</th>\n",
       "      <th>Square_meters_std</th>\n",
       "    </tr>\n",
       "  </thead>\n",
       "  <tbody>\n",
       "    <tr>\n",
       "      <th>2052</th>\n",
       "      <td>3000.0</td>\n",
       "      <td>3</td>\n",
       "      <td>1100.0</td>\n",
       "      <td>2</td>\n",
       "      <td>1</td>\n",
       "      <td>Uberlândia</td>\n",
       "      <td>Bosque dos Buritis</td>\n",
       "      <td>9.206318</td>\n",
       "    </tr>\n",
       "    <tr>\n",
       "      <th>260</th>\n",
       "      <td>350.0</td>\n",
       "      <td>2</td>\n",
       "      <td>1000.0</td>\n",
       "      <td>5</td>\n",
       "      <td>1</td>\n",
       "      <td>Uberlândia</td>\n",
       "      <td>Tocantins</td>\n",
       "      <td>8.210898</td>\n",
       "    </tr>\n",
       "    <tr>\n",
       "      <th>1516</th>\n",
       "      <td>5000.0</td>\n",
       "      <td>5</td>\n",
       "      <td>711.0</td>\n",
       "      <td>5</td>\n",
       "      <td>2</td>\n",
       "      <td>Uberlândia</td>\n",
       "      <td>Martins</td>\n",
       "      <td>5.334134</td>\n",
       "    </tr>\n",
       "    <tr>\n",
       "      <th>1356</th>\n",
       "      <td>6500.0</td>\n",
       "      <td>3</td>\n",
       "      <td>700.0</td>\n",
       "      <td>4</td>\n",
       "      <td>5</td>\n",
       "      <td>Uberlândia</td>\n",
       "      <td>Tabajaras</td>\n",
       "      <td>5.224638</td>\n",
       "    </tr>\n",
       "    <tr>\n",
       "      <th>773</th>\n",
       "      <td>2500.0</td>\n",
       "      <td>2</td>\n",
       "      <td>600.0</td>\n",
       "      <td>5</td>\n",
       "      <td>2</td>\n",
       "      <td>Uberlândia</td>\n",
       "      <td>Martins</td>\n",
       "      <td>4.229218</td>\n",
       "    </tr>\n",
       "  </tbody>\n",
       "</table>\n",
       "</div>"
      ],
      "text/plain": [
       "      Rent_price  Bedrooms  Square_meters  Garage  Bathrooms        City  \\\n",
       "2052      3000.0         3         1100.0       2          1  Uberlândia   \n",
       "260        350.0         2         1000.0       5          1  Uberlândia   \n",
       "1516      5000.0         5          711.0       5          2  Uberlândia   \n",
       "1356      6500.0         3          700.0       4          5  Uberlândia   \n",
       "773       2500.0         2          600.0       5          2  Uberlândia   \n",
       "\n",
       "            Neighborhood  Square_meters_std  \n",
       "2052  Bosque dos Buritis           9.206318  \n",
       "260            Tocantins           8.210898  \n",
       "1516             Martins           5.334134  \n",
       "1356           Tabajaras           5.224638  \n",
       "773              Martins           4.229218  "
      ]
     },
     "execution_count": 19,
     "metadata": {},
     "output_type": "execute_result"
    }
   ],
   "source": [
    "df_sorted_by_square_meters = df.sort_values(by='Square_meters', ascending=False)\n",
    "df_sorted_by_square_meters.head()\n"
   ]
  },
  {
   "cell_type": "code",
   "execution_count": 20,
   "id": "54fea890-055f-4a71-a5f3-09a08115072d",
   "metadata": {},
   "outputs": [
    {
     "data": {
      "text/html": [
       "<div>\n",
       "<style scoped>\n",
       "    .dataframe tbody tr th:only-of-type {\n",
       "        vertical-align: middle;\n",
       "    }\n",
       "\n",
       "    .dataframe tbody tr th {\n",
       "        vertical-align: top;\n",
       "    }\n",
       "\n",
       "    .dataframe thead th {\n",
       "        text-align: right;\n",
       "    }\n",
       "</style>\n",
       "<table border=\"1\" class=\"dataframe\">\n",
       "  <thead>\n",
       "    <tr style=\"text-align: right;\">\n",
       "      <th></th>\n",
       "      <th>Rent_price</th>\n",
       "      <th>Bedrooms</th>\n",
       "      <th>Square_meters</th>\n",
       "      <th>Garage</th>\n",
       "      <th>Bathrooms</th>\n",
       "      <th>City</th>\n",
       "      <th>Neighborhood</th>\n",
       "      <th>Square_meters_std</th>\n",
       "    </tr>\n",
       "  </thead>\n",
       "  <tbody>\n",
       "    <tr>\n",
       "      <th>1131</th>\n",
       "      <td>6800.0</td>\n",
       "      <td>4</td>\n",
       "      <td>450.0</td>\n",
       "      <td>4</td>\n",
       "      <td>5</td>\n",
       "      <td>Uberlândia</td>\n",
       "      <td>Cazeca</td>\n",
       "      <td>2.736088</td>\n",
       "    </tr>\n",
       "    <tr>\n",
       "      <th>777</th>\n",
       "      <td>6800.0</td>\n",
       "      <td>4</td>\n",
       "      <td>450.0</td>\n",
       "      <td>4</td>\n",
       "      <td>2</td>\n",
       "      <td>Uberlândia</td>\n",
       "      <td>Cazeca</td>\n",
       "      <td>2.736088</td>\n",
       "    </tr>\n",
       "    <tr>\n",
       "      <th>514</th>\n",
       "      <td>6800.0</td>\n",
       "      <td>3</td>\n",
       "      <td>350.0</td>\n",
       "      <td>2</td>\n",
       "      <td>3</td>\n",
       "      <td>Uberlândia</td>\n",
       "      <td>Lídice</td>\n",
       "      <td>1.740668</td>\n",
       "    </tr>\n",
       "    <tr>\n",
       "      <th>531</th>\n",
       "      <td>6800.0</td>\n",
       "      <td>3</td>\n",
       "      <td>380.0</td>\n",
       "      <td>4</td>\n",
       "      <td>1</td>\n",
       "      <td>Uberlândia</td>\n",
       "      <td>Lídice</td>\n",
       "      <td>2.039294</td>\n",
       "    </tr>\n",
       "    <tr>\n",
       "      <th>1788</th>\n",
       "      <td>6800.0</td>\n",
       "      <td>3</td>\n",
       "      <td>250.0</td>\n",
       "      <td>3</td>\n",
       "      <td>2</td>\n",
       "      <td>Uberlândia</td>\n",
       "      <td>Umuarama</td>\n",
       "      <td>0.745248</td>\n",
       "    </tr>\n",
       "    <tr>\n",
       "      <th>...</th>\n",
       "      <td>...</td>\n",
       "      <td>...</td>\n",
       "      <td>...</td>\n",
       "      <td>...</td>\n",
       "      <td>...</td>\n",
       "      <td>...</td>\n",
       "      <td>...</td>\n",
       "      <td>...</td>\n",
       "    </tr>\n",
       "    <tr>\n",
       "      <th>94</th>\n",
       "      <td>490.0</td>\n",
       "      <td>2</td>\n",
       "      <td>25.0</td>\n",
       "      <td>0</td>\n",
       "      <td>1</td>\n",
       "      <td>Uberlândia</td>\n",
       "      <td>Minas Gerais</td>\n",
       "      <td>-1.494447</td>\n",
       "    </tr>\n",
       "    <tr>\n",
       "      <th>404</th>\n",
       "      <td>400.0</td>\n",
       "      <td>1</td>\n",
       "      <td>35.0</td>\n",
       "      <td>0</td>\n",
       "      <td>1</td>\n",
       "      <td>Uberlândia</td>\n",
       "      <td>Presidente Roosevelt</td>\n",
       "      <td>-1.394905</td>\n",
       "    </tr>\n",
       "    <tr>\n",
       "      <th>133</th>\n",
       "      <td>360.0</td>\n",
       "      <td>1</td>\n",
       "      <td>33.0</td>\n",
       "      <td>0</td>\n",
       "      <td>1</td>\n",
       "      <td>Uberlândia</td>\n",
       "      <td>Residencial Integração</td>\n",
       "      <td>-1.414814</td>\n",
       "    </tr>\n",
       "    <tr>\n",
       "      <th>260</th>\n",
       "      <td>350.0</td>\n",
       "      <td>2</td>\n",
       "      <td>1000.0</td>\n",
       "      <td>5</td>\n",
       "      <td>1</td>\n",
       "      <td>Uberlândia</td>\n",
       "      <td>Tocantins</td>\n",
       "      <td>8.210898</td>\n",
       "    </tr>\n",
       "    <tr>\n",
       "      <th>526</th>\n",
       "      <td>250.0</td>\n",
       "      <td>2</td>\n",
       "      <td>80.0</td>\n",
       "      <td>1</td>\n",
       "      <td>1</td>\n",
       "      <td>Uberlândia</td>\n",
       "      <td>Saraiva</td>\n",
       "      <td>-0.946966</td>\n",
       "    </tr>\n",
       "  </tbody>\n",
       "</table>\n",
       "<p>1602 rows × 8 columns</p>\n",
       "</div>"
      ],
      "text/plain": [
       "      Rent_price  Bedrooms  Square_meters  Garage  Bathrooms        City  \\\n",
       "1131      6800.0         4          450.0       4          5  Uberlândia   \n",
       "777       6800.0         4          450.0       4          2  Uberlândia   \n",
       "514       6800.0         3          350.0       2          3  Uberlândia   \n",
       "531       6800.0         3          380.0       4          1  Uberlândia   \n",
       "1788      6800.0         3          250.0       3          2  Uberlândia   \n",
       "...          ...       ...            ...     ...        ...         ...   \n",
       "94         490.0         2           25.0       0          1  Uberlândia   \n",
       "404        400.0         1           35.0       0          1  Uberlândia   \n",
       "133        360.0         1           33.0       0          1  Uberlândia   \n",
       "260        350.0         2         1000.0       5          1  Uberlândia   \n",
       "526        250.0         2           80.0       1          1  Uberlândia   \n",
       "\n",
       "                Neighborhood  Square_meters_std  \n",
       "1131                  Cazeca           2.736088  \n",
       "777                   Cazeca           2.736088  \n",
       "514                   Lídice           1.740668  \n",
       "531                   Lídice           2.039294  \n",
       "1788                Umuarama           0.745248  \n",
       "...                      ...                ...  \n",
       "94              Minas Gerais          -1.494447  \n",
       "404     Presidente Roosevelt          -1.394905  \n",
       "133   Residencial Integração          -1.414814  \n",
       "260                Tocantins           8.210898  \n",
       "526                  Saraiva          -0.946966  \n",
       "\n",
       "[1602 rows x 8 columns]"
      ]
     },
     "execution_count": 20,
     "metadata": {},
     "output_type": "execute_result"
    }
   ],
   "source": [
    "df_sorted_by_rent_price = df.sort_values(by='Rent_price', ascending=False)\n",
    "df_sorted_by_rent_price\n"
   ]
  },
  {
   "cell_type": "markdown",
   "id": "2cb16ec8-e09d-40dd-8af3-e32b522a75f1",
   "metadata": {},
   "source": [
    "Agora vou começar a tratar a coluna Neighborhood"
   ]
  },
  {
   "cell_type": "code",
   "execution_count": 21,
   "id": "b4a67a0e-ce73-401b-a3f1-54f3b5fa564e",
   "metadata": {},
   "outputs": [
    {
     "name": "stdout",
     "output_type": "stream",
     "text": [
      "Neighborhood\n",
      "Santa Mônica               115\n",
      "Martins                    101\n",
      "Cidade Jardim               96\n",
      "Brasil                      88\n",
      "Nossa Senhora Aparecida     85\n",
      "                          ... \n",
      "São José                     1\n",
      "Chácaras Eldorado            1\n",
      "Grand Ville                  1\n",
      "Panorama                     1\n",
      "Residencial Nosso Lar        1\n",
      "Name: count, Length: 74, dtype: int64\n"
     ]
    }
   ],
   "source": [
    "# Conta o número de ocorrências de cada bairro\n",
    "neighborhood_count = df['Neighborhood'].value_counts()\n",
    "\n",
    "print(neighborhood_count)"
   ]
  },
  {
   "cell_type": "code",
   "execution_count": 22,
   "id": "ed3570c9-061c-4f36-b423-cc0eb5028d95",
   "metadata": {
    "scrolled": true
   },
   "outputs": [
    {
     "data": {
      "image/png": "[encoded data removed]",
      "text/plain": [
       "<Figure size 1500x600 with 1 Axes>"
      ]
     },
     "metadata": {},
     "output_type": "display_data"
    }
   ],
   "source": [
    "plt.figure(figsize=(15, 6))\n",
    "neighborhood_count.plot(kind='bar')\n",
    "plt.title('Distribuição dos Bairros')\n",
    "plt.xlabel('Bairros')\n",
    "plt.ylabel('Contagem')\n",
    "plt.show()"
   ]
  },
  {
   "cell_type": "markdown",
   "id": "7aafbc24-c415-4957-86a3-d3f913213fb8",
   "metadata": {},
   "source": [
    "Se percebe que alguns bairros têm uma ocorrência muito baixa na base de dados, o que pode afetar a generalização do modelo de ML.\n",
    "Então, a forma com que decidi resolver isso foi agrupar os bairros em zonas (centro, norte, sul, leste e oeste). Os bairros que não fazem parte dessas zonas serão removidos da análise. "
   ]
  },
  {
   "cell_type": "code",
   "execution_count": 23,
   "id": "d9b46064-59b0-462b-8bb0-1f925b7b1f77",
   "metadata": {},
   "outputs": [
    {
     "name": "stdout",
     "output_type": "stream",
     "text": [
      "['Santa Rosa' 'Mansour' 'Jardim Inconfidência' 'Segismundo Pereira'\n",
      " 'Santa Mônica' 'Jardim Patrícia' 'Vigilato Pereira' 'Centro'\n",
      " 'Minas Gerais' 'Novo Mundo' 'Custódio Pereira' 'Morada da Colina'\n",
      " 'Lídice' 'Cidade Jardim' 'Martins' 'Mansões Aeroporto' 'São Jorge'\n",
      " 'Jardim Brasília' 'Nossa Senhora Aparecida' 'Daniel Fonseca' 'Jaraguá'\n",
      " 'Bosque dos Buritis' 'Granada' 'Brasil' 'Marta Helena'\n",
      " 'Presidente Roosevelt' 'Osvaldo Rezende' 'Morada dos Pássaros' 'Umuarama'\n",
      " 'Tabajaras' 'Tubalina' 'Tibery' 'Aclimação' 'Jardim Canaã'\n",
      " 'Luizote de Freitas' 'Fundinho' 'Planalto' 'Nossa Senhora das Graças'\n",
      " 'Nova Uberlândia' 'Alto Umuarama' 'Jardim Ipanema' 'Saraiva'\n",
      " 'Jardim Europa' 'Pacaembu' 'Residencial Viviane' 'Laranjeiras' 'Taiaman'\n",
      " 'Residencial Integração' 'Jardim Karaíba' 'Lagoinha' 'Guarani'\n",
      " 'Maravilha' 'Jardim das Palmeiras' 'Bom Jesus' 'Granja Marileusa'\n",
      " 'Tocantins' 'Cazeca' 'Pampulha' 'Mansour III' 'Santa Luzia'\n",
      " 'Jardim Holanda' 'Jardim Colina' 'Morumbi' 'Copacabana' 'Jardim Botânico'\n",
      " 'Patrimônio' 'Chácaras Tubalina e Quartel' 'Jardim Sul' 'Dona Zulmira'\n",
      " 'São José' 'Chácaras Eldorado' 'Grand Ville' 'Panorama'\n",
      " 'Residencial Nosso Lar']\n"
     ]
    }
   ],
   "source": [
    "df_bairros = df['Neighborhood'].unique()\n",
    "print(df_bairros)"
   ]
  },
  {
   "cell_type": "code",
   "execution_count": 24,
   "id": "9f947f4c-6dac-4aaf-9eb5-a3b8111abaa6",
   "metadata": {},
   "outputs": [],
   "source": [
    "zona_centro = ['Centro', 'Fundinho', 'Nossa Senhora Aparecida', 'Martins', 'Osvaldo Rezende', 'Bom Jesus', 'Brasil', 'Cazeca', 'Lídice', 'Daniel Fonseca', 'Tabajaras']\n",
    "\n",
    "zona_norte = ['Presidente Roosevelt', 'Jardim Brasília', 'São José', 'Marta Helena', 'Pacaembu', 'Santa Rosa', 'Residencial Gramado', 'Nossa Senhora das Graças', 'Minas Gerais', 'Distrito Industrial', 'Maravilha']\n",
    "\n",
    "zona_oeste = ['Jaraguá', 'Planalto', 'Chácaras Tubalina', 'Chácaras Panorama', 'Luizote de Freitas', 'Jardim das Palmeiras', 'Jardim Patrícia', 'Jardim Holanda', 'Jardim Europa', 'Jardim Canaã', 'Mansour', 'Dona Zulmira', 'Taiaman', 'Guarani', 'Tocantins', 'Morada do Sol', 'Monte Hebron', 'Residencial Pequis', 'Morada Nova']\n",
    "\n",
    "zona_sul = ['Jardim Botânico', 'Copacabana', 'Jardim Colina', 'Residencial Viviane', 'Tubalina', 'Cidade Jardim', 'Nova Uberlândia', 'Patrimônio', 'Morada da Colina', 'Vigilato Pereira', 'Saraiva', 'Lagoinha', 'Carajás', 'Pampulha', 'Jardim Karaíba', 'Jardim Inconfidência', 'Santa Luzia', 'Granada', 'São Jorge', 'Laranjeiras', 'Shopping Park', 'Jardim Sul', 'Gávea']\n",
    "\n",
    "zona_leste = ['Santa Mônica', 'Bosque dos Buritis', 'Tibery', 'Segismundo Pereira', 'Umuarama', 'Alto Umuarama', 'Custódio Pereira', 'Aclimação', 'Mansões Aeroporto', 'Alvorada', 'Novo Mundo', 'Morumbi', 'Residencial Integração', 'Morada dos Pássaros', 'Jardim Ipanema', 'Portal do Vale', 'Granja Marileusa', 'Grand Ville']"
   ]
  },
  {
   "cell_type": "code",
   "execution_count": 25,
   "id": "15428193-fe63-436c-a144-4601df7a11e6",
   "metadata": {},
   "outputs": [],
   "source": [
    "# Processo de one-hot encoding\n",
    "df.loc[:,'centro'] = df['Neighborhood'].apply(lambda x: 1 if x in zona_centro else 0)\n",
    "df.loc[:,'norte'] = df['Neighborhood'].apply(lambda x: 1 if x in zona_norte else 0)\n",
    "df.loc[:,'oeste'] = df['Neighborhood'].apply(lambda x: 1 if x in zona_oeste else 0)\n",
    "df.loc[:,'sul'] = df['Neighborhood'].apply(lambda x: 1 if x in zona_sul else 0)\n",
    "df.loc[:,'leste'] = df['Neighborhood'].apply(lambda x: 1 if x in zona_leste else 0)"
   ]
  },
  {
   "cell_type": "code",
   "execution_count": 26,
   "id": "7b366fae-d2bf-46fc-b7eb-5055f3e8cc23",
   "metadata": {},
   "outputs": [
    {
     "data": {
      "text/plain": [
       "(1602, 10)"
      ]
     },
     "execution_count": 26,
     "metadata": {},
     "output_type": "execute_result"
    }
   ],
   "source": [
    "# Removendo colunas que não vão mais ser utilizadas\n",
    "df.drop(['Square_meters','Neighborhood','City'], axis=1, inplace=True)\n",
    "df.reset_index(drop=True, inplace=True)\n",
    "df.shape\n"
   ]
  },
  {
   "cell_type": "markdown",
   "id": "4855b293-b441-433f-bbdb-ef727ee5bcd3",
   "metadata": {},
   "source": [
    "## 2. Separando Dados"
   ]
  },
  {
   "cell_type": "code",
   "execution_count": 27,
   "id": "ee279def-ab2f-4b30-8c8f-0440ba186a67",
   "metadata": {},
   "outputs": [],
   "source": [
    "predictors_train, predictors_test, target_train, target_test = train_test_split(\n",
    "    df.drop(['Rent_price'], axis=1),\n",
    "    df['Rent_price'],\n",
    "    test_size = 0.25,\n",
    "    random_state = 123  \n",
    ")"
   ]
  },
  {
   "cell_type": "code",
   "execution_count": 28,
   "id": "1a89b2c7-b2fb-4a40-ada8-09468a0c0dfe",
   "metadata": {},
   "outputs": [
    {
     "data": {
      "text/plain": [
       "(1201, 9)"
      ]
     },
     "execution_count": 28,
     "metadata": {},
     "output_type": "execute_result"
    }
   ],
   "source": [
    "predictors_train.shape"
   ]
  },
  {
   "cell_type": "code",
   "execution_count": 29,
   "id": "a63e9961-b668-4337-b260-f7e0067be0cb",
   "metadata": {},
   "outputs": [
    {
     "data": {
      "text/plain": [
       "(401, 9)"
      ]
     },
     "execution_count": 29,
     "metadata": {},
     "output_type": "execute_result"
    }
   ],
   "source": [
    "predictors_test.shape"
   ]
  },
  {
   "cell_type": "code",
   "execution_count": 30,
   "id": "bae92d84-76e7-473c-bcad-3189b378999f",
   "metadata": {},
   "outputs": [
    {
     "data": {
      "text/plain": [
       "(1201,)"
      ]
     },
     "execution_count": 30,
     "metadata": {},
     "output_type": "execute_result"
    }
   ],
   "source": [
    "target_train.shape"
   ]
  },
  {
   "cell_type": "code",
   "execution_count": 31,
   "id": "bc5b287f-7677-4307-9b9c-93ee17e01afe",
   "metadata": {},
   "outputs": [
    {
     "data": {
      "text/plain": [
       "(401,)"
      ]
     },
     "execution_count": 31,
     "metadata": {},
     "output_type": "execute_result"
    }
   ],
   "source": [
    "target_test.shape"
   ]
  },
  {
   "cell_type": "markdown",
   "id": "8c5ddb08-4fb3-4239-ae8e-0f2b165754c5",
   "metadata": {},
   "source": [
    "## 3. Treinamento de Modelo"
   ]
  },
  {
   "cell_type": "code",
   "execution_count": 32,
   "id": "e247ee8d-665a-4743-bfcd-df8a42fe77f0",
   "metadata": {},
   "outputs": [],
   "source": [
    "model = LinearRegression()"
   ]
  },
  {
   "cell_type": "code",
   "execution_count": 33,
   "id": "c3029e75-ebba-4edd-8b69-1e9a016d5bff",
   "metadata": {},
   "outputs": [],
   "source": [
    "model = model.fit(predictors_train, target_train)"
   ]
  },
  {
   "cell_type": "code",
   "execution_count": 34,
   "id": "c497327b-15de-40e8-af5f-3ffc6f991dfc",
   "metadata": {},
   "outputs": [
    {
     "data": {
      "text/plain": [
       "{'fit_intercept': True,\n",
       " 'copy_X': True,\n",
       " 'n_jobs': None,\n",
       " 'positive': False,\n",
       " 'feature_names_in_': array(['Bedrooms', 'Garage', 'Bathrooms', 'Square_meters_std', 'centro',\n",
       "        'norte', 'oeste', 'sul', 'leste'], dtype=object),\n",
       " 'n_features_in_': 9,\n",
       " 'coef_': array([ 189.58762156,  105.02366042,  403.5645249 ,  678.94650559,\n",
       "         162.3358574 , -242.2400061 ,   96.51580209,  588.92659427,\n",
       "         327.86386095]),\n",
       " 'rank_': 9,\n",
       " 'singular_': array([59.95960299, 34.96547747, 26.91108876, 23.99596185, 18.61292543,\n",
       "        16.46792724, 10.88662067,  8.86245597,  0.99619674]),\n",
       " 'intercept_': 1333.8294890393963}"
      ]
     },
     "execution_count": 34,
     "metadata": {},
     "output_type": "execute_result"
    }
   ],
   "source": [
    "model.__dict__"
   ]
  },
  {
   "cell_type": "markdown",
   "id": "e45214a6-b7b7-4bab-9960-30a3c2eaa70e",
   "metadata": {},
   "source": [
    "## 4. Avaliação"
   ]
  },
  {
   "cell_type": "code",
   "execution_count": 35,
   "id": "1b471800-0139-47b6-9dba-964b39da9884",
   "metadata": {},
   "outputs": [],
   "source": [
    "from sklearn.metrics import mean_squared_error\n",
    "import numpy as np"
   ]
  },
  {
   "cell_type": "code",
   "execution_count": 36,
   "id": "39c4b409-f5f1-4cc6-845c-22cbf8c4b422",
   "metadata": {},
   "outputs": [],
   "source": [
    "target_predicted = model.predict(predictors_test)"
   ]
  },
  {
   "cell_type": "code",
   "execution_count": 37,
   "id": "f6e7b15c-57f0-44cf-9b43-4512f594979f",
   "metadata": {},
   "outputs": [
    {
     "data": {
      "text/plain": [
       "array([ 973.29214518, 4060.94662182, 3601.60467387, 4256.12001028,\n",
       "       4487.53735869])"
      ]
     },
     "execution_count": 37,
     "metadata": {},
     "output_type": "execute_result"
    }
   ],
   "source": [
    "target_predicted[0:5]"
   ]
  },
  {
   "cell_type": "code",
   "execution_count": 38,
   "id": "07172125-898a-45eb-bb59-21c1087e1730",
   "metadata": {},
   "outputs": [
    {
     "data": {
      "text/plain": [
       "(401,)"
      ]
     },
     "execution_count": 38,
     "metadata": {},
     "output_type": "execute_result"
    }
   ],
   "source": [
    "target_predicted.shape"
   ]
  },
  {
   "cell_type": "code",
   "execution_count": 39,
   "id": "ed8f51fa-5aa1-4c51-8db3-9f498bf691a5",
   "metadata": {},
   "outputs": [
    {
     "name": "stdout",
     "output_type": "stream",
     "text": [
      "1063.0615628990313\n"
     ]
    }
   ],
   "source": [
    "rmse = np.sqrt(mean_squared_error(target_test, target_predicted))\n",
    "print(rmse)"
   ]
  },
  {
   "cell_type": "code",
   "execution_count": 40,
   "id": "632fe3f8-7513-4d9e-8c1b-798dd10ef9cf",
   "metadata": {},
   "outputs": [],
   "source": [
    "test_data = pd.concat([predictors_test, pd.DataFrame(target_test, columns=['Rent_price'])], axis=1).reset_index(drop=True)\n",
    "test_data['predicted'] = False"
   ]
  },
  {
   "cell_type": "code",
   "execution_count": 41,
   "id": "d739c180-c483-4c43-ae6e-31002e0549da",
   "metadata": {},
   "outputs": [
    {
     "data": {
      "text/html": [
       "<div>\n",
       "<style scoped>\n",
       "    .dataframe tbody tr th:only-of-type {\n",
       "        vertical-align: middle;\n",
       "    }\n",
       "\n",
       "    .dataframe tbody tr th {\n",
       "        vertical-align: top;\n",
       "    }\n",
       "\n",
       "    .dataframe thead th {\n",
       "        text-align: right;\n",
       "    }\n",
       "</style>\n",
       "<table border=\"1\" class=\"dataframe\">\n",
       "  <thead>\n",
       "    <tr style=\"text-align: right;\">\n",
       "      <th></th>\n",
       "      <th>Bedrooms</th>\n",
       "      <th>Garage</th>\n",
       "      <th>Bathrooms</th>\n",
       "      <th>Square_meters_std</th>\n",
       "      <th>centro</th>\n",
       "      <th>norte</th>\n",
       "      <th>oeste</th>\n",
       "      <th>sul</th>\n",
       "      <th>leste</th>\n",
       "      <th>Rent_price</th>\n",
       "      <th>predicted</th>\n",
       "    </tr>\n",
       "  </thead>\n",
       "  <tbody>\n",
       "    <tr>\n",
       "      <th>0</th>\n",
       "      <td>1</td>\n",
       "      <td>0</td>\n",
       "      <td>1</td>\n",
       "      <td>-1.643760</td>\n",
       "      <td>1</td>\n",
       "      <td>0</td>\n",
       "      <td>0</td>\n",
       "      <td>0</td>\n",
       "      <td>0</td>\n",
       "      <td>2200.0</td>\n",
       "      <td>False</td>\n",
       "    </tr>\n",
       "    <tr>\n",
       "      <th>1</th>\n",
       "      <td>3</td>\n",
       "      <td>3</td>\n",
       "      <td>4</td>\n",
       "      <td>0.098225</td>\n",
       "      <td>1</td>\n",
       "      <td>0</td>\n",
       "      <td>0</td>\n",
       "      <td>0</td>\n",
       "      <td>0</td>\n",
       "      <td>2900.0</td>\n",
       "      <td>False</td>\n",
       "    </tr>\n",
       "    <tr>\n",
       "      <th>2</th>\n",
       "      <td>3</td>\n",
       "      <td>2</td>\n",
       "      <td>2</td>\n",
       "      <td>0.765156</td>\n",
       "      <td>1</td>\n",
       "      <td>0</td>\n",
       "      <td>0</td>\n",
       "      <td>0</td>\n",
       "      <td>0</td>\n",
       "      <td>4500.0</td>\n",
       "      <td>False</td>\n",
       "    </tr>\n",
       "    <tr>\n",
       "      <th>3</th>\n",
       "      <td>4</td>\n",
       "      <td>4</td>\n",
       "      <td>3</td>\n",
       "      <td>0.546164</td>\n",
       "      <td>1</td>\n",
       "      <td>0</td>\n",
       "      <td>0</td>\n",
       "      <td>0</td>\n",
       "      <td>0</td>\n",
       "      <td>4800.0</td>\n",
       "      <td>False</td>\n",
       "    </tr>\n",
       "    <tr>\n",
       "      <th>4</th>\n",
       "      <td>3</td>\n",
       "      <td>3</td>\n",
       "      <td>4</td>\n",
       "      <td>0.098225</td>\n",
       "      <td>0</td>\n",
       "      <td>0</td>\n",
       "      <td>0</td>\n",
       "      <td>1</td>\n",
       "      <td>0</td>\n",
       "      <td>5500.0</td>\n",
       "      <td>False</td>\n",
       "    </tr>\n",
       "    <tr>\n",
       "      <th>...</th>\n",
       "      <td>...</td>\n",
       "      <td>...</td>\n",
       "      <td>...</td>\n",
       "      <td>...</td>\n",
       "      <td>...</td>\n",
       "      <td>...</td>\n",
       "      <td>...</td>\n",
       "      <td>...</td>\n",
       "      <td>...</td>\n",
       "      <td>...</td>\n",
       "      <td>...</td>\n",
       "    </tr>\n",
       "    <tr>\n",
       "      <th>396</th>\n",
       "      <td>3</td>\n",
       "      <td>0</td>\n",
       "      <td>2</td>\n",
       "      <td>-0.857379</td>\n",
       "      <td>0</td>\n",
       "      <td>0</td>\n",
       "      <td>0</td>\n",
       "      <td>0</td>\n",
       "      <td>1</td>\n",
       "      <td>2000.0</td>\n",
       "      <td>False</td>\n",
       "    </tr>\n",
       "    <tr>\n",
       "      <th>397</th>\n",
       "      <td>3</td>\n",
       "      <td>4</td>\n",
       "      <td>3</td>\n",
       "      <td>0.795019</td>\n",
       "      <td>0</td>\n",
       "      <td>0</td>\n",
       "      <td>0</td>\n",
       "      <td>0</td>\n",
       "      <td>1</td>\n",
       "      <td>5300.0</td>\n",
       "      <td>False</td>\n",
       "    </tr>\n",
       "    <tr>\n",
       "      <th>398</th>\n",
       "      <td>4</td>\n",
       "      <td>2</td>\n",
       "      <td>3</td>\n",
       "      <td>0.994103</td>\n",
       "      <td>0</td>\n",
       "      <td>0</td>\n",
       "      <td>0</td>\n",
       "      <td>0</td>\n",
       "      <td>1</td>\n",
       "      <td>3900.0</td>\n",
       "      <td>False</td>\n",
       "    </tr>\n",
       "    <tr>\n",
       "      <th>399</th>\n",
       "      <td>3</td>\n",
       "      <td>4</td>\n",
       "      <td>3</td>\n",
       "      <td>-0.051088</td>\n",
       "      <td>0</td>\n",
       "      <td>0</td>\n",
       "      <td>0</td>\n",
       "      <td>1</td>\n",
       "      <td>0</td>\n",
       "      <td>2300.0</td>\n",
       "      <td>False</td>\n",
       "    </tr>\n",
       "    <tr>\n",
       "      <th>400</th>\n",
       "      <td>2</td>\n",
       "      <td>1</td>\n",
       "      <td>2</td>\n",
       "      <td>-1.046508</td>\n",
       "      <td>0</td>\n",
       "      <td>1</td>\n",
       "      <td>0</td>\n",
       "      <td>0</td>\n",
       "      <td>0</td>\n",
       "      <td>1520.0</td>\n",
       "      <td>False</td>\n",
       "    </tr>\n",
       "  </tbody>\n",
       "</table>\n",
       "<p>401 rows × 11 columns</p>\n",
       "</div>"
      ],
      "text/plain": [
       "     Bedrooms  Garage  Bathrooms  Square_meters_std  centro  norte  oeste  \\\n",
       "0           1       0          1          -1.643760       1      0      0   \n",
       "1           3       3          4           0.098225       1      0      0   \n",
       "2           3       2          2           0.765156       1      0      0   \n",
       "3           4       4          3           0.546164       1      0      0   \n",
       "4           3       3          4           0.098225       0      0      0   \n",
       "..        ...     ...        ...                ...     ...    ...    ...   \n",
       "396         3       0          2          -0.857379       0      0      0   \n",
       "397         3       4          3           0.795019       0      0      0   \n",
       "398         4       2          3           0.994103       0      0      0   \n",
       "399         3       4          3          -0.051088       0      0      0   \n",
       "400         2       1          2          -1.046508       0      1      0   \n",
       "\n",
       "     sul  leste  Rent_price  predicted  \n",
       "0      0      0      2200.0      False  \n",
       "1      0      0      2900.0      False  \n",
       "2      0      0      4500.0      False  \n",
       "3      0      0      4800.0      False  \n",
       "4      1      0      5500.0      False  \n",
       "..   ...    ...         ...        ...  \n",
       "396    0      1      2000.0      False  \n",
       "397    0      1      5300.0      False  \n",
       "398    0      1      3900.0      False  \n",
       "399    1      0      2300.0      False  \n",
       "400    0      0      1520.0      False  \n",
       "\n",
       "[401 rows x 11 columns]"
      ]
     },
     "execution_count": 41,
     "metadata": {},
     "output_type": "execute_result"
    }
   ],
   "source": [
    "test_data"
   ]
  },
  {
   "cell_type": "code",
   "execution_count": 42,
   "id": "0b7d0e4c-6988-451d-8eb1-5e1a41c97aeb",
   "metadata": {},
   "outputs": [],
   "source": [
    "prediction_data = pd.concat([predictors_test.reset_index(drop=True), pd.DataFrame(target_predicted, columns=['Rent_price'])], axis=1).reset_index(drop=True)\n",
    "prediction_data['predicted'] = True"
   ]
  },
  {
   "cell_type": "code",
   "execution_count": 43,
   "id": "198e0073-396a-42d5-9d99-b48dc26850c0",
   "metadata": {},
   "outputs": [
    {
     "data": {
      "text/html": [
       "<div>\n",
       "<style scoped>\n",
       "    .dataframe tbody tr th:only-of-type {\n",
       "        vertical-align: middle;\n",
       "    }\n",
       "\n",
       "    .dataframe tbody tr th {\n",
       "        vertical-align: top;\n",
       "    }\n",
       "\n",
       "    .dataframe thead th {\n",
       "        text-align: right;\n",
       "    }\n",
       "</style>\n",
       "<table border=\"1\" class=\"dataframe\">\n",
       "  <thead>\n",
       "    <tr style=\"text-align: right;\">\n",
       "      <th></th>\n",
       "      <th>Bedrooms</th>\n",
       "      <th>Garage</th>\n",
       "      <th>Bathrooms</th>\n",
       "      <th>Square_meters_std</th>\n",
       "      <th>centro</th>\n",
       "      <th>norte</th>\n",
       "      <th>oeste</th>\n",
       "      <th>sul</th>\n",
       "      <th>leste</th>\n",
       "      <th>Rent_price</th>\n",
       "      <th>predicted</th>\n",
       "    </tr>\n",
       "  </thead>\n",
       "  <tbody>\n",
       "    <tr>\n",
       "      <th>0</th>\n",
       "      <td>1</td>\n",
       "      <td>0</td>\n",
       "      <td>1</td>\n",
       "      <td>-1.643760</td>\n",
       "      <td>1</td>\n",
       "      <td>0</td>\n",
       "      <td>0</td>\n",
       "      <td>0</td>\n",
       "      <td>0</td>\n",
       "      <td>973.292145</td>\n",
       "      <td>True</td>\n",
       "    </tr>\n",
       "    <tr>\n",
       "      <th>1</th>\n",
       "      <td>3</td>\n",
       "      <td>3</td>\n",
       "      <td>4</td>\n",
       "      <td>0.098225</td>\n",
       "      <td>1</td>\n",
       "      <td>0</td>\n",
       "      <td>0</td>\n",
       "      <td>0</td>\n",
       "      <td>0</td>\n",
       "      <td>4060.946622</td>\n",
       "      <td>True</td>\n",
       "    </tr>\n",
       "    <tr>\n",
       "      <th>2</th>\n",
       "      <td>3</td>\n",
       "      <td>2</td>\n",
       "      <td>2</td>\n",
       "      <td>0.765156</td>\n",
       "      <td>1</td>\n",
       "      <td>0</td>\n",
       "      <td>0</td>\n",
       "      <td>0</td>\n",
       "      <td>0</td>\n",
       "      <td>3601.604674</td>\n",
       "      <td>True</td>\n",
       "    </tr>\n",
       "    <tr>\n",
       "      <th>3</th>\n",
       "      <td>4</td>\n",
       "      <td>4</td>\n",
       "      <td>3</td>\n",
       "      <td>0.546164</td>\n",
       "      <td>1</td>\n",
       "      <td>0</td>\n",
       "      <td>0</td>\n",
       "      <td>0</td>\n",
       "      <td>0</td>\n",
       "      <td>4256.120010</td>\n",
       "      <td>True</td>\n",
       "    </tr>\n",
       "    <tr>\n",
       "      <th>4</th>\n",
       "      <td>3</td>\n",
       "      <td>3</td>\n",
       "      <td>4</td>\n",
       "      <td>0.098225</td>\n",
       "      <td>0</td>\n",
       "      <td>0</td>\n",
       "      <td>0</td>\n",
       "      <td>1</td>\n",
       "      <td>0</td>\n",
       "      <td>4487.537359</td>\n",
       "      <td>True</td>\n",
       "    </tr>\n",
       "    <tr>\n",
       "      <th>...</th>\n",
       "      <td>...</td>\n",
       "      <td>...</td>\n",
       "      <td>...</td>\n",
       "      <td>...</td>\n",
       "      <td>...</td>\n",
       "      <td>...</td>\n",
       "      <td>...</td>\n",
       "      <td>...</td>\n",
       "      <td>...</td>\n",
       "      <td>...</td>\n",
       "      <td>...</td>\n",
       "    </tr>\n",
       "    <tr>\n",
       "      <th>396</th>\n",
       "      <td>3</td>\n",
       "      <td>0</td>\n",
       "      <td>2</td>\n",
       "      <td>-0.857379</td>\n",
       "      <td>0</td>\n",
       "      <td>0</td>\n",
       "      <td>0</td>\n",
       "      <td>0</td>\n",
       "      <td>1</td>\n",
       "      <td>2455.471114</td>\n",
       "      <td>True</td>\n",
       "    </tr>\n",
       "    <tr>\n",
       "      <th>397</th>\n",
       "      <td>3</td>\n",
       "      <td>4</td>\n",
       "      <td>3</td>\n",
       "      <td>0.795019</td>\n",
       "      <td>0</td>\n",
       "      <td>0</td>\n",
       "      <td>0</td>\n",
       "      <td>0</td>\n",
       "      <td>1</td>\n",
       "      <td>4401.019632</td>\n",
       "      <td>True</td>\n",
       "    </tr>\n",
       "    <tr>\n",
       "      <th>398</th>\n",
       "      <td>4</td>\n",
       "      <td>2</td>\n",
       "      <td>3</td>\n",
       "      <td>0.994103</td>\n",
       "      <td>0</td>\n",
       "      <td>0</td>\n",
       "      <td>0</td>\n",
       "      <td>0</td>\n",
       "      <td>1</td>\n",
       "      <td>4515.727324</td>\n",
       "      <td>True</td>\n",
       "    </tr>\n",
       "    <tr>\n",
       "      <th>399</th>\n",
       "      <td>3</td>\n",
       "      <td>4</td>\n",
       "      <td>3</td>\n",
       "      <td>-0.051088</td>\n",
       "      <td>0</td>\n",
       "      <td>0</td>\n",
       "      <td>0</td>\n",
       "      <td>1</td>\n",
       "      <td>0</td>\n",
       "      <td>4087.620950</td>\n",
       "      <td>True</td>\n",
       "    </tr>\n",
       "    <tr>\n",
       "      <th>400</th>\n",
       "      <td>2</td>\n",
       "      <td>1</td>\n",
       "      <td>2</td>\n",
       "      <td>-1.046508</td>\n",
       "      <td>0</td>\n",
       "      <td>1</td>\n",
       "      <td>0</td>\n",
       "      <td>0</td>\n",
       "      <td>0</td>\n",
       "      <td>1672.394264</td>\n",
       "      <td>True</td>\n",
       "    </tr>\n",
       "  </tbody>\n",
       "</table>\n",
       "<p>401 rows × 11 columns</p>\n",
       "</div>"
      ],
      "text/plain": [
       "     Bedrooms  Garage  Bathrooms  Square_meters_std  centro  norte  oeste  \\\n",
       "0           1       0          1          -1.643760       1      0      0   \n",
       "1           3       3          4           0.098225       1      0      0   \n",
       "2           3       2          2           0.765156       1      0      0   \n",
       "3           4       4          3           0.546164       1      0      0   \n",
       "4           3       3          4           0.098225       0      0      0   \n",
       "..        ...     ...        ...                ...     ...    ...    ...   \n",
       "396         3       0          2          -0.857379       0      0      0   \n",
       "397         3       4          3           0.795019       0      0      0   \n",
       "398         4       2          3           0.994103       0      0      0   \n",
       "399         3       4          3          -0.051088       0      0      0   \n",
       "400         2       1          2          -1.046508       0      1      0   \n",
       "\n",
       "     sul  leste   Rent_price  predicted  \n",
       "0      0      0   973.292145       True  \n",
       "1      0      0  4060.946622       True  \n",
       "2      0      0  3601.604674       True  \n",
       "3      0      0  4256.120010       True  \n",
       "4      1      0  4487.537359       True  \n",
       "..   ...    ...          ...        ...  \n",
       "396    0      1  2455.471114       True  \n",
       "397    0      1  4401.019632       True  \n",
       "398    0      1  4515.727324       True  \n",
       "399    1      0  4087.620950       True  \n",
       "400    0      0  1672.394264       True  \n",
       "\n",
       "[401 rows x 11 columns]"
      ]
     },
     "execution_count": 43,
     "metadata": {},
     "output_type": "execute_result"
    }
   ],
   "source": [
    "prediction_data"
   ]
  },
  {
   "cell_type": "code",
   "execution_count": 44,
   "id": "72b7addd-138e-4dcc-9665-484cc1857fc1",
   "metadata": {},
   "outputs": [],
   "source": [
    "prediction = pd.concat([test_data, prediction_data]).reset_index(drop=True)"
   ]
  },
  {
   "cell_type": "code",
   "execution_count": 45,
   "id": "60afc3d5-0f33-4311-89f0-06980c3acf94",
   "metadata": {},
   "outputs": [
    {
     "name": "stdout",
     "output_type": "stream",
     "text": [
      "     Square_meters_std\n",
      "728           5.334134\n",
      "327           5.334134\n",
      "138           3.233798\n",
      "539           3.233798\n",
      "288           2.974989\n",
      "668           2.974989\n",
      "689           2.974989\n",
      "267           2.974989\n",
      "701           2.755996\n",
      "300           2.755996\n",
      "     Square_meters_std\n",
      "700           -1.64376\n",
      "435           -1.64376\n",
      "458           -1.64376\n",
      "489           -1.64376\n",
      "560           -1.64376\n",
      "570           -1.64376\n",
      "645           -1.64376\n",
      "672           -1.64376\n",
      "682           -1.64376\n",
      "401           -1.64376\n"
     ]
    }
   ],
   "source": [
    "# Ordena o DataFrame pela coluna Square_meters_std do maior para o menor\n",
    "df_sorted = prediction.sort_values(by='Square_meters_std', ascending=False)\n",
    "\n",
    "# Mostra os primeiros 10 maiores valores padronizados\n",
    "print(df_sorted[['Square_meters_std']].head(10))\n",
    "\n",
    "# Mostra os últimos 10 menores valores padronizados\n",
    "print(df_sorted[['Square_meters_std']].tail(10))\n"
   ]
  },
  {
   "cell_type": "code",
   "execution_count": 46,
   "id": "4491f708-3410-4a8b-a420-4b208041b04f",
   "metadata": {},
   "outputs": [],
   "source": [
    "import seaborn as sns"
   ]
  },
  {
   "cell_type": "code",
   "execution_count": 47,
   "id": "c2edbd5a-b311-4423-991f-8a8ebf3f905a",
   "metadata": {
    "scrolled": true
   },
   "outputs": [
    {
     "data": {
      "image/png": "[encoded data removed]",
      "text/plain": [
       "<Figure size 640x480 with 1 Axes>"
      ]
     },
     "metadata": {},
     "output_type": "display_data"
    }
   ],
   "source": [
    "with sns.axes_style('whitegrid'):\n",
    "\n",
    "  \n",
    "  sns.scatterplot(data=prediction,x='Square_meters_std', y='Rent_price', hue='predicted')"
   ]
  },
  {
   "cell_type": "markdown",
   "id": "1929188b-21b4-4931-b878-efc83abfc95d",
   "metadata": {},
   "source": [
    "## 5. Previsão\n",
    "\n",
    "Agora que o modelo está treinado e avaliado, podemos utilizá-lo para fazer previsões com novos dados de entrada."
   ]
  },
  {
   "cell_type": "code",
   "execution_count": 48,
   "id": "04a30f3d-52ef-40f3-b903-7a2f388ab54f",
   "metadata": {},
   "outputs": [
    {
     "name": "stdin",
     "output_type": "stream",
     "text": [
      "Quantidade de quartos da casa:  1\n",
      "Vagas de garagem:  0\n",
      "Quantidade de banheiros da casa:  1\n",
      "M² da casa:  50\n"
     ]
    }
   ],
   "source": [
    "Bedrooms = int(input('Quantidade de quartos da casa: '))\n",
    "Garage = int(input('Vagas de garagem: '))\n",
    "Bathrooms = int(input('Quantidade de banheiros da casa: '))\n",
    "Square_meters = float(input('M² da casa: '))\n",
    "Square_meters_std = (Square_meters - Square_meters_mean) / Square_meters_std"
   ]
  },
  {
   "cell_type": "code",
   "execution_count": 49,
   "id": "e79deb7a-505c-4900-96ae-c0333f278858",
   "metadata": {},
   "outputs": [
    {
     "name": "stdin",
     "output_type": "stream",
     "text": [
      "Selecione a zona da residência:\n",
      "1: Centro\n",
      "2: Norte\n",
      "3: Oeste\n",
      "4: Sul\n",
      "5: Leste\n",
      " Digite o número correspondente à sua zona:  4\n"
     ]
    }
   ],
   "source": [
    "zona = int(input('Selecione a zona da residência:\\n1: Centro\\n2: Norte\\n3: Oeste\\n4: Sul\\n5: Leste\\n Digite o número correspondente à sua zona: '))"
   ]
  },
  {
   "cell_type": "code",
   "execution_count": 50,
   "id": "f2515e0a-b6c4-45ff-b009-7bc254e3f66d",
   "metadata": {},
   "outputs": [],
   "source": [
    "zona_array = [0, 0, 0, 0, 0]\n",
    "\n",
    "if zona == 1:\n",
    "    zona_array[0] = 1\n",
    "elif zona == 2:\n",
    "    zona_array[1] = 1\n",
    "elif zona == 3:\n",
    "    zona_array[2] = 1\n",
    "elif zona == 4:\n",
    "    zona_array[3] = 1\n",
    "elif zona == 5:\n",
    "    zona_array[4] = 1\n",
    "else:\n",
    "    print('Zona inválida. Reinicie o programa e selecione uma zona válida.')"
   ]
  },
  {
   "cell_type": "code",
   "execution_count": 51,
   "id": "d6ed2f9e-8f38-4931-b982-9529181775fa",
   "metadata": {},
   "outputs": [
    {
     "name": "stdout",
     "output_type": "stream",
     "text": [
      "175.1323345817728 -- -1.2455923365165749\n"
     ]
    }
   ],
   "source": [
    "print(f'{Square_meters_mean} -- {Square_meters_std}')"
   ]
  },
  {
   "cell_type": "code",
   "execution_count": 52,
   "id": "0bcabef6-c402-410c-ab7b-a661eebabd36",
   "metadata": {},
   "outputs": [
    {
     "name": "stdout",
     "output_type": "stream",
     "text": [
      "[ 1.          0.          1.         -1.24559234  0.          0.\n",
      "  0.          1.          0.        ]\n"
     ]
    }
   ],
   "source": [
    "house_array = np.array([Bedrooms, Garage, Bathrooms, Square_meters_std] + zona_array)\n",
    "print(house_array)"
   ]
  },
  {
   "cell_type": "code",
   "execution_count": 53,
   "id": "ace37503-04a7-48af-a9c9-3530a7de5501",
   "metadata": {},
   "outputs": [
    {
     "name": "stdout",
     "output_type": "stream",
     "text": [
      "[1670.2176655]\n"
     ]
    },
    {
     "name": "stderr",
     "output_type": "stream",
     "text": [
      "C:\\ProgramData\\miniconda3\\envs\\pydata-book\\lib\\site-packages\\sklearn\\base.py:493: UserWarning: X does not have valid feature names, but LinearRegression was fitted with feature names\n",
      "  warnings.warn(\n"
     ]
    }
   ],
   "source": [
    "rent_price = model.predict(house_array.reshape(1, -1))\n",
    "print(rent_price)"
   ]
  },
  {
   "cell_type": "code",
   "execution_count": null,
   "id": "3deccfde-601b-4b80-b95f-2b7896777a90",
   "metadata": {},
   "outputs": [],
   "source": []
  }
 ],
 "metadata": {
  "kernelspec": {
   "display_name": "Python 3 (ipykernel)",
   "language": "python",
   "name": "python3"
  },
  "language_info": {
   "codemirror_mode": {
    "name": "ipython",
    "version": 3
   },
   "file_extension": ".py",
   "mimetype": "text/x-python",
   "name": "python",
   "nbconvert_exporter": "python",
   "pygments_lexer": "ipython3",
   "version": "3.10.14"
  }
 },
 "nbformat": 4,
 "nbformat_minor": 5
}
