{
 "cells": [
  {
   "cell_type": "code",
   "execution_count": 1,
   "id": "122fcf0f-cfcb-4681-9545-387d50cac168",
   "metadata": {},
   "outputs": [],
   "source": [
    "from fake_useragent import UserAgent\n",
    "\n",
    "import re\n",
    "import numpy as np\n",
    "from bs4 import BeautifulSoup\n",
    "import selenium\n",
    "import pandas as pd\n",
    "\n",
    "from selenium import webdriver\n",
    "from selenium.webdriver.common.by import By\n",
    "from selenium.webdriver.chrome.options import Options\n",
    "from selenium.webdriver.support.ui import WebDriverWait\n",
    "from webdriver_manager.chrome import ChromeDriverManager\n",
    "from selenium.webdriver.support import expected_conditions as EC\n",
    "from selenium.webdriver.chrome.service import Service as ChromeService"
   ]
  },
  {
   "cell_type": "code",
   "execution_count": 2,
   "id": "de023f8e-689f-420b-b8bb-19dda3cd427f",
   "metadata": {},
   "outputs": [],
   "source": [
    "URL = \"https://www.olx.com.br/imoveis/aluguel/casas/estado-mg/regiao-de-uberlandia-e-uberaba/uberlandia\""
   ]
  },
  {
   "cell_type": "code",
   "execution_count": 3,
   "id": "2bfae0f8-862f-4239-9106-bf97be578817",
   "metadata": {},
   "outputs": [],
   "source": [
    "# Configuração do webdriver\n",
    "def setup_webdriver():\n",
    "    global driver\n",
    "    opts = Options()\n",
    "    opts.add_argument(f\"--user-agent={UserAgent.random}\")\n",
    "    \n",
    "    driver = webdriver.Chrome(\n",
    "        service=ChromeService(ChromeDriverManager().install()), options=opts \n",
    "    )\n",
    "    driver.maximize_window()\n",
    "    return driver"
   ]
  },
  {
   "cell_type": "code",
   "execution_count": 4,
   "id": "3d7357e6-abbf-45d4-9115-ec8dafe0f65d",
   "metadata": {},
   "outputs": [],
   "source": [
    "# Abre a página controlada pelo webdriver\n",
    "def open_ad_page(driver, url: str = URL,):\n",
    "    driver.get(url)"
   ]
  },
  {
   "cell_type": "code",
   "execution_count": 5,
   "id": "f0b0fb61-249d-4e1b-8fab-1e53803af0e2",
   "metadata": {},
   "outputs": [],
   "source": [
    "# Procura um elemento na página e espera até que ele esteja clicável\n",
    "def find_element_with_implicit_wait(by, value, driver, TIMEOUT=10):\n",
    "    try:\n",
    "        return WebDriverWait(driver, TIMEOUT).until(EC.element_to_be_clickable((by, value)))\n",
    "    except Exception as e:\n",
    "        print(f'ERRO AO ENCONTRAR EM TEMPO LIMITE({TIMEOUT}s): {e.__class__} - {e.__repr__()}')\n",
    "        return None"
   ]
  },
  {
   "cell_type": "code",
   "execution_count": 6,
   "id": "70121bdd-1afe-4414-93e3-56b046e260d8",
   "metadata": {},
   "outputs": [],
   "source": [
    "# Encontra um elemento e realiza um clique nele\n",
    "def find_element_and_click(by, value, driver):\n",
    "    element = find_element_with_implicit_wait(by, value, driver)\n",
    "    if element:\n",
    "        element.click()"
   ]
  },
  {
   "cell_type": "code",
   "execution_count": 7,
   "id": "59fc1316-7cee-4095-9c55-c657c66a9eee",
   "metadata": {},
   "outputs": [],
   "source": [
    "# Altera o layout de visualização da página\n",
    "def click_change_layout(driver):\n",
    "    XPATH = '/html/body/div[1]/div[1]/main/div/div[2]/main/div[3]/div[1]/div[2]/button[2]'\n",
    "    find_element_and_click(by=By.XPATH, value=XPATH, driver=driver)"
   ]
  },
  {
   "cell_type": "code",
   "execution_count": 8,
   "id": "2afd495a-cffe-4968-944a-2984c0621d54",
   "metadata": {},
   "outputs": [],
   "source": [
    "# Coleta os dados de anúncios de casas da página atual\n",
    "def coleta(driver):\n",
    "    house_list = list()\n",
    "    soup = BeautifulSoup(driver.page_source, \"html.parser\")\n",
    "    all_houses = soup.find_all(\n",
    "        \"section\", attrs={\"class\": \"olx-ad-card olx-ad-card--vertical\"}\n",
    "    )\n",
    "\n",
    "    for house in all_houses:\n",
    "        house_prices = house.find(\n",
    "            \"h3\", attrs={\"class\": re.compile(r\"\\bolx-ad-card__price\\b\")}\n",
    "        )\n",
    "        if house_prices:\n",
    "            house_prices = house_prices.text\n",
    "            house_prices = house_prices.replace(\"R$\", \" \").strip()\n",
    "        else:\n",
    "            house_prices = np.nan\n",
    "\n",
    "        square_meters = house.find(\n",
    "            \"span\", attrs={\"aria-label\": re.compile(r\"quadrado?\")}\n",
    "        )\n",
    "        garage = house.find(\"span\", attrs={\"aria-label\": re.compile(r\"garagem\")})\n",
    "        bathroom = house.find(\"span\", attrs={\"aria-label\": re.compile(r\"banheiro?\")})\n",
    "        bedroom = house.find(\"span\", attrs={\"aria-label\": re.compile(r\"quarto?\")})\n",
    "        address = house.find(\n",
    "            \"p\",\n",
    "            attrs={\n",
    "                \"class\": \"olx-text olx-text--caption olx-text--block olx-text--regular\"\n",
    "            },\n",
    "        )\n",
    "\n",
    "        if square_meters:\n",
    "            square_meters = square_meters.text\n",
    "            square_meters = square_meters.replace(\"m²\", \" \").strip()\n",
    "        else:\n",
    "            square_meters = np.nan\n",
    "\n",
    "        if garage:\n",
    "            garage = garage.text\n",
    "            garage = garage.replace(\"+\", \" \").strip()\n",
    "        else:\n",
    "            garage = 0\n",
    "\n",
    "        if bathroom:\n",
    "            bathroom = bathroom.text\n",
    "            bathroom = bathroom.replace(\"+\", \" \").strip()\n",
    "        else:\n",
    "            bathroom = np.nan\n",
    "\n",
    "        if bedroom:\n",
    "            bedroom = bedroom.text\n",
    "            bedroom = bedroom.replace(\"+\", \" \").strip()\n",
    "        else:\n",
    "            bedroom = np.nan\n",
    "\n",
    "        if address:\n",
    "            address = address.text\n",
    "            address = address.split(\",\")\n",
    "            try:\n",
    "                city = address[0].strip()\n",
    "                neighborhood = address[1].strip()\n",
    "            except IndexError:\n",
    "                continue\n",
    "\n",
    "        else:\n",
    "            city = np.nan\n",
    "            neighborhood = np.nan\n",
    "\n",
    "        house_list.append(\n",
    "            [house_prices, bedroom, square_meters, garage, bathroom, city, neighborhood]\n",
    "        )\n",
    "\n",
    "    return house_list"
   ]
  },
  {
   "cell_type": "code",
   "execution_count": 9,
   "id": "fac9779c-3e5b-4068-bc1a-c8d62209f4dc",
   "metadata": {},
   "outputs": [],
   "source": [
    "# Altera a página atual para a próxima página\n",
    "def click_change_page(driver, current_page):\n",
    "    try:\n",
    "        next_page = current_page + 1\n",
    "        new_url = f\"https://www.olx.com.br/imoveis/aluguel/casas/estado-mg/regiao-de-uberlandia-e-uberaba/uberlandia?o={next_page}\"\n",
    "        driver.get(new_url)\n",
    "        return True\n",
    "    except Exception as e:\n",
    "        print(f'ERRO AO IR PARA PRÓXIMA PÁGINA: {e.__class__} - {e.__repr__()}')\n",
    "        return False\n",
    "        "
   ]
  },
  {
   "cell_type": "code",
   "execution_count": 10,
   "id": "f3ce1fb6-c8cd-4660-8f5b-9455de886270",
   "metadata": {},
   "outputs": [
    {
     "name": "stdout",
     "output_type": "stream",
     "text": [
      "ERRO AO ENCONTRAR EM TEMPO LIMITE(10s): <class 'selenium.common.exceptions.NoSuchWindowException'> - NoSuchWindowException()\n"
     ]
    },
    {
     "ename": "NoSuchWindowException",
     "evalue": "Message: no such window: target window already closed\nfrom unknown error: web view not found\n  (Session info: chrome=126.0.6478.128)\nStacktrace:\n\tGetHandleVerifier [0x0090C203+27395]\n\t(No symbol) [0x008A3E04]\n\t(No symbol) [0x007A1B7F]\n\t(No symbol) [0x0077E483]\n\t(No symbol) [0x0080A06F]\n\t(No symbol) [0x0081C3D6]\n\t(No symbol) [0x00803736]\n\t(No symbol) [0x007D7541]\n\t(No symbol) [0x007D80BD]\n\tGetHandleVerifier [0x00BC3AB3+2876339]\n\tGetHandleVerifier [0x00C17F7D+3221629]\n\tGetHandleVerifier [0x0098D674+556916]\n\tGetHandleVerifier [0x0099478C+585868]\n\t(No symbol) [0x008ACE44]\n\t(No symbol) [0x008A9858]\n\t(No symbol) [0x008A99F7]\n\t(No symbol) [0x0089BF4E]\n\tBaseThreadInitThunk [0x75DAFA29+25]\n\tRtlGetAppContainerNamedObjectPath [0x77AE75F4+228]\n\tRtlGetAppContainerNamedObjectPath [0x77AE75C4+180]\n",
     "output_type": "error",
     "traceback": [
      "\u001b[1;31m---------------------------------------------------------------------------\u001b[0m",
      "\u001b[1;31mNoSuchWindowException\u001b[0m                     Traceback (most recent call last)",
      "Cell \u001b[1;32mIn[10], line 8\u001b[0m\n\u001b[0;32m      5\u001b[0m data \u001b[39m=\u001b[39m \u001b[39mlist\u001b[39m()\n\u001b[0;32m      7\u001b[0m \u001b[39mfor\u001b[39;00m current_page \u001b[39min\u001b[39;00m \u001b[39mrange\u001b[39m(\u001b[39m1\u001b[39m, \u001b[39m52\u001b[39m):\n\u001b[1;32m----> 8\u001b[0m     data \u001b[39m+\u001b[39m\u001b[39m=\u001b[39m coleta(driver)\n\u001b[0;32m      9\u001b[0m     \u001b[39mif\u001b[39;00m \u001b[39mnot\u001b[39;00m click_change_page(driver, current_page):\n\u001b[0;32m     10\u001b[0m         \u001b[39mbreak\u001b[39;00m\n",
      "Cell \u001b[1;32mIn[8], line 4\u001b[0m, in \u001b[0;36mcoleta\u001b[1;34m(driver)\u001b[0m\n\u001b[0;32m      2\u001b[0m \u001b[39mdef\u001b[39;00m \u001b[39mcoleta\u001b[39m(driver):\n\u001b[0;32m      3\u001b[0m     house_list \u001b[39m=\u001b[39m \u001b[39mlist\u001b[39m()\n\u001b[1;32m----> 4\u001b[0m     soup \u001b[39m=\u001b[39m BeautifulSoup(driver\u001b[39m.\u001b[39;49mpage_source, \u001b[39m\"\u001b[39m\u001b[39mhtml.parser\u001b[39m\u001b[39m\"\u001b[39m)\n\u001b[0;32m      5\u001b[0m     all_houses \u001b[39m=\u001b[39m soup\u001b[39m.\u001b[39mfind_all(\n\u001b[0;32m      6\u001b[0m         \u001b[39m\"\u001b[39m\u001b[39msection\u001b[39m\u001b[39m\"\u001b[39m, attrs\u001b[39m=\u001b[39m{\u001b[39m\"\u001b[39m\u001b[39mclass\u001b[39m\u001b[39m\"\u001b[39m: \u001b[39m\"\u001b[39m\u001b[39molx-ad-card olx-ad-card--vertical\u001b[39m\u001b[39m\"\u001b[39m}\n\u001b[0;32m      7\u001b[0m     )\n\u001b[0;32m      9\u001b[0m     \u001b[39mfor\u001b[39;00m house \u001b[39min\u001b[39;00m all_houses:\n",
      "File \u001b[1;32mc:\\ProgramData\\miniconda3\\envs\\pydata-book\\lib\\site-packages\\selenium\\webdriver\\remote\\webdriver.py:448\u001b[0m, in \u001b[0;36mWebDriver.page_source\u001b[1;34m(self)\u001b[0m\n\u001b[0;32m    439\u001b[0m \u001b[39m@property\u001b[39m\n\u001b[0;32m    440\u001b[0m \u001b[39mdef\u001b[39;00m \u001b[39mpage_source\u001b[39m(\u001b[39mself\u001b[39m) \u001b[39m-\u001b[39m\u001b[39m>\u001b[39m \u001b[39mstr\u001b[39m:\n\u001b[0;32m    441\u001b[0m \u001b[39m    \u001b[39m\u001b[39m\"\"\"Gets the source of the current page.\u001b[39;00m\n\u001b[0;32m    442\u001b[0m \n\u001b[0;32m    443\u001b[0m \u001b[39m    :Usage:\u001b[39;00m\n\u001b[1;32m   (...)\u001b[0m\n\u001b[0;32m    446\u001b[0m \u001b[39m            driver.page_source\u001b[39;00m\n\u001b[0;32m    447\u001b[0m \u001b[39m    \"\"\"\u001b[39;00m\n\u001b[1;32m--> 448\u001b[0m     \u001b[39mreturn\u001b[39;00m \u001b[39mself\u001b[39;49m\u001b[39m.\u001b[39;49mexecute(Command\u001b[39m.\u001b[39;49mGET_PAGE_SOURCE)[\u001b[39m\"\u001b[39m\u001b[39mvalue\u001b[39m\u001b[39m\"\u001b[39m]\n",
      "File \u001b[1;32mc:\\ProgramData\\miniconda3\\envs\\pydata-book\\lib\\site-packages\\selenium\\webdriver\\remote\\webdriver.py:347\u001b[0m, in \u001b[0;36mWebDriver.execute\u001b[1;34m(self, driver_command, params)\u001b[0m\n\u001b[0;32m    345\u001b[0m response \u001b[39m=\u001b[39m \u001b[39mself\u001b[39m\u001b[39m.\u001b[39mcommand_executor\u001b[39m.\u001b[39mexecute(driver_command, params)\n\u001b[0;32m    346\u001b[0m \u001b[39mif\u001b[39;00m response:\n\u001b[1;32m--> 347\u001b[0m     \u001b[39mself\u001b[39;49m\u001b[39m.\u001b[39;49merror_handler\u001b[39m.\u001b[39;49mcheck_response(response)\n\u001b[0;32m    348\u001b[0m     response[\u001b[39m\"\u001b[39m\u001b[39mvalue\u001b[39m\u001b[39m\"\u001b[39m] \u001b[39m=\u001b[39m \u001b[39mself\u001b[39m\u001b[39m.\u001b[39m_unwrap_value(response\u001b[39m.\u001b[39mget(\u001b[39m\"\u001b[39m\u001b[39mvalue\u001b[39m\u001b[39m\"\u001b[39m, \u001b[39mNone\u001b[39;00m))\n\u001b[0;32m    349\u001b[0m     \u001b[39mreturn\u001b[39;00m response\n",
      "File \u001b[1;32mc:\\ProgramData\\miniconda3\\envs\\pydata-book\\lib\\site-packages\\selenium\\webdriver\\remote\\errorhandler.py:229\u001b[0m, in \u001b[0;36mErrorHandler.check_response\u001b[1;34m(self, response)\u001b[0m\n\u001b[0;32m    227\u001b[0m         alert_text \u001b[39m=\u001b[39m value[\u001b[39m\"\u001b[39m\u001b[39malert\u001b[39m\u001b[39m\"\u001b[39m]\u001b[39m.\u001b[39mget(\u001b[39m\"\u001b[39m\u001b[39mtext\u001b[39m\u001b[39m\"\u001b[39m)\n\u001b[0;32m    228\u001b[0m     \u001b[39mraise\u001b[39;00m exception_class(message, screen, stacktrace, alert_text)  \u001b[39m# type: ignore[call-arg]  # mypy is not smart enough here\u001b[39;00m\n\u001b[1;32m--> 229\u001b[0m \u001b[39mraise\u001b[39;00m exception_class(message, screen, stacktrace)\n",
      "\u001b[1;31mNoSuchWindowException\u001b[0m: Message: no such window: target window already closed\nfrom unknown error: web view not found\n  (Session info: chrome=126.0.6478.128)\nStacktrace:\n\tGetHandleVerifier [0x0090C203+27395]\n\t(No symbol) [0x008A3E04]\n\t(No symbol) [0x007A1B7F]\n\t(No symbol) [0x0077E483]\n\t(No symbol) [0x0080A06F]\n\t(No symbol) [0x0081C3D6]\n\t(No symbol) [0x00803736]\n\t(No symbol) [0x007D7541]\n\t(No symbol) [0x007D80BD]\n\tGetHandleVerifier [0x00BC3AB3+2876339]\n\tGetHandleVerifier [0x00C17F7D+3221629]\n\tGetHandleVerifier [0x0098D674+556916]\n\tGetHandleVerifier [0x0099478C+585868]\n\t(No symbol) [0x008ACE44]\n\t(No symbol) [0x008A9858]\n\t(No symbol) [0x008A99F7]\n\t(No symbol) [0x0089BF4E]\n\tBaseThreadInitThunk [0x75DAFA29+25]\n\tRtlGetAppContainerNamedObjectPath [0x77AE75F4+228]\n\tRtlGetAppContainerNamedObjectPath [0x77AE75C4+180]\n"
     ]
    }
   ],
   "source": [
    "# Inicia o webdriver e coleta os dados\n",
    "driver = setup_webdriver()\n",
    "open_ad_page(driver)\n",
    "click_change_layout(driver)\n",
    "data = list()\n",
    "\n",
    "for current_page in range(1, 52):\n",
    "    data += coleta(driver)\n",
    "    if not click_change_page(driver, current_page):\n",
    "        break"
   ]
  },
  {
   "cell_type": "code",
   "execution_count": null,
   "id": "61d13916-58d0-4178-87ee-449825073000",
   "metadata": {},
   "outputs": [],
   "source": [
    "columns_name = ['Rent_price', 'Bedrooms', 'Square_meters', 'Garage', 'Bathrooms', 'City', 'Neighborhood']\n",
    "df = pd.DataFrame(data, columns=columns_name)"
   ]
  },
  {
   "cell_type": "code",
   "execution_count": null,
   "id": "7f61de01-787e-41a7-87d0-ab22907dd61c",
   "metadata": {},
   "outputs": [],
   "source": [
    "# Salva em um arquivo CSV\n",
    "namefile_csv = 'rent_house_price_da.csv'\n",
    "df.to_csv(namefile_csv, index=False)"
   ]
  },
  {
   "cell_type": "code",
   "execution_count": null,
   "id": "118b8e6b-e279-4fe1-9ed9-0446e33ff52c",
   "metadata": {},
   "outputs": [],
   "source": [
    "driver.quit()"
   ]
  }
 ],
 "metadata": {
  "kernelspec": {
   "display_name": "Python 3 (ipykernel)",
   "language": "python",
   "name": "python3"
  },
  "language_info": {
   "codemirror_mode": {
    "name": "ipython",
    "version": 3
   },
   "file_extension": ".py",
   "mimetype": "text/x-python",
   "name": "python",
   "nbconvert_exporter": "python",
   "pygments_lexer": "ipython3",
   "version": "3.10.14"
  }
 },
 "nbformat": 4,
 "nbformat_minor": 5
}
