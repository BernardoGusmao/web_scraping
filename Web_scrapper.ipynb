{
 "cells": [
  {
   "cell_type": "code",
   "execution_count": 1,
   "id": "122fcf0f-cfcb-4681-9545-387d50cac168",
   "metadata": {},
   "outputs": [],
   "source": [
    "from fake_useragent import UserAgent\n",
    "\n",
    "import re\n",
    "import numpy as np\n",
    "from bs4 import BeautifulSoup\n",
    "import selenium\n",
    "import pandas as pd\n",
    "\n",
    "from selenium import webdriver\n",
    "from selenium.webdriver.common.by import By\n",
    "from selenium.webdriver.chrome.options import Options\n",
    "from selenium.webdriver.support.ui import WebDriverWait\n",
    "from webdriver_manager.chrome import ChromeDriverManager\n",
    "from selenium.webdriver.support import expected_conditions as EC\n",
    "from selenium.webdriver.chrome.service import Service as ChromeService"
   ]
  },
  {
   "cell_type": "code",
   "execution_count": 15,
   "id": "de023f8e-689f-420b-b8bb-19dda3cd427f",
   "metadata": {},
   "outputs": [],
   "source": [
    "URL = \"https://www.olx.com.br/imoveis/aluguel/casas/estado-mg/regiao-de-uberlandia-e-uberaba/uberlandia\""
   ]
  },
  {
   "cell_type": "code",
   "execution_count": 16,
   "id": "2bfae0f8-862f-4239-9106-bf97be578817",
   "metadata": {},
   "outputs": [],
   "source": [
    "# Configuração do webdriver\n",
    "def setup_webdriver():\n",
    "    global driver\n",
    "    opts = Options()\n",
    "    opts.add_argument(f\"--user-agent={UserAgent.random}\")\n",
    "    \n",
    "    driver = webdriver.Chrome(\n",
    "        service=ChromeService(ChromeDriverManager().install()), options=opts \n",
    "    )\n",
    "    driver.maximize_window()\n",
    "    return driver"
   ]
  },
  {
   "cell_type": "code",
   "execution_count": 17,
   "id": "3d7357e6-abbf-45d4-9115-ec8dafe0f65d",
   "metadata": {},
   "outputs": [],
   "source": [
    "# Abre a página controlada pelo webdriver\n",
    "def open_ad_page(driver, url: str = URL,):\n",
    "    driver.get(url)"
   ]
  },
  {
   "cell_type": "code",
   "execution_count": 18,
   "id": "f0b0fb61-249d-4e1b-8fab-1e53803af0e2",
   "metadata": {},
   "outputs": [],
   "source": [
    "# Procura um elemento na página e espera até que ele esteja clicável\n",
    "def find_element_with_implicit_wait(by, value, driver, TIMEOUT=10):\n",
    "    try:\n",
    "        return WebDriverWait(driver, TIMEOUT).until(EC.element_to_be_clickable((by, value)))\n",
    "    except Exception as e:\n",
    "        print(f'ERRO AO ENCONTRAR EM TEMPO LIMITE({TIMEOUT}s): {e.__class__} - {e.__repr__()}')\n",
    "        return None"
   ]
  },
  {
   "cell_type": "code",
   "execution_count": 19,
   "id": "70121bdd-1afe-4414-93e3-56b046e260d8",
   "metadata": {},
   "outputs": [],
   "source": [
    "# Encontra um elemento e realiza um clique nele\n",
    "def find_element_and_click(by, value, driver):\n",
    "    element = find_element_with_implicit_wait(by, value, driver)\n",
    "    if element:\n",
    "        element.click()"
   ]
  },
  {
   "cell_type": "code",
   "execution_count": 20,
   "id": "59fc1316-7cee-4095-9c55-c657c66a9eee",
   "metadata": {},
   "outputs": [],
   "source": [
    "# Altera o layout de visualização da página\n",
    "def click_change_layout(driver):\n",
    "    XPATH = '/html/body/div[1]/div[1]/main/div/div[2]/main/div[3]/div[1]/div[2]/button[2]'\n",
    "    find_element_and_click(by=By.XPATH, value=XPATH, driver=driver)"
   ]
  },
  {
   "cell_type": "code",
   "execution_count": 21,
   "id": "2afd495a-cffe-4968-944a-2984c0621d54",
   "metadata": {},
   "outputs": [],
   "source": [
    "# Coleta os dados de anúncios de casas da página atual\n",
    "def coleta(driver):\n",
    "    house_list = list()\n",
    "    soup = BeautifulSoup(driver.page_source, \"html.parser\")\n",
    "    all_houses = soup.find_all(\n",
    "        \"section\", attrs={\"class\": \"olx-ad-card olx-ad-card--vertical\"}\n",
    "    )\n",
    "\n",
    "    for house in all_houses:\n",
    "        house_prices = house.find(\n",
    "            \"h3\", attrs={\"class\": re.compile(r\"\\bolx-ad-card__price\\b\")}\n",
    "        )\n",
    "        if house_prices:\n",
    "            house_prices = house_prices.text\n",
    "            house_prices = house_prices.replace(\"R$\", \" \").strip()\n",
    "        else:\n",
    "            house_prices = np.nan\n",
    "\n",
    "        square_meters = house.find(\n",
    "            \"span\", attrs={\"aria-label\": re.compile(r\"quadrado?\")}\n",
    "        )\n",
    "        garage = house.find(\"span\", attrs={\"aria-label\": re.compile(r\"garagem\")})\n",
    "        bathroom = house.find(\"span\", attrs={\"aria-label\": re.compile(r\"banheiro?\")})\n",
    "        bedroom = house.find(\"span\", attrs={\"aria-label\": re.compile(r\"quarto?\")})\n",
    "        address = house.find(\n",
    "            \"p\",\n",
    "            attrs={\n",
    "                \"class\": \"olx-text olx-text--caption olx-text--block olx-text--regular\"\n",
    "            },\n",
    "        )\n",
    "\n",
    "        if square_meters:\n",
    "            square_meters = square_meters.text\n",
    "            square_meters = square_meters.replace(\"m²\", \" \").strip()\n",
    "        else:\n",
    "            square_meters = np.nan\n",
    "\n",
    "        if garage:\n",
    "            garage = garage.text\n",
    "            garage = garage.replace(\"+\", \" \").strip()\n",
    "        else:\n",
    "            garage = 0\n",
    "\n",
    "        if bathroom:\n",
    "            bathroom = bathroom.text\n",
    "            bathroom = bathroom.replace(\"+\", \" \").strip()\n",
    "        else:\n",
    "            bathroom = np.nan\n",
    "\n",
    "        if bedroom:\n",
    "            bedroom = bedroom.text\n",
    "            bedroom = bedroom.replace(\"+\", \" \").strip()\n",
    "        else:\n",
    "            bedroom = np.nan\n",
    "\n",
    "        if address:\n",
    "            address = address.text\n",
    "            address = address.split(\",\")\n",
    "            try:\n",
    "                city = address[0].strip()\n",
    "                neighborhood = address[1].strip()\n",
    "            except IndexError:\n",
    "                continue\n",
    "\n",
    "        else:\n",
    "            city = np.nan\n",
    "            neighborhood = np.nan\n",
    "\n",
    "        house_list.append(\n",
    "            [house_prices, bedroom, square_meters, garage, bathroom, city, neighborhood]\n",
    "        )\n",
    "\n",
    "    return house_list"
   ]
  },
  {
   "cell_type": "code",
   "execution_count": 22,
   "id": "fac9779c-3e5b-4068-bc1a-c8d62209f4dc",
   "metadata": {},
   "outputs": [],
   "source": [
    "# Altera a página atual para a próxima página\n",
    "def click_change_page(driver, current_page):\n",
    "    try:\n",
    "        next_page = current_page + 1\n",
    "        new_url = f\"https://www.olx.com.br/imoveis/aluguel/casas/estado-mg/regiao-de-uberlandia-e-uberaba/uberlandia?o={next_page}\"\n",
    "        driver.get(new_url)\n",
    "        return True\n",
    "    except Exception as e:\n",
    "        print(f'ERRO AO IR PARA PRÓXIMA PÁGINA: {e.__class__} - {e.__repr__()}')\n",
    "        return False\n",
    "        "
   ]
  },
  {
   "cell_type": "code",
   "execution_count": 23,
   "id": "f3ce1fb6-c8cd-4660-8f5b-9455de886270",
   "metadata": {},
   "outputs": [],
   "source": [
    "# Inicia o webdriver e coleta os dados\n",
    "driver = setup_webdriver()\n",
    "open_ad_page(driver)\n",
    "click_change_layout(driver)\n",
    "data = list()\n",
    "\n",
    "for current_page in range(1, 52):\n",
    "    data += coleta(driver)\n",
    "    if not click_change_page(driver, current_page):\n",
    "        break"
   ]
  },
  {
   "cell_type": "code",
   "execution_count": 24,
   "id": "61d13916-58d0-4178-87ee-449825073000",
   "metadata": {},
   "outputs": [],
   "source": [
    "columns_name = ['Rent_price', 'Bedrooms', 'Square_meters', 'Garage', 'Bathrooms', 'City', 'Neighborhood']\n",
    "df = pd.DataFrame(data, columns=columns_name)"
   ]
  },
  {
   "cell_type": "code",
   "execution_count": 25,
   "id": "7f61de01-787e-41a7-87d0-ab22907dd61c",
   "metadata": {},
   "outputs": [],
   "source": [
    "# Salva em um arquivo CSV\n",
    "namefile_csv = 'rent_house_price_da.csv'\n",
    "df.to_csv(namefile_csv, index=False)"
   ]
  },
  {
   "cell_type": "code",
   "execution_count": 26,
   "id": "118b8e6b-e279-4fe1-9ed9-0446e33ff52c",
   "metadata": {},
   "outputs": [],
   "source": [
    "driver.quit()"
   ]
  }
 ],
 "metadata": {
  "kernelspec": {
   "display_name": "Python 3 (ipykernel)",
   "language": "python",
   "name": "python3"
  },
  "language_info": {
   "codemirror_mode": {
    "name": "ipython",
    "version": 3
   },
   "file_extension": ".py",
   "mimetype": "text/x-python",
   "name": "python",
   "nbconvert_exporter": "python",
   "pygments_lexer": "ipython3",
   "version": "3.10.14"
  }
 },
 "nbformat": 4,
 "nbformat_minor": 5
}
